{
 "cells": [
  {
   "cell_type": "code",
   "execution_count": 1,
   "metadata": {},
   "outputs": [
    {
     "name": "stderr",
     "output_type": "stream",
     "text": [
      "Using TensorFlow backend.\n"
     ]
    }
   ],
   "source": [
    "import pandas as pd\n",
    "import numpy as np\n",
    "from sklearn.metrics import classification_report\n",
    "from keras.models import Sequential\n",
    "from keras.layers.core import Flatten, Dense, Dropout\n",
    "from keras.layers.convolutional import Convolution2D, MaxPooling2D, ZeroPadding2D\n",
    "from keras.optimizers import SGD\n",
    "import cv2\n",
    "import keras\n",
    "from keras.utils import np_utils\n",
    "from keras.utils.np_utils import to_categorical\n",
    "from sklearn.metrics import confusion_matrix\n",
    "import seaborn as sns\n",
    "from sklearn.model_selection import train_test_split\n",
    "import matplotlib.pyplot as plt"
   ]
  },
  {
   "cell_type": "code",
   "execution_count": 2,
   "metadata": {
    "scrolled": true
   },
   "outputs": [
    {
     "data": {
      "text/html": [
       "<div>\n",
       "<style scoped>\n",
       "    .dataframe tbody tr th:only-of-type {\n",
       "        vertical-align: middle;\n",
       "    }\n",
       "\n",
       "    .dataframe tbody tr th {\n",
       "        vertical-align: top;\n",
       "    }\n",
       "\n",
       "    .dataframe thead th {\n",
       "        text-align: right;\n",
       "    }\n",
       "</style>\n",
       "<table border=\"1\" class=\"dataframe\">\n",
       "  <thead>\n",
       "    <tr style=\"text-align: right;\">\n",
       "      <th></th>\n",
       "      <th>age</th>\n",
       "      <th>ethnicity</th>\n",
       "      <th>gender</th>\n",
       "      <th>img_name</th>\n",
       "      <th>pixels</th>\n",
       "    </tr>\n",
       "  </thead>\n",
       "  <tbody>\n",
       "    <tr>\n",
       "      <th>0</th>\n",
       "      <td>1</td>\n",
       "      <td>2</td>\n",
       "      <td>0</td>\n",
       "      <td>20161219203650636.jpg.chip.jpg</td>\n",
       "      <td>129 128 128 126 127 130 133 135 139 142 145 14...</td>\n",
       "    </tr>\n",
       "    <tr>\n",
       "      <th>1</th>\n",
       "      <td>1</td>\n",
       "      <td>2</td>\n",
       "      <td>0</td>\n",
       "      <td>20161219222752047.jpg.chip.jpg</td>\n",
       "      <td>164 74 111 168 169 171 175 182 184 188 193 199...</td>\n",
       "    </tr>\n",
       "    <tr>\n",
       "      <th>2</th>\n",
       "      <td>1</td>\n",
       "      <td>2</td>\n",
       "      <td>0</td>\n",
       "      <td>20161219222832191.jpg.chip.jpg</td>\n",
       "      <td>67 70 71 70 69 67 70 79 90 103 116 132 145 155...</td>\n",
       "    </tr>\n",
       "  </tbody>\n",
       "</table>\n",
       "</div>"
      ],
      "text/plain": [
       "   age  ethnicity  gender                        img_name  \\\n",
       "0    1          2       0  20161219203650636.jpg.chip.jpg   \n",
       "1    1          2       0  20161219222752047.jpg.chip.jpg   \n",
       "2    1          2       0  20161219222832191.jpg.chip.jpg   \n",
       "\n",
       "                                              pixels  \n",
       "0  129 128 128 126 127 130 133 135 139 142 145 14...  \n",
       "1  164 74 111 168 169 171 175 182 184 188 193 199...  \n",
       "2  67 70 71 70 69 67 70 79 90 103 116 132 145 155...  "
      ]
     },
     "execution_count": 2,
     "metadata": {},
     "output_type": "execute_result"
    }
   ],
   "source": [
    "age_data = pd.read_csv('/Users/blakemyers/Desktop/age_gender.csv')\n",
    "age_data.head(3)"
   ]
  },
  {
   "cell_type": "code",
   "execution_count": 3,
   "metadata": {},
   "outputs": [],
   "source": [
    "def label_age (row):\n",
    "    if row['age'] > 0 and row['age'] < 8:\n",
    "        return 0\n",
    "    elif row['age'] > 7 and row['age'] < 16:\n",
    "        return 1\n",
    "    elif row['age'] > 15 and row['age'] < 26:\n",
    "        return 2\n",
    "    elif row['age'] > 25 and row['age'] < 36:\n",
    "        return 3\n",
    "    elif row['age'] > 35 and row['age'] < 46:\n",
    "        return 4\n",
    "    elif row['age'] > 45 and row['age'] < 66:\n",
    "        return 5\n",
    "    else:\n",
    "        return 6"
   ]
  },
  {
   "cell_type": "code",
   "execution_count": 4,
   "metadata": {},
   "outputs": [],
   "source": [
    "age_data['AgeGroup'] = age_data.apply (lambda row: label_age(row), axis=1)"
   ]
  },
  {
   "cell_type": "code",
   "execution_count": 5,
   "metadata": {},
   "outputs": [
    {
     "data": {
      "text/html": [
       "<div>\n",
       "<style scoped>\n",
       "    .dataframe tbody tr th:only-of-type {\n",
       "        vertical-align: middle;\n",
       "    }\n",
       "\n",
       "    .dataframe tbody tr th {\n",
       "        vertical-align: top;\n",
       "    }\n",
       "\n",
       "    .dataframe thead th {\n",
       "        text-align: right;\n",
       "    }\n",
       "</style>\n",
       "<table border=\"1\" class=\"dataframe\">\n",
       "  <thead>\n",
       "    <tr style=\"text-align: right;\">\n",
       "      <th></th>\n",
       "      <th>age</th>\n",
       "      <th>ethnicity</th>\n",
       "      <th>gender</th>\n",
       "      <th>img_name</th>\n",
       "      <th>pixels</th>\n",
       "      <th>AgeGroup</th>\n",
       "    </tr>\n",
       "  </thead>\n",
       "  <tbody>\n",
       "    <tr>\n",
       "      <th>0</th>\n",
       "      <td>1</td>\n",
       "      <td>2</td>\n",
       "      <td>0</td>\n",
       "      <td>20161219203650636.jpg.chip.jpg</td>\n",
       "      <td>129 128 128 126 127 130 133 135 139 142 145 14...</td>\n",
       "      <td>0</td>\n",
       "    </tr>\n",
       "    <tr>\n",
       "      <th>1</th>\n",
       "      <td>1</td>\n",
       "      <td>2</td>\n",
       "      <td>0</td>\n",
       "      <td>20161219222752047.jpg.chip.jpg</td>\n",
       "      <td>164 74 111 168 169 171 175 182 184 188 193 199...</td>\n",
       "      <td>0</td>\n",
       "    </tr>\n",
       "    <tr>\n",
       "      <th>2</th>\n",
       "      <td>1</td>\n",
       "      <td>2</td>\n",
       "      <td>0</td>\n",
       "      <td>20161219222832191.jpg.chip.jpg</td>\n",
       "      <td>67 70 71 70 69 67 70 79 90 103 116 132 145 155...</td>\n",
       "      <td>0</td>\n",
       "    </tr>\n",
       "  </tbody>\n",
       "</table>\n",
       "</div>"
      ],
      "text/plain": [
       "   age  ethnicity  gender                        img_name  \\\n",
       "0    1          2       0  20161219203650636.jpg.chip.jpg   \n",
       "1    1          2       0  20161219222752047.jpg.chip.jpg   \n",
       "2    1          2       0  20161219222832191.jpg.chip.jpg   \n",
       "\n",
       "                                              pixels  AgeGroup  \n",
       "0  129 128 128 126 127 130 133 135 139 142 145 14...         0  \n",
       "1  164 74 111 168 169 171 175 182 184 188 193 199...         0  \n",
       "2  67 70 71 70 69 67 70 79 90 103 116 132 145 155...         0  "
      ]
     },
     "execution_count": 5,
     "metadata": {},
     "output_type": "execute_result"
    }
   ],
   "source": [
    "age_data.head(3)"
   ]
  },
  {
   "cell_type": "code",
   "execution_count": 6,
   "metadata": {},
   "outputs": [],
   "source": [
    "X = []\n",
    "y = []\n",
    "for index, row in age_data.iterrows():\n",
    "    k = row['pixels'].split(\" \")\n",
    "    X.append(np.array(k))\n",
    "    y.append(row['AgeGroup'])\n",
    "        \n",
    "X_train, X_valid, y_train, y_valid = train_test_split(X, y, train_size=0.9, random_state=42)\n",
    "X_train, X_test, y_train, y_test = train_test_split(X_train, y_train, train_size=0.8/0.9, random_state=42)"
   ]
  },
  {
   "cell_type": "code",
   "execution_count": 7,
   "metadata": {},
   "outputs": [],
   "source": [
    "X_train = np.array(X_train)\n",
    "y_train = np.array(y_train)\n",
    "X_valid = np.array(X_valid)\n",
    "y_valid = np.array(y_valid)\n",
    "X_test = np.array(X_test)\n",
    "y_test = np.array(y_test)\n",
    "\n",
    "X_train = X_train.reshape(X_train.shape[0], 48, 48, 1)\n",
    "X_valid = X_valid.reshape(X_valid.shape[0], 48, 48, 1)\n",
    "X_test = X_test.reshape(X_test.shape[0], 48, 48, 1)\n",
    "\n",
    "y_train = np_utils.to_categorical(y_train, num_classes = 7)\n",
    "y_valid = np_utils.to_categorical(y_valid, num_classes = 7)\n",
    "y_test = np_utils.to_categorical(y_test, num_classes = 7)"
   ]
  },
  {
   "cell_type": "code",
   "execution_count": 8,
   "metadata": {},
   "outputs": [
    {
     "data": {
      "text/plain": [
       "(18963, 48, 48, 1)"
      ]
     },
     "execution_count": 8,
     "metadata": {},
     "output_type": "execute_result"
    }
   ],
   "source": [
    "X_train.shape"
   ]
  },
  {
   "cell_type": "code",
   "execution_count": 9,
   "metadata": {},
   "outputs": [
    {
     "data": {
      "text/plain": [
       "(2371, 48, 48, 1)"
      ]
     },
     "execution_count": 9,
     "metadata": {},
     "output_type": "execute_result"
    }
   ],
   "source": [
    "X_valid.shape"
   ]
  },
  {
   "cell_type": "code",
   "execution_count": 10,
   "metadata": {},
   "outputs": [
    {
     "data": {
      "text/plain": [
       "(2371, 48, 48, 1)"
      ]
     },
     "execution_count": 10,
     "metadata": {},
     "output_type": "execute_result"
    }
   ],
   "source": [
    "X_test.shape"
   ]
  },
  {
   "cell_type": "code",
   "execution_count": 11,
   "metadata": {},
   "outputs": [],
   "source": [
    "model = Sequential()\n",
    "model.add(ZeroPadding2D((1,1),input_shape=(48,48,1)))\n",
    "model.add(Convolution2D(64, (3, 3), activation=\"relu\"))\n",
    "model.add(ZeroPadding2D((1,1)))\n",
    "model.add(Convolution2D(64, (3, 3), activation=\"relu\"))\n",
    "model.add(MaxPooling2D((2,2), strides=(2,2)))\n",
    "\n",
    "model.add(ZeroPadding2D((1,1)))\n",
    "model.add(Convolution2D(128, (3, 3), activation=\"relu\"))\n",
    "model.add(ZeroPadding2D((1,1)))\n",
    "model.add(Convolution2D(128, (3, 3), activation=\"relu\"))\n",
    "model.add(MaxPooling2D((2,2), strides=(2,2)))\n",
    "\n",
    "model.add(ZeroPadding2D((1,1)))\n",
    "model.add(Convolution2D(256, (3, 3), activation=\"relu\"))\n",
    "model.add(ZeroPadding2D((1,1)))\n",
    "model.add(Convolution2D(256, (3, 3), activation=\"relu\"))\n",
    "model.add(ZeroPadding2D((1,1)))\n",
    "model.add(Convolution2D(256, (3, 3), activation=\"relu\"))\n",
    "model.add(MaxPooling2D((2,2), strides=(2,2)))\n",
    "\n",
    "model.add(ZeroPadding2D((1,1)))\n",
    "model.add(Convolution2D(512, (3, 3), activation=\"relu\"))\n",
    "model.add(ZeroPadding2D((1,1)))\n",
    "model.add(Convolution2D(512, (3, 3), activation=\"relu\"))\n",
    "model.add(ZeroPadding2D((1,1)))\n",
    "model.add(Convolution2D(512, (3, 3), activation=\"relu\"))\n",
    "model.add(MaxPooling2D((2,2), strides=(2,2)))\n",
    "\n",
    "model.add(ZeroPadding2D((1,1)))\n",
    "model.add(Convolution2D(512, (3, 3), activation=\"relu\"))\n",
    "model.add(ZeroPadding2D((1,1)))\n",
    "model.add(Convolution2D(512, (3, 3), activation=\"relu\"))\n",
    "model.add(ZeroPadding2D((1,1)))\n",
    "model.add(Convolution2D(512, (3, 3), activation=\"relu\"))\n",
    "model.add(MaxPooling2D((2,2), strides=(2,2)))\n",
    "\n",
    "model.add(Flatten())\n",
    "model.add(Dense(4096, activation='relu'))\n",
    "model.add(Dropout(0.5))\n",
    "model.add(Dense(4096, activation='relu'))\n",
    "model.add(Dropout(0.5))\n",
    "model.add(Dense(7, activation='softmax'))"
   ]
  },
  {
   "cell_type": "code",
   "execution_count": 12,
   "metadata": {},
   "outputs": [],
   "source": [
    "model.compile(optimizer='sgd',loss='categorical_crossentropy',metrics=['accuracy'])"
   ]
  },
  {
   "cell_type": "code",
   "execution_count": 13,
   "metadata": {},
   "outputs": [
    {
     "name": "stdout",
     "output_type": "stream",
     "text": [
      "Train on 18963 samples, validate on 2371 samples\n",
      "Epoch 1/30\n",
      "18963/18963 [==============================] - 1223s 64ms/step - loss: 1.7946 - accuracy: 0.3142 - val_loss: 1.7212 - val_accuracy: 0.3226\n",
      "Epoch 2/30\n",
      "18963/18963 [==============================] - 1287s 68ms/step - loss: 1.5692 - accuracy: 0.3911 - val_loss: 1.3633 - val_accuracy: 0.4479\n",
      "Epoch 3/30\n",
      "18963/18963 [==============================] - 1280s 67ms/step - loss: 1.3370 - accuracy: 0.4653 - val_loss: 1.2638 - val_accuracy: 0.4829\n",
      "Epoch 4/30\n",
      "18963/18963 [==============================] - 1180s 62ms/step - loss: 1.2206 - accuracy: 0.4964 - val_loss: 1.2026 - val_accuracy: 0.4901\n",
      "Epoch 5/30\n",
      "18963/18963 [==============================] - 1160s 61ms/step - loss: 1.1276 - accuracy: 0.5310 - val_loss: 1.1314 - val_accuracy: 0.5377\n",
      "Epoch 6/30\n",
      "18963/18963 [==============================] - 1164s 61ms/step - loss: 1.0630 - accuracy: 0.5555 - val_loss: 1.0879 - val_accuracy: 0.5441\n",
      "Epoch 7/30\n",
      "18963/18963 [==============================] - 1168s 62ms/step - loss: 1.0074 - accuracy: 0.5696 - val_loss: 1.0315 - val_accuracy: 0.5711\n",
      "Epoch 8/30\n",
      "18963/18963 [==============================] - 1160s 61ms/step - loss: 0.9564 - accuracy: 0.5922 - val_loss: 1.0422 - val_accuracy: 0.5643\n",
      "Epoch 9/30\n",
      "18963/18963 [==============================] - 1162s 61ms/step - loss: 0.9113 - accuracy: 0.6099 - val_loss: 1.0325 - val_accuracy: 0.5791\n",
      "Epoch 10/30\n",
      "18963/18963 [==============================] - 1162s 61ms/step - loss: 0.8544 - accuracy: 0.6355 - val_loss: 1.0756 - val_accuracy: 0.5677\n",
      "Epoch 11/30\n",
      "18963/18963 [==============================] - 1169s 62ms/step - loss: 0.8086 - accuracy: 0.6551 - val_loss: 1.0315 - val_accuracy: 0.5888\n",
      "Epoch 12/30\n",
      "18963/18963 [==============================] - 1172s 62ms/step - loss: 0.7583 - accuracy: 0.6774 - val_loss: 1.2591 - val_accuracy: 0.5247\n",
      "Epoch 13/30\n",
      "18963/18963 [==============================] - 1192s 63ms/step - loss: 0.7113 - accuracy: 0.6983 - val_loss: 1.1002 - val_accuracy: 0.5474\n",
      "Epoch 14/30\n",
      "18963/18963 [==============================] - 1146s 60ms/step - loss: 0.6607 - accuracy: 0.7178 - val_loss: 1.1193 - val_accuracy: 0.5934\n",
      "Epoch 15/30\n",
      "18963/18963 [==============================] - 1507s 79ms/step - loss: 0.6165 - accuracy: 0.7445 - val_loss: 1.1056 - val_accuracy: 0.5858\n",
      "Epoch 16/30\n",
      "18963/18963 [==============================] - 1275s 67ms/step - loss: 0.5642 - accuracy: 0.7662 - val_loss: 1.2255 - val_accuracy: 0.5757\n",
      "Epoch 17/30\n",
      "18963/18963 [==============================] - 1281s 68ms/step - loss: 0.5261 - accuracy: 0.7874 - val_loss: 1.3702 - val_accuracy: 0.5563\n",
      "Epoch 18/30\n",
      "18963/18963 [==============================] - 1296s 68ms/step - loss: 0.4845 - accuracy: 0.8057 - val_loss: 1.3965 - val_accuracy: 0.5508\n",
      "Epoch 19/30\n",
      "18963/18963 [==============================] - 1271s 67ms/step - loss: 0.4378 - accuracy: 0.8263 - val_loss: 1.4288 - val_accuracy: 0.5698\n",
      "Epoch 20/30\n",
      "18963/18963 [==============================] - 1269s 67ms/step - loss: 0.4019 - accuracy: 0.8412 - val_loss: 1.4803 - val_accuracy: 0.5555\n",
      "Epoch 21/30\n",
      "18963/18963 [==============================] - 1279s 67ms/step - loss: 0.3636 - accuracy: 0.8614 - val_loss: 1.6433 - val_accuracy: 0.5656\n",
      "Epoch 22/30\n",
      "18963/18963 [==============================] - 1258s 66ms/step - loss: 0.3304 - accuracy: 0.8740 - val_loss: 1.6549 - val_accuracy: 0.5601\n",
      "Epoch 23/30\n",
      "18963/18963 [==============================] - 1192s 63ms/step - loss: 0.2966 - accuracy: 0.8884 - val_loss: 1.7574 - val_accuracy: 0.5749\n",
      "Epoch 24/30\n",
      "18963/18963 [==============================] - 1196s 63ms/step - loss: 0.2760 - accuracy: 0.8967 - val_loss: 1.8441 - val_accuracy: 0.5778\n",
      "Epoch 25/30\n",
      "18963/18963 [==============================] - 1198s 63ms/step - loss: 0.2469 - accuracy: 0.9095 - val_loss: 1.9474 - val_accuracy: 0.5584\n",
      "Epoch 26/30\n",
      "18963/18963 [==============================] - 1196s 63ms/step - loss: 0.2217 - accuracy: 0.9211 - val_loss: 1.8738 - val_accuracy: 0.5597\n",
      "Epoch 27/30\n",
      "18963/18963 [==============================] - 1200s 63ms/step - loss: 0.2118 - accuracy: 0.9255 - val_loss: 1.8949 - val_accuracy: 0.5643\n",
      "Epoch 28/30\n",
      "18963/18963 [==============================] - 1202s 63ms/step - loss: 0.1856 - accuracy: 0.9372 - val_loss: 2.1904 - val_accuracy: 0.5673\n",
      "Epoch 29/30\n",
      "18963/18963 [==============================] - 1197s 63ms/step - loss: 0.1778 - accuracy: 0.9394 - val_loss: 2.0009 - val_accuracy: 0.5854\n",
      "Epoch 30/30\n",
      "18963/18963 [==============================] - 1198s 63ms/step - loss: 0.1651 - accuracy: 0.9443 - val_loss: 2.2113 - val_accuracy: 0.5787\n"
     ]
    },
    {
     "data": {
      "text/plain": [
       "<keras.callbacks.callbacks.History at 0x7fcaad1be6d0>"
      ]
     },
     "execution_count": 13,
     "metadata": {},
     "output_type": "execute_result"
    }
   ],
   "source": [
    "model.fit(X_train,y_train,batch_size=32,epochs=30,verbose=1,validation_data=(X_valid, y_valid))"
   ]
  },
  {
   "cell_type": "code",
   "execution_count": 14,
   "metadata": {},
   "outputs": [],
   "source": [
    "local_path = '/Users/blakemyers/Desktop/Jupyter/DeepLearning2021/TrainedAge2021VGG16'\n",
    "model.save(local_path)"
   ]
  },
  {
   "cell_type": "code",
   "execution_count": 15,
   "metadata": {},
   "outputs": [
    {
     "name": "stdout",
     "output_type": "stream",
     "text": [
      "              precision    recall  f1-score   support\n",
      "\n",
      "         1-7       0.96      0.84      0.89       241\n",
      "        8-15       0.60      0.58      0.59       121\n",
      "       16-25       0.47      0.54      0.50       367\n",
      "       26-35       0.55      0.61      0.58       735\n",
      "       36-45       0.31      0.26      0.28       305\n",
      "       46-65       0.58      0.57      0.57       429\n",
      "      66-116       0.72      0.53      0.61       173\n",
      "\n",
      "    accuracy                           0.56      2371\n",
      "   macro avg       0.60      0.56      0.58      2371\n",
      "weighted avg       0.57      0.56      0.56      2371\n",
      "\n"
     ]
    }
   ],
   "source": [
    "Y_test = np.argmax(y_test, axis=1)\n",
    "y_pred = model.predict_classes(X_test)\n",
    "target_names = ['1-7', '8-15', '16-25', '26-35', '36-45', '46-65', '66-116']\n",
    "print(classification_report(Y_test, y_pred, target_names = target_names))"
   ]
  },
  {
   "cell_type": "code",
   "execution_count": 16,
   "metadata": {},
   "outputs": [
    {
     "name": "stdout",
     "output_type": "stream",
     "text": [
      "[[202  26   9   2   1   1   0]\n",
      " [  9  70  26   9   2   5   0]\n",
      " [  0   8 197 151  10   1   0]\n",
      " [  0   7 161 449  84  34   0]\n",
      " [  0   1  17 135  80  70   2]\n",
      " [  0   2  10  64  76 244  33]\n",
      " [  0   2   1   5   8  66  91]]\n"
     ]
    }
   ],
   "source": [
    "cm = confusion_matrix(y_test.argmax(axis=1), y_pred)\n",
    "print(cm)"
   ]
  },
  {
   "cell_type": "code",
   "execution_count": 18,
   "metadata": {},
   "outputs": [
    {
     "data": {
      "image/png": "[encoded data removed]",
      "text/plain": [
       "<Figure size 504x504 with 2 Axes>"
      ]
     },
     "metadata": {
      "needs_background": "light"
     },
     "output_type": "display_data"
    }
   ],
   "source": [
    "fig,ax= plt.subplots(figsize=(7,7))\n",
    "sns.heatmap(cm / (cm.astype(np.float).sum(axis=1, keepdims=True)), annot=True, fmt='.1%', cmap='Blues')\n",
    "ax.set_xlabel('Predicted', size=20);\n",
    "ax.set_ylabel('True', size=20);\n",
    "ax.set_title('Confusion Matrix', size=20);\n",
    "ax.xaxis.set_ticklabels(target_names, size=10); \\\n",
    "ax.yaxis.set_ticklabels(target_names, size=10);"
   ]
  },
  {
   "cell_type": "code",
   "execution_count": null,
   "metadata": {},
   "outputs": [],
   "source": []
  }
 ],
 "metadata": {
  "kernelspec": {
   "display_name": "Python 3",
   "language": "python",
   "name": "python3"
  },
  "language_info": {
   "codemirror_mode": {
    "name": "ipython",
    "version": 3
   },
   "file_extension": ".py",
   "mimetype": "text/x-python",
   "name": "python",
   "nbconvert_exporter": "python",
   "pygments_lexer": "ipython3",
   "version": "3.7.10"
  }
 },
 "nbformat": 4,
 "nbformat_minor": 2
}
