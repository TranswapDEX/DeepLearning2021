{
 "cells": [
  {
   "cell_type": "code",
   "execution_count": 1,
   "metadata": {},
   "outputs": [
    {
     "name": "stderr",
     "output_type": "stream",
     "text": [
      "Using TensorFlow backend.\n"
     ]
    }
   ],
   "source": [
    "import pandas as pd\n",
    "import numpy as np\n",
    "from sklearn.metrics import classification_report\n",
    "from keras.models import Sequential\n",
    "from keras.layers.core import Flatten, Dense, Dropout\n",
    "from keras.layers.convolutional import Convolution2D, MaxPooling2D, ZeroPadding2D\n",
    "from keras.optimizers import SGD\n",
    "import cv2\n",
    "import keras\n",
    "from keras.utils import np_utils\n",
    "from keras.utils.np_utils import to_categorical\n",
    "from sklearn.metrics import confusion_matrix\n",
    "import seaborn as sns\n",
    "import matplotlib.pyplot as plt\n",
    "from sklearn.model_selection import train_test_split"
   ]
  },
  {
   "cell_type": "code",
   "execution_count": 2,
   "metadata": {
    "scrolled": true
   },
   "outputs": [
    {
     "data": {
      "text/html": [
       "<div>\n",
       "<style scoped>\n",
       "    .dataframe tbody tr th:only-of-type {\n",
       "        vertical-align: middle;\n",
       "    }\n",
       "\n",
       "    .dataframe tbody tr th {\n",
       "        vertical-align: top;\n",
       "    }\n",
       "\n",
       "    .dataframe thead th {\n",
       "        text-align: right;\n",
       "    }\n",
       "</style>\n",
       "<table border=\"1\" class=\"dataframe\">\n",
       "  <thead>\n",
       "    <tr style=\"text-align: right;\">\n",
       "      <th></th>\n",
       "      <th>age</th>\n",
       "      <th>ethnicity</th>\n",
       "      <th>gender</th>\n",
       "      <th>img_name</th>\n",
       "      <th>pixels</th>\n",
       "    </tr>\n",
       "  </thead>\n",
       "  <tbody>\n",
       "    <tr>\n",
       "      <th>0</th>\n",
       "      <td>1</td>\n",
       "      <td>2</td>\n",
       "      <td>0</td>\n",
       "      <td>20161219203650636.jpg.chip.jpg</td>\n",
       "      <td>129 128 128 126 127 130 133 135 139 142 145 14...</td>\n",
       "    </tr>\n",
       "    <tr>\n",
       "      <th>1</th>\n",
       "      <td>1</td>\n",
       "      <td>2</td>\n",
       "      <td>0</td>\n",
       "      <td>20161219222752047.jpg.chip.jpg</td>\n",
       "      <td>164 74 111 168 169 171 175 182 184 188 193 199...</td>\n",
       "    </tr>\n",
       "    <tr>\n",
       "      <th>2</th>\n",
       "      <td>1</td>\n",
       "      <td>2</td>\n",
       "      <td>0</td>\n",
       "      <td>20161219222832191.jpg.chip.jpg</td>\n",
       "      <td>67 70 71 70 69 67 70 79 90 103 116 132 145 155...</td>\n",
       "    </tr>\n",
       "  </tbody>\n",
       "</table>\n",
       "</div>"
      ],
      "text/plain": [
       "   age  ethnicity  gender                        img_name  \\\n",
       "0    1          2       0  20161219203650636.jpg.chip.jpg   \n",
       "1    1          2       0  20161219222752047.jpg.chip.jpg   \n",
       "2    1          2       0  20161219222832191.jpg.chip.jpg   \n",
       "\n",
       "                                              pixels  \n",
       "0  129 128 128 126 127 130 133 135 139 142 145 14...  \n",
       "1  164 74 111 168 169 171 175 182 184 188 193 199...  \n",
       "2  67 70 71 70 69 67 70 79 90 103 116 132 145 155...  "
      ]
     },
     "execution_count": 2,
     "metadata": {},
     "output_type": "execute_result"
    }
   ],
   "source": [
    "age_data = pd.read_csv('/Users/blakemyers/Desktop/age_gender.csv')\n",
    "age_data.head(3)"
   ]
  },
  {
   "cell_type": "code",
   "execution_count": 3,
   "metadata": {},
   "outputs": [],
   "source": [
    "def label_age (row):\n",
    "    if row['age'] > 0 and row['age'] < 6:\n",
    "        return 0\n",
    "    elif row['age'] > 5 and row['age'] < 13:\n",
    "        return 1\n",
    "    elif row['age'] > 12 and row['age'] < 21:\n",
    "        return 2\n",
    "    elif row['age'] > 20 and row['age'] < 36:\n",
    "        return 3\n",
    "    elif row['age'] > 35 and row['age'] < 51:\n",
    "        return 4\n",
    "    elif row['age'] > 50 and row['age'] < 71:\n",
    "        return 5\n",
    "    else:\n",
    "        return 6"
   ]
  },
  {
   "cell_type": "code",
   "execution_count": 4,
   "metadata": {},
   "outputs": [],
   "source": [
    "age_data['AgeGroup'] = age_data.apply (lambda row: label_age(row), axis=1)"
   ]
  },
  {
   "cell_type": "code",
   "execution_count": 5,
   "metadata": {},
   "outputs": [
    {
     "data": {
      "text/html": [
       "<div>\n",
       "<style scoped>\n",
       "    .dataframe tbody tr th:only-of-type {\n",
       "        vertical-align: middle;\n",
       "    }\n",
       "\n",
       "    .dataframe tbody tr th {\n",
       "        vertical-align: top;\n",
       "    }\n",
       "\n",
       "    .dataframe thead th {\n",
       "        text-align: right;\n",
       "    }\n",
       "</style>\n",
       "<table border=\"1\" class=\"dataframe\">\n",
       "  <thead>\n",
       "    <tr style=\"text-align: right;\">\n",
       "      <th></th>\n",
       "      <th>age</th>\n",
       "      <th>ethnicity</th>\n",
       "      <th>gender</th>\n",
       "      <th>img_name</th>\n",
       "      <th>pixels</th>\n",
       "      <th>AgeGroup</th>\n",
       "    </tr>\n",
       "  </thead>\n",
       "  <tbody>\n",
       "    <tr>\n",
       "      <th>0</th>\n",
       "      <td>1</td>\n",
       "      <td>2</td>\n",
       "      <td>0</td>\n",
       "      <td>20161219203650636.jpg.chip.jpg</td>\n",
       "      <td>129 128 128 126 127 130 133 135 139 142 145 14...</td>\n",
       "      <td>0</td>\n",
       "    </tr>\n",
       "    <tr>\n",
       "      <th>1</th>\n",
       "      <td>1</td>\n",
       "      <td>2</td>\n",
       "      <td>0</td>\n",
       "      <td>20161219222752047.jpg.chip.jpg</td>\n",
       "      <td>164 74 111 168 169 171 175 182 184 188 193 199...</td>\n",
       "      <td>0</td>\n",
       "    </tr>\n",
       "    <tr>\n",
       "      <th>2</th>\n",
       "      <td>1</td>\n",
       "      <td>2</td>\n",
       "      <td>0</td>\n",
       "      <td>20161219222832191.jpg.chip.jpg</td>\n",
       "      <td>67 70 71 70 69 67 70 79 90 103 116 132 145 155...</td>\n",
       "      <td>0</td>\n",
       "    </tr>\n",
       "  </tbody>\n",
       "</table>\n",
       "</div>"
      ],
      "text/plain": [
       "   age  ethnicity  gender                        img_name  \\\n",
       "0    1          2       0  20161219203650636.jpg.chip.jpg   \n",
       "1    1          2       0  20161219222752047.jpg.chip.jpg   \n",
       "2    1          2       0  20161219222832191.jpg.chip.jpg   \n",
       "\n",
       "                                              pixels  AgeGroup  \n",
       "0  129 128 128 126 127 130 133 135 139 142 145 14...         0  \n",
       "1  164 74 111 168 169 171 175 182 184 188 193 199...         0  \n",
       "2  67 70 71 70 69 67 70 79 90 103 116 132 145 155...         0  "
      ]
     },
     "execution_count": 5,
     "metadata": {},
     "output_type": "execute_result"
    }
   ],
   "source": [
    "age_data.head(3)"
   ]
  },
  {
   "cell_type": "code",
   "execution_count": 6,
   "metadata": {},
   "outputs": [],
   "source": [
    "X = []\n",
    "y = []\n",
    "for index, row in age_data.iterrows():\n",
    "    k = row['pixels'].split(\" \")\n",
    "    X.append(np.array(k))\n",
    "    y.append(row['AgeGroup'])\n",
    "        \n",
    "X_train, X_valid, y_train, y_valid = train_test_split(X, y, train_size=0.9, random_state=42)\n",
    "X_train, X_test, y_train, y_test = train_test_split(X_train, y_train, train_size=0.8/0.9, random_state=42)"
   ]
  },
  {
   "cell_type": "code",
   "execution_count": 7,
   "metadata": {},
   "outputs": [],
   "source": [
    "X_train = np.array(X_train)\n",
    "y_train = np.array(y_train)\n",
    "X_valid = np.array(X_valid)\n",
    "y_valid = np.array(y_valid)\n",
    "X_test = np.array(X_test)\n",
    "y_test = np.array(y_test)\n",
    "\n",
    "X_train = X_train.reshape(X_train.shape[0], 48, 48, 1)\n",
    "X_valid = X_valid.reshape(X_valid.shape[0], 48, 48, 1)\n",
    "X_test = X_test.reshape(X_test.shape[0], 48, 48, 1)\n",
    "\n",
    "y_train = np_utils.to_categorical(y_train, num_classes = 7)\n",
    "y_valid = np_utils.to_categorical(y_valid, num_classes = 7)\n",
    "y_test = np_utils.to_categorical(y_test, num_classes = 7)"
   ]
  },
  {
   "cell_type": "code",
   "execution_count": 8,
   "metadata": {},
   "outputs": [
    {
     "data": {
      "text/plain": [
       "(18963, 48, 48, 1)"
      ]
     },
     "execution_count": 8,
     "metadata": {},
     "output_type": "execute_result"
    }
   ],
   "source": [
    "X_train.shape"
   ]
  },
  {
   "cell_type": "code",
   "execution_count": 9,
   "metadata": {},
   "outputs": [
    {
     "data": {
      "text/plain": [
       "(2371, 48, 48, 1)"
      ]
     },
     "execution_count": 9,
     "metadata": {},
     "output_type": "execute_result"
    }
   ],
   "source": [
    "X_valid.shape"
   ]
  },
  {
   "cell_type": "code",
   "execution_count": 10,
   "metadata": {},
   "outputs": [
    {
     "data": {
      "text/plain": [
       "(2371, 48, 48, 1)"
      ]
     },
     "execution_count": 10,
     "metadata": {},
     "output_type": "execute_result"
    }
   ],
   "source": [
    "X_test.shape"
   ]
  },
  {
   "cell_type": "code",
   "execution_count": 11,
   "metadata": {},
   "outputs": [],
   "source": [
    "model = Sequential()\n",
    "model.add(ZeroPadding2D((1,1),input_shape=(48,48,1)))\n",
    "model.add(Convolution2D(64, (3, 3), activation=\"relu\"))\n",
    "model.add(ZeroPadding2D((1,1)))\n",
    "model.add(Convolution2D(64, (3, 3), activation=\"relu\"))\n",
    "model.add(MaxPooling2D((2,2), strides=(2,2)))\n",
    "\n",
    "model.add(ZeroPadding2D((1,1)))\n",
    "model.add(Convolution2D(128, (3, 3), activation=\"relu\"))\n",
    "model.add(ZeroPadding2D((1,1)))\n",
    "model.add(Convolution2D(128, (3, 3), activation=\"relu\"))\n",
    "model.add(MaxPooling2D((2,2), strides=(2,2)))\n",
    "\n",
    "model.add(ZeroPadding2D((1,1)))\n",
    "model.add(Convolution2D(256, (3, 3), activation=\"relu\"))\n",
    "model.add(ZeroPadding2D((1,1)))\n",
    "model.add(Convolution2D(256, (3, 3), activation=\"relu\"))\n",
    "model.add(ZeroPadding2D((1,1)))\n",
    "model.add(Convolution2D(256, (3, 3), activation=\"relu\"))\n",
    "model.add(MaxPooling2D((2,2), strides=(2,2)))\n",
    "\n",
    "model.add(ZeroPadding2D((1,1)))\n",
    "model.add(Convolution2D(512, (3, 3), activation=\"relu\"))\n",
    "model.add(ZeroPadding2D((1,1)))\n",
    "model.add(Convolution2D(512, (3, 3), activation=\"relu\"))\n",
    "model.add(ZeroPadding2D((1,1)))\n",
    "model.add(Convolution2D(512, (3, 3), activation=\"relu\"))\n",
    "model.add(MaxPooling2D((2,2), strides=(2,2)))\n",
    "\n",
    "model.add(ZeroPadding2D((1,1)))\n",
    "model.add(Convolution2D(512, (3, 3), activation=\"relu\"))\n",
    "model.add(ZeroPadding2D((1,1)))\n",
    "model.add(Convolution2D(512, (3, 3), activation=\"relu\"))\n",
    "model.add(ZeroPadding2D((1,1)))\n",
    "model.add(Convolution2D(512, (3, 3), activation=\"relu\"))\n",
    "model.add(MaxPooling2D((2,2), strides=(2,2)))\n",
    "\n",
    "model.add(Flatten())\n",
    "model.add(Dense(4096, activation='relu'))\n",
    "model.add(Dropout(0.5))\n",
    "model.add(Dense(4096, activation='relu'))\n",
    "model.add(Dropout(0.5))\n",
    "model.add(Dense(7, activation='softmax'))"
   ]
  },
  {
   "cell_type": "code",
   "execution_count": 12,
   "metadata": {},
   "outputs": [],
   "source": [
    "model.compile(optimizer='sgd',loss='categorical_crossentropy',metrics=['accuracy'])"
   ]
  },
  {
   "cell_type": "code",
   "execution_count": 13,
   "metadata": {},
   "outputs": [
    {
     "name": "stdout",
     "output_type": "stream",
     "text": [
      "Train on 18963 samples, validate on 2371 samples\n",
      "Epoch 1/30\n",
      "18963/18963 [==============================] - 1181s 62ms/step - loss: 1.6484 - accuracy: 0.4281 - val_loss: 1.5826 - val_accuracy: 0.4466\n",
      "Epoch 2/30\n",
      "18963/18963 [==============================] - 1104s 58ms/step - loss: 1.5072 - accuracy: 0.4663 - val_loss: 1.3498 - val_accuracy: 0.5086\n",
      "Epoch 3/30\n",
      "18963/18963 [==============================] - 1091s 58ms/step - loss: 1.3050 - accuracy: 0.5272 - val_loss: 1.5253 - val_accuracy: 0.4631\n",
      "Epoch 4/30\n",
      "18963/18963 [==============================] - 1093s 58ms/step - loss: 1.1801 - accuracy: 0.5593 - val_loss: 1.1396 - val_accuracy: 0.5652\n",
      "Epoch 5/30\n",
      "18963/18963 [==============================] - 1144s 60ms/step - loss: 1.0907 - accuracy: 0.5872 - val_loss: 1.2042 - val_accuracy: 0.5673\n",
      "Epoch 6/30\n",
      "18963/18963 [==============================] - 1132s 60ms/step - loss: 1.0310 - accuracy: 0.6046 - val_loss: 1.2098 - val_accuracy: 0.5694\n",
      "Epoch 7/30\n",
      "18963/18963 [==============================] - 1098s 58ms/step - loss: 0.9749 - accuracy: 0.6232 - val_loss: 1.0057 - val_accuracy: 0.6297\n",
      "Epoch 8/30\n",
      "18963/18963 [==============================] - 1093s 58ms/step - loss: 0.9235 - accuracy: 0.6420 - val_loss: 0.9983 - val_accuracy: 0.6090\n",
      "Epoch 9/30\n",
      "18963/18963 [==============================] - 1090s 57ms/step - loss: 0.8775 - accuracy: 0.6539 - val_loss: 0.9217 - val_accuracy: 0.6390\n",
      "Epoch 10/30\n",
      "18963/18963 [==============================] - 1089s 57ms/step - loss: 0.8323 - accuracy: 0.6717 - val_loss: 0.9328 - val_accuracy: 0.6204\n",
      "Epoch 11/30\n",
      "18963/18963 [==============================] - 1091s 58ms/step - loss: 0.7837 - accuracy: 0.6873 - val_loss: 1.3725 - val_accuracy: 0.4319\n",
      "Epoch 12/30\n",
      "18963/18963 [==============================] - 1094s 58ms/step - loss: 0.7433 - accuracy: 0.7045 - val_loss: 0.9589 - val_accuracy: 0.6478\n",
      "Epoch 13/30\n",
      "18963/18963 [==============================] - 1154s 61ms/step - loss: 0.7018 - accuracy: 0.7180 - val_loss: 1.1293 - val_accuracy: 0.5445\n",
      "Epoch 14/30\n",
      "18963/18963 [==============================] - 1095s 58ms/step - loss: 0.6597 - accuracy: 0.7325 - val_loss: 0.8896 - val_accuracy: 0.6660\n",
      "Epoch 15/30\n",
      "18963/18963 [==============================] - 1089s 57ms/step - loss: 0.6061 - accuracy: 0.7566 - val_loss: 1.3675 - val_accuracy: 0.5272\n",
      "Epoch 16/30\n",
      "18963/18963 [==============================] - 1088s 57ms/step - loss: 0.5646 - accuracy: 0.7726 - val_loss: 1.0077 - val_accuracy: 0.5993\n",
      "Epoch 17/30\n",
      "18963/18963 [==============================] - 1089s 57ms/step - loss: 0.5189 - accuracy: 0.7948 - val_loss: 1.1646 - val_accuracy: 0.5960\n",
      "Epoch 18/30\n",
      "18963/18963 [==============================] - 1089s 57ms/step - loss: 0.4843 - accuracy: 0.8070 - val_loss: 1.1013 - val_accuracy: 0.6478\n",
      "Epoch 19/30\n",
      "18963/18963 [==============================] - 1089s 57ms/step - loss: 0.4352 - accuracy: 0.8275 - val_loss: 1.1298 - val_accuracy: 0.6639\n",
      "Epoch 20/30\n",
      "18963/18963 [==============================] - 1088s 57ms/step - loss: 0.3876 - accuracy: 0.8503 - val_loss: 1.2125 - val_accuracy: 0.6326\n",
      "Epoch 21/30\n",
      "18963/18963 [==============================] - 1090s 57ms/step - loss: 0.3479 - accuracy: 0.8678 - val_loss: 1.4211 - val_accuracy: 0.6470\n",
      "Epoch 22/30\n",
      "18963/18963 [==============================] - 1085s 57ms/step - loss: 0.3179 - accuracy: 0.8786 - val_loss: 1.4334 - val_accuracy: 0.6310\n",
      "Epoch 23/30\n",
      "18963/18963 [==============================] - 1084s 57ms/step - loss: 0.2936 - accuracy: 0.8899 - val_loss: 1.4103 - val_accuracy: 0.6310\n",
      "Epoch 24/30\n",
      "18963/18963 [==============================] - 1084s 57ms/step - loss: 0.2570 - accuracy: 0.9059 - val_loss: 1.6414 - val_accuracy: 0.5588\n",
      "Epoch 25/30\n",
      "18963/18963 [==============================] - 1083s 57ms/step - loss: 0.2231 - accuracy: 0.9204 - val_loss: 1.5348 - val_accuracy: 0.6529\n",
      "Epoch 26/30\n",
      "18963/18963 [==============================] - 1082s 57ms/step - loss: 0.2003 - accuracy: 0.9283 - val_loss: 1.5124 - val_accuracy: 0.6558\n",
      "Epoch 27/30\n",
      "18963/18963 [==============================] - 1085s 57ms/step - loss: 0.1696 - accuracy: 0.9420 - val_loss: 1.7541 - val_accuracy: 0.6453\n",
      "Epoch 28/30\n",
      "18963/18963 [==============================] - 1084s 57ms/step - loss: 0.1597 - accuracy: 0.9465 - val_loss: 1.9668 - val_accuracy: 0.5930\n",
      "Epoch 29/30\n",
      "18963/18963 [==============================] - 1082s 57ms/step - loss: 0.1640 - accuracy: 0.9460 - val_loss: 1.5331 - val_accuracy: 0.6394\n",
      "Epoch 30/30\n",
      "18963/18963 [==============================] - 1081s 57ms/step - loss: 0.1214 - accuracy: 0.9617 - val_loss: 1.7428 - val_accuracy: 0.6499\n"
     ]
    },
    {
     "data": {
      "text/plain": [
       "<keras.callbacks.callbacks.History at 0x7fa2781abd10>"
      ]
     },
     "execution_count": 13,
     "metadata": {},
     "output_type": "execute_result"
    }
   ],
   "source": [
    "model.fit(X_train,y_train,batch_size=64,epochs=30,verbose=1,validation_data=(X_valid, y_valid))"
   ]
  },
  {
   "cell_type": "code",
   "execution_count": 14,
   "metadata": {},
   "outputs": [],
   "source": [
    "local_path = '/Users/blakemyers/Desktop/Jupyter/DeepLearning2021/TrainedModelTrValTst1'\n",
    "model.save(local_path)"
   ]
  },
  {
   "cell_type": "code",
   "execution_count": 23,
   "metadata": {},
   "outputs": [
    {
     "name": "stdout",
     "output_type": "stream",
     "text": [
      "              precision    recall  f1-score   support\n",
      "\n",
      "         1-5       0.89      0.92      0.90       215\n",
      "        6-12       0.61      0.49      0.54       105\n",
      "       13-20       0.33      0.26      0.29       141\n",
      "       21-35       0.73      0.78      0.75      1003\n",
      "       36-50       0.40      0.31      0.35       408\n",
      "       51-70       0.51      0.54      0.52       369\n",
      "      71-116       0.53      0.68      0.60       130\n",
      "\n",
      "    accuracy                           0.63      2371\n",
      "   macro avg       0.57      0.57      0.57      2371\n",
      "weighted avg       0.61      0.63      0.62      2371\n",
      "\n"
     ]
    }
   ],
   "source": [
    "Y_test = np.argmax(y_test, axis=1)\n",
    "y_pred = model.predict_classes(X_test)\n",
    "target_names = ['1-5','6-12','13-20','21-35', '36-50', '51-70','71-116']\n",
    "\n",
    "print(classification_report(Y_test, y_pred, target_names = target_names))"
   ]
  },
  {
   "cell_type": "code",
   "execution_count": 24,
   "metadata": {},
   "outputs": [
    {
     "name": "stdout",
     "output_type": "stream",
     "text": [
      "[[198  10   0   5   0   1   1]\n",
      " [ 24  51  16   8   0   3   3]\n",
      " [  0  16  37  76   5   5   2]\n",
      " [  0   5  50 783 122  37   6]\n",
      " [  1   2   4 147 127 120   7]\n",
      " [  0   0   5  47  58 201  58]\n",
      " [  0   0   1   7   3  31  88]]\n"
     ]
    }
   ],
   "source": [
    "cm = confusion_matrix(y_test.argmax(axis=1), y_pred)\n",
    "print(cm)"
   ]
  },
  {
   "cell_type": "code",
   "execution_count": 51,
   "metadata": {},
   "outputs": [
    {
     "data": {
      "image/png": "[encoded data removed]",
      "text/plain": [
       "<Figure size 504x504 with 2 Axes>"
      ]
     },
     "metadata": {
      "needs_background": "light"
     },
     "output_type": "display_data"
    }
   ],
   "source": [
    "fig,ax= plt.subplots(figsize=(7,7))\n",
    "sns.heatmap(cm / (cm.astype(np.float).sum(axis=1, keepdims=True)), annot=True, fmt='.1%', cmap='Blues')\n",
    "ax.set_xlabel('Predicted', size=20);\n",
    "ax.set_ylabel('True', size=20);\n",
    "ax.set_title('Confusion Matrix', size=20);\n",
    "ax.xaxis.set_ticklabels(['1-5','6-12','13-20','21-35', '36-50', '51-70','71-116'], size=10); \\\n",
    "ax.yaxis.set_ticklabels(['1-5','6-12','13-20','21-35', '36-50', '51-70','71-116'], size=10);"
   ]
  },
  {
   "cell_type": "code",
   "execution_count": 53,
   "metadata": {},
   "outputs": [
    {
     "data": {
      "image/png": "[encoded data removed]",
      "text/plain": [
       "<Figure size 504x504 with 2 Axes>"
      ]
     },
     "metadata": {
      "needs_background": "light"
     },
     "output_type": "display_data"
    }
   ],
   "source": [
    "fig,ax= plt.subplots(figsize=(7,7))\n",
    "sns.heatmap(cm, annot=True, fmt='.0f', cmap='Blues')\n",
    "ax.set_xlabel('Predicted', size=20);\n",
    "ax.set_ylabel('True', size=20);\n",
    "ax.set_title('Confusion Matrix', size=20);\n",
    "ax.xaxis.set_ticklabels(['1-5','6-12','13-20','21-35', '36-50', '51-70','71-116'], size=10); \\\n",
    "ax.yaxis.set_ticklabels(['1-5','6-12','13-20','21-35', '36-50', '51-70','71-116'], size=10);"
   ]
  },
  {
   "cell_type": "code",
   "execution_count": null,
   "metadata": {},
   "outputs": [],
   "source": []
  }
 ],
 "metadata": {
  "kernelspec": {
   "display_name": "Python 3",
   "language": "python",
   "name": "python3"
  },
  "language_info": {
   "codemirror_mode": {
    "name": "ipython",
    "version": 3
   },
   "file_extension": ".py",
   "mimetype": "text/x-python",
   "name": "python",
   "nbconvert_exporter": "python",
   "pygments_lexer": "ipython3",
   "version": "3.7.10"
  }
 },
 "nbformat": 4,
 "nbformat_minor": 2
}
