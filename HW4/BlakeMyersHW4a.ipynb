{
  "nbformat": 4,
  "nbformat_minor": 0,
  "metadata": {
    "accelerator": "GPU",
    "colab": {
      "name": "Copy of HW4a",
      "provenance": [],
      "collapsed_sections": []
    },
    "kernelspec": {
      "display_name": "Python 3",
      "name": "python3"
    },
    "widgets": {
      "application/vnd.jupyter.widget-state+json": {
        "98112c809fa5496e8f14351bb2170ceb": {
          "model_module": "@jupyter-widgets/controls",
          "model_name": "HBoxModel",
          "state": {
            "_view_name": "HBoxView",
            "_dom_classes": [],
            "_model_name": "HBoxModel",
            "_view_module": "@jupyter-widgets/controls",
            "_model_module_version": "1.5.0",
            "_view_count": null,
            "_view_module_version": "1.5.0",
            "box_style": "",
            "layout": "IPY_MODEL_651298321be44665b568d7993988403b",
            "_model_module": "@jupyter-widgets/controls",
            "children": [
              "IPY_MODEL_224453bd0fbc4312a85a5ce609d2cb7a",
              "IPY_MODEL_039648756e2943698035c4f3f0ac8f13"
            ]
          }
        },
        "651298321be44665b568d7993988403b": {
          "model_module": "@jupyter-widgets/base",
          "model_name": "LayoutModel",
          "state": {
            "_view_name": "LayoutView",
            "grid_template_rows": null,
            "right": null,
            "justify_content": null,
            "_view_module": "@jupyter-widgets/base",
            "overflow": null,
            "_model_module_version": "1.2.0",
            "_view_count": null,
            "flex_flow": null,
            "width": null,
            "min_width": null,
            "border": null,
            "align_items": null,
            "bottom": null,
            "_model_module": "@jupyter-widgets/base",
            "top": null,
            "grid_column": null,
            "overflow_y": null,
            "overflow_x": null,
            "grid_auto_flow": null,
            "grid_area": null,
            "grid_template_columns": null,
            "flex": null,
            "_model_name": "LayoutModel",
            "justify_items": null,
            "grid_row": null,
            "max_height": null,
            "align_content": null,
            "visibility": null,
            "align_self": null,
            "height": null,
            "min_height": null,
            "padding": null,
            "grid_auto_rows": null,
            "grid_gap": null,
            "max_width": null,
            "order": null,
            "_view_module_version": "1.2.0",
            "grid_template_areas": null,
            "object_position": null,
            "object_fit": null,
            "grid_auto_columns": null,
            "margin": null,
            "display": null,
            "left": null
          }
        },
        "224453bd0fbc4312a85a5ce609d2cb7a": {
          "model_module": "@jupyter-widgets/controls",
          "model_name": "FloatProgressModel",
          "state": {
            "_view_name": "ProgressView",
            "style": "IPY_MODEL_c013ff677d4549708ed05a5ae03f2611",
            "_dom_classes": [],
            "description": "",
            "_model_name": "FloatProgressModel",
            "bar_style": "success",
            "max": 26421880,
            "_view_module": "@jupyter-widgets/controls",
            "_model_module_version": "1.5.0",
            "value": 26421880,
            "_view_count": null,
            "_view_module_version": "1.5.0",
            "orientation": "horizontal",
            "min": 0,
            "description_tooltip": null,
            "_model_module": "@jupyter-widgets/controls",
            "layout": "IPY_MODEL_22be59598fba49968a63931ae6fbd7b6"
          }
        },
        "039648756e2943698035c4f3f0ac8f13": {
          "model_module": "@jupyter-widgets/controls",
          "model_name": "HTMLModel",
          "state": {
            "_view_name": "HTMLView",
            "style": "IPY_MODEL_7d3ee172d3774e7ea82194c87b00c753",
            "_dom_classes": [],
            "description": "",
            "_model_name": "HTMLModel",
            "placeholder": "​",
            "_view_module": "@jupyter-widgets/controls",
            "_model_module_version": "1.5.0",
            "value": " 26422272/? [00:56&lt;00:00, 466612.39it/s]",
            "_view_count": null,
            "_view_module_version": "1.5.0",
            "description_tooltip": null,
            "_model_module": "@jupyter-widgets/controls",
            "layout": "IPY_MODEL_c00e1c6abebc499b8d08d1406191e249"
          }
        },
        "c013ff677d4549708ed05a5ae03f2611": {
          "model_module": "@jupyter-widgets/controls",
          "model_name": "ProgressStyleModel",
          "state": {
            "_view_name": "StyleView",
            "_model_name": "ProgressStyleModel",
            "description_width": "initial",
            "_view_module": "@jupyter-widgets/base",
            "_model_module_version": "1.5.0",
            "_view_count": null,
            "_view_module_version": "1.2.0",
            "bar_color": null,
            "_model_module": "@jupyter-widgets/controls"
          }
        },
        "22be59598fba49968a63931ae6fbd7b6": {
          "model_module": "@jupyter-widgets/base",
          "model_name": "LayoutModel",
          "state": {
            "_view_name": "LayoutView",
            "grid_template_rows": null,
            "right": null,
            "justify_content": null,
            "_view_module": "@jupyter-widgets/base",
            "overflow": null,
            "_model_module_version": "1.2.0",
            "_view_count": null,
            "flex_flow": null,
            "width": null,
            "min_width": null,
            "border": null,
            "align_items": null,
            "bottom": null,
            "_model_module": "@jupyter-widgets/base",
            "top": null,
            "grid_column": null,
            "overflow_y": null,
            "overflow_x": null,
            "grid_auto_flow": null,
            "grid_area": null,
            "grid_template_columns": null,
            "flex": null,
            "_model_name": "LayoutModel",
            "justify_items": null,
            "grid_row": null,
            "max_height": null,
            "align_content": null,
            "visibility": null,
            "align_self": null,
            "height": null,
            "min_height": null,
            "padding": null,
            "grid_auto_rows": null,
            "grid_gap": null,
            "max_width": null,
            "order": null,
            "_view_module_version": "1.2.0",
            "grid_template_areas": null,
            "object_position": null,
            "object_fit": null,
            "grid_auto_columns": null,
            "margin": null,
            "display": null,
            "left": null
          }
        },
        "7d3ee172d3774e7ea82194c87b00c753": {
          "model_module": "@jupyter-widgets/controls",
          "model_name": "DescriptionStyleModel",
          "state": {
            "_view_name": "StyleView",
            "_model_name": "DescriptionStyleModel",
            "description_width": "",
            "_view_module": "@jupyter-widgets/base",
            "_model_module_version": "1.5.0",
            "_view_count": null,
            "_view_module_version": "1.2.0",
            "_model_module": "@jupyter-widgets/controls"
          }
        },
        "c00e1c6abebc499b8d08d1406191e249": {
          "model_module": "@jupyter-widgets/base",
          "model_name": "LayoutModel",
          "state": {
            "_view_name": "LayoutView",
            "grid_template_rows": null,
            "right": null,
            "justify_content": null,
            "_view_module": "@jupyter-widgets/base",
            "overflow": null,
            "_model_module_version": "1.2.0",
            "_view_count": null,
            "flex_flow": null,
            "width": null,
            "min_width": null,
            "border": null,
            "align_items": null,
            "bottom": null,
            "_model_module": "@jupyter-widgets/base",
            "top": null,
            "grid_column": null,
            "overflow_y": null,
            "overflow_x": null,
            "grid_auto_flow": null,
            "grid_area": null,
            "grid_template_columns": null,
            "flex": null,
            "_model_name": "LayoutModel",
            "justify_items": null,
            "grid_row": null,
            "max_height": null,
            "align_content": null,
            "visibility": null,
            "align_self": null,
            "height": null,
            "min_height": null,
            "padding": null,
            "grid_auto_rows": null,
            "grid_gap": null,
            "max_width": null,
            "order": null,
            "_view_module_version": "1.2.0",
            "grid_template_areas": null,
            "object_position": null,
            "object_fit": null,
            "grid_auto_columns": null,
            "margin": null,
            "display": null,
            "left": null
          }
        },
        "cc06d242c5b04fc38f34706a4a371471": {
          "model_module": "@jupyter-widgets/controls",
          "model_name": "HBoxModel",
          "state": {
            "_view_name": "HBoxView",
            "_dom_classes": [],
            "_model_name": "HBoxModel",
            "_view_module": "@jupyter-widgets/controls",
            "_model_module_version": "1.5.0",
            "_view_count": null,
            "_view_module_version": "1.5.0",
            "box_style": "",
            "layout": "IPY_MODEL_feace62bc4534b62bb2ab85de17d677e",
            "_model_module": "@jupyter-widgets/controls",
            "children": [
              "IPY_MODEL_18bbc6284e014e5f95999a2ff83ee06d",
              "IPY_MODEL_6e96d8b61839408bb01b7c60c9fa958e"
            ]
          }
        },
        "feace62bc4534b62bb2ab85de17d677e": {
          "model_module": "@jupyter-widgets/base",
          "model_name": "LayoutModel",
          "state": {
            "_view_name": "LayoutView",
            "grid_template_rows": null,
            "right": null,
            "justify_content": null,
            "_view_module": "@jupyter-widgets/base",
            "overflow": null,
            "_model_module_version": "1.2.0",
            "_view_count": null,
            "flex_flow": null,
            "width": null,
            "min_width": null,
            "border": null,
            "align_items": null,
            "bottom": null,
            "_model_module": "@jupyter-widgets/base",
            "top": null,
            "grid_column": null,
            "overflow_y": null,
            "overflow_x": null,
            "grid_auto_flow": null,
            "grid_area": null,
            "grid_template_columns": null,
            "flex": null,
            "_model_name": "LayoutModel",
            "justify_items": null,
            "grid_row": null,
            "max_height": null,
            "align_content": null,
            "visibility": null,
            "align_self": null,
            "height": null,
            "min_height": null,
            "padding": null,
            "grid_auto_rows": null,
            "grid_gap": null,
            "max_width": null,
            "order": null,
            "_view_module_version": "1.2.0",
            "grid_template_areas": null,
            "object_position": null,
            "object_fit": null,
            "grid_auto_columns": null,
            "margin": null,
            "display": null,
            "left": null
          }
        },
        "18bbc6284e014e5f95999a2ff83ee06d": {
          "model_module": "@jupyter-widgets/controls",
          "model_name": "FloatProgressModel",
          "state": {
            "_view_name": "ProgressView",
            "style": "IPY_MODEL_0b4d817564744f639130701f8f6ff545",
            "_dom_classes": [],
            "description": "",
            "_model_name": "FloatProgressModel",
            "bar_style": "success",
            "max": 29515,
            "_view_module": "@jupyter-widgets/controls",
            "_model_module_version": "1.5.0",
            "value": 29515,
            "_view_count": null,
            "_view_module_version": "1.5.0",
            "orientation": "horizontal",
            "min": 0,
            "description_tooltip": null,
            "_model_module": "@jupyter-widgets/controls",
            "layout": "IPY_MODEL_fb7b27f66dbd4542bd6666e41a07fda2"
          }
        },
        "6e96d8b61839408bb01b7c60c9fa958e": {
          "model_module": "@jupyter-widgets/controls",
          "model_name": "HTMLModel",
          "state": {
            "_view_name": "HTMLView",
            "style": "IPY_MODEL_2d48603498c84d95b98b51f64ae57ee8",
            "_dom_classes": [],
            "description": "",
            "_model_name": "HTMLModel",
            "placeholder": "​",
            "_view_module": "@jupyter-widgets/controls",
            "_model_module_version": "1.5.0",
            "value": " 29696/? [00:54&lt;00:00, 545.54it/s]",
            "_view_count": null,
            "_view_module_version": "1.5.0",
            "description_tooltip": null,
            "_model_module": "@jupyter-widgets/controls",
            "layout": "IPY_MODEL_01bbb8b85e024e0eb5c1b2dc135f053c"
          }
        },
        "0b4d817564744f639130701f8f6ff545": {
          "model_module": "@jupyter-widgets/controls",
          "model_name": "ProgressStyleModel",
          "state": {
            "_view_name": "StyleView",
            "_model_name": "ProgressStyleModel",
            "description_width": "initial",
            "_view_module": "@jupyter-widgets/base",
            "_model_module_version": "1.5.0",
            "_view_count": null,
            "_view_module_version": "1.2.0",
            "bar_color": null,
            "_model_module": "@jupyter-widgets/controls"
          }
        },
        "fb7b27f66dbd4542bd6666e41a07fda2": {
          "model_module": "@jupyter-widgets/base",
          "model_name": "LayoutModel",
          "state": {
            "_view_name": "LayoutView",
            "grid_template_rows": null,
            "right": null,
            "justify_content": null,
            "_view_module": "@jupyter-widgets/base",
            "overflow": null,
            "_model_module_version": "1.2.0",
            "_view_count": null,
            "flex_flow": null,
            "width": null,
            "min_width": null,
            "border": null,
            "align_items": null,
            "bottom": null,
            "_model_module": "@jupyter-widgets/base",
            "top": null,
            "grid_column": null,
            "overflow_y": null,
            "overflow_x": null,
            "grid_auto_flow": null,
            "grid_area": null,
            "grid_template_columns": null,
            "flex": null,
            "_model_name": "LayoutModel",
            "justify_items": null,
            "grid_row": null,
            "max_height": null,
            "align_content": null,
            "visibility": null,
            "align_self": null,
            "height": null,
            "min_height": null,
            "padding": null,
            "grid_auto_rows": null,
            "grid_gap": null,
            "max_width": null,
            "order": null,
            "_view_module_version": "1.2.0",
            "grid_template_areas": null,
            "object_position": null,
            "object_fit": null,
            "grid_auto_columns": null,
            "margin": null,
            "display": null,
            "left": null
          }
        },
        "2d48603498c84d95b98b51f64ae57ee8": {
          "model_module": "@jupyter-widgets/controls",
          "model_name": "DescriptionStyleModel",
          "state": {
            "_view_name": "StyleView",
            "_model_name": "DescriptionStyleModel",
            "description_width": "",
            "_view_module": "@jupyter-widgets/base",
            "_model_module_version": "1.5.0",
            "_view_count": null,
            "_view_module_version": "1.2.0",
            "_model_module": "@jupyter-widgets/controls"
          }
        },
        "01bbb8b85e024e0eb5c1b2dc135f053c": {
          "model_module": "@jupyter-widgets/base",
          "model_name": "LayoutModel",
          "state": {
            "_view_name": "LayoutView",
            "grid_template_rows": null,
            "right": null,
            "justify_content": null,
            "_view_module": "@jupyter-widgets/base",
            "overflow": null,
            "_model_module_version": "1.2.0",
            "_view_count": null,
            "flex_flow": null,
            "width": null,
            "min_width": null,
            "border": null,
            "align_items": null,
            "bottom": null,
            "_model_module": "@jupyter-widgets/base",
            "top": null,
            "grid_column": null,
            "overflow_y": null,
            "overflow_x": null,
            "grid_auto_flow": null,
            "grid_area": null,
            "grid_template_columns": null,
            "flex": null,
            "_model_name": "LayoutModel",
            "justify_items": null,
            "grid_row": null,
            "max_height": null,
            "align_content": null,
            "visibility": null,
            "align_self": null,
            "height": null,
            "min_height": null,
            "padding": null,
            "grid_auto_rows": null,
            "grid_gap": null,
            "max_width": null,
            "order": null,
            "_view_module_version": "1.2.0",
            "grid_template_areas": null,
            "object_position": null,
            "object_fit": null,
            "grid_auto_columns": null,
            "margin": null,
            "display": null,
            "left": null
          }
        },
        "a5111b361615451db2ea3d4dcc5ef9c7": {
          "model_module": "@jupyter-widgets/controls",
          "model_name": "HBoxModel",
          "state": {
            "_view_name": "HBoxView",
            "_dom_classes": [],
            "_model_name": "HBoxModel",
            "_view_module": "@jupyter-widgets/controls",
            "_model_module_version": "1.5.0",
            "_view_count": null,
            "_view_module_version": "1.5.0",
            "box_style": "",
            "layout": "IPY_MODEL_cf255b755ac8498b93b9a07e41860cac",
            "_model_module": "@jupyter-widgets/controls",
            "children": [
              "IPY_MODEL_e231086703724236bc0f8a1980d2b40d",
              "IPY_MODEL_098924a0254245e88b098accbdc64dce"
            ]
          }
        },
        "cf255b755ac8498b93b9a07e41860cac": {
          "model_module": "@jupyter-widgets/base",
          "model_name": "LayoutModel",
          "state": {
            "_view_name": "LayoutView",
            "grid_template_rows": null,
            "right": null,
            "justify_content": null,
            "_view_module": "@jupyter-widgets/base",
            "overflow": null,
            "_model_module_version": "1.2.0",
            "_view_count": null,
            "flex_flow": null,
            "width": null,
            "min_width": null,
            "border": null,
            "align_items": null,
            "bottom": null,
            "_model_module": "@jupyter-widgets/base",
            "top": null,
            "grid_column": null,
            "overflow_y": null,
            "overflow_x": null,
            "grid_auto_flow": null,
            "grid_area": null,
            "grid_template_columns": null,
            "flex": null,
            "_model_name": "LayoutModel",
            "justify_items": null,
            "grid_row": null,
            "max_height": null,
            "align_content": null,
            "visibility": null,
            "align_self": null,
            "height": null,
            "min_height": null,
            "padding": null,
            "grid_auto_rows": null,
            "grid_gap": null,
            "max_width": null,
            "order": null,
            "_view_module_version": "1.2.0",
            "grid_template_areas": null,
            "object_position": null,
            "object_fit": null,
            "grid_auto_columns": null,
            "margin": null,
            "display": null,
            "left": null
          }
        },
        "e231086703724236bc0f8a1980d2b40d": {
          "model_module": "@jupyter-widgets/controls",
          "model_name": "FloatProgressModel",
          "state": {
            "_view_name": "ProgressView",
            "style": "IPY_MODEL_11be7a74c0894455ad21db2540450715",
            "_dom_classes": [],
            "description": "",
            "_model_name": "FloatProgressModel",
            "bar_style": "success",
            "max": 4422102,
            "_view_module": "@jupyter-widgets/controls",
            "_model_module_version": "1.5.0",
            "value": 4422102,
            "_view_count": null,
            "_view_module_version": "1.5.0",
            "orientation": "horizontal",
            "min": 0,
            "description_tooltip": null,
            "_model_module": "@jupyter-widgets/controls",
            "layout": "IPY_MODEL_ea1343fabf7340d9ac3c8bec7c422e87"
          }
        },
        "098924a0254245e88b098accbdc64dce": {
          "model_module": "@jupyter-widgets/controls",
          "model_name": "HTMLModel",
          "state": {
            "_view_name": "HTMLView",
            "style": "IPY_MODEL_238b440abdd24ea38f554302b549f8ab",
            "_dom_classes": [],
            "description": "",
            "_model_name": "HTMLModel",
            "placeholder": "​",
            "_view_module": "@jupyter-widgets/controls",
            "_model_module_version": "1.5.0",
            "value": " 4422656/? [00:01&lt;00:00, 3008363.06it/s]",
            "_view_count": null,
            "_view_module_version": "1.5.0",
            "description_tooltip": null,
            "_model_module": "@jupyter-widgets/controls",
            "layout": "IPY_MODEL_1b7f92b1ad4c440baf5129191ff9b1dd"
          }
        },
        "11be7a74c0894455ad21db2540450715": {
          "model_module": "@jupyter-widgets/controls",
          "model_name": "ProgressStyleModel",
          "state": {
            "_view_name": "StyleView",
            "_model_name": "ProgressStyleModel",
            "description_width": "initial",
            "_view_module": "@jupyter-widgets/base",
            "_model_module_version": "1.5.0",
            "_view_count": null,
            "_view_module_version": "1.2.0",
            "bar_color": null,
            "_model_module": "@jupyter-widgets/controls"
          }
        },
        "ea1343fabf7340d9ac3c8bec7c422e87": {
          "model_module": "@jupyter-widgets/base",
          "model_name": "LayoutModel",
          "state": {
            "_view_name": "LayoutView",
            "grid_template_rows": null,
            "right": null,
            "justify_content": null,
            "_view_module": "@jupyter-widgets/base",
            "overflow": null,
            "_model_module_version": "1.2.0",
            "_view_count": null,
            "flex_flow": null,
            "width": null,
            "min_width": null,
            "border": null,
            "align_items": null,
            "bottom": null,
            "_model_module": "@jupyter-widgets/base",
            "top": null,
            "grid_column": null,
            "overflow_y": null,
            "overflow_x": null,
            "grid_auto_flow": null,
            "grid_area": null,
            "grid_template_columns": null,
            "flex": null,
            "_model_name": "LayoutModel",
            "justify_items": null,
            "grid_row": null,
            "max_height": null,
            "align_content": null,
            "visibility": null,
            "align_self": null,
            "height": null,
            "min_height": null,
            "padding": null,
            "grid_auto_rows": null,
            "grid_gap": null,
            "max_width": null,
            "order": null,
            "_view_module_version": "1.2.0",
            "grid_template_areas": null,
            "object_position": null,
            "object_fit": null,
            "grid_auto_columns": null,
            "margin": null,
            "display": null,
            "left": null
          }
        },
        "238b440abdd24ea38f554302b549f8ab": {
          "model_module": "@jupyter-widgets/controls",
          "model_name": "DescriptionStyleModel",
          "state": {
            "_view_name": "StyleView",
            "_model_name": "DescriptionStyleModel",
            "description_width": "",
            "_view_module": "@jupyter-widgets/base",
            "_model_module_version": "1.5.0",
            "_view_count": null,
            "_view_module_version": "1.2.0",
            "_model_module": "@jupyter-widgets/controls"
          }
        },
        "1b7f92b1ad4c440baf5129191ff9b1dd": {
          "model_module": "@jupyter-widgets/base",
          "model_name": "LayoutModel",
          "state": {
            "_view_name": "LayoutView",
            "grid_template_rows": null,
            "right": null,
            "justify_content": null,
            "_view_module": "@jupyter-widgets/base",
            "overflow": null,
            "_model_module_version": "1.2.0",
            "_view_count": null,
            "flex_flow": null,
            "width": null,
            "min_width": null,
            "border": null,
            "align_items": null,
            "bottom": null,
            "_model_module": "@jupyter-widgets/base",
            "top": null,
            "grid_column": null,
            "overflow_y": null,
            "overflow_x": null,
            "grid_auto_flow": null,
            "grid_area": null,
            "grid_template_columns": null,
            "flex": null,
            "_model_name": "LayoutModel",
            "justify_items": null,
            "grid_row": null,
            "max_height": null,
            "align_content": null,
            "visibility": null,
            "align_self": null,
            "height": null,
            "min_height": null,
            "padding": null,
            "grid_auto_rows": null,
            "grid_gap": null,
            "max_width": null,
            "order": null,
            "_view_module_version": "1.2.0",
            "grid_template_areas": null,
            "object_position": null,
            "object_fit": null,
            "grid_auto_columns": null,
            "margin": null,
            "display": null,
            "left": null
          }
        },
        "6e07e6ad8044410c8c832bb49aab53b9": {
          "model_module": "@jupyter-widgets/controls",
          "model_name": "HBoxModel",
          "state": {
            "_view_name": "HBoxView",
            "_dom_classes": [],
            "_model_name": "HBoxModel",
            "_view_module": "@jupyter-widgets/controls",
            "_model_module_version": "1.5.0",
            "_view_count": null,
            "_view_module_version": "1.5.0",
            "box_style": "",
            "layout": "IPY_MODEL_54530e929dde43118d3afbcec03db087",
            "_model_module": "@jupyter-widgets/controls",
            "children": [
              "IPY_MODEL_94afb9b3a27646b280b7d06d5593b51d",
              "IPY_MODEL_8373e9e1106c4dbe98dbea0ee86b9c57"
            ]
          }
        },
        "54530e929dde43118d3afbcec03db087": {
          "model_module": "@jupyter-widgets/base",
          "model_name": "LayoutModel",
          "state": {
            "_view_name": "LayoutView",
            "grid_template_rows": null,
            "right": null,
            "justify_content": null,
            "_view_module": "@jupyter-widgets/base",
            "overflow": null,
            "_model_module_version": "1.2.0",
            "_view_count": null,
            "flex_flow": null,
            "width": null,
            "min_width": null,
            "border": null,
            "align_items": null,
            "bottom": null,
            "_model_module": "@jupyter-widgets/base",
            "top": null,
            "grid_column": null,
            "overflow_y": null,
            "overflow_x": null,
            "grid_auto_flow": null,
            "grid_area": null,
            "grid_template_columns": null,
            "flex": null,
            "_model_name": "LayoutModel",
            "justify_items": null,
            "grid_row": null,
            "max_height": null,
            "align_content": null,
            "visibility": null,
            "align_self": null,
            "height": null,
            "min_height": null,
            "padding": null,
            "grid_auto_rows": null,
            "grid_gap": null,
            "max_width": null,
            "order": null,
            "_view_module_version": "1.2.0",
            "grid_template_areas": null,
            "object_position": null,
            "object_fit": null,
            "grid_auto_columns": null,
            "margin": null,
            "display": null,
            "left": null
          }
        },
        "94afb9b3a27646b280b7d06d5593b51d": {
          "model_module": "@jupyter-widgets/controls",
          "model_name": "FloatProgressModel",
          "state": {
            "_view_name": "ProgressView",
            "style": "IPY_MODEL_3e1ebaad93524a4dae7213b6ab51a309",
            "_dom_classes": [],
            "description": "",
            "_model_name": "FloatProgressModel",
            "bar_style": "success",
            "max": 5148,
            "_view_module": "@jupyter-widgets/controls",
            "_model_module_version": "1.5.0",
            "value": 5148,
            "_view_count": null,
            "_view_module_version": "1.5.0",
            "orientation": "horizontal",
            "min": 0,
            "description_tooltip": null,
            "_model_module": "@jupyter-widgets/controls",
            "layout": "IPY_MODEL_0a27e27a3dcc4be7b4a20df0e0c5200c"
          }
        },
        "8373e9e1106c4dbe98dbea0ee86b9c57": {
          "model_module": "@jupyter-widgets/controls",
          "model_name": "HTMLModel",
          "state": {
            "_view_name": "HTMLView",
            "style": "IPY_MODEL_d454ccadc5394d34bc19f785dbc73089",
            "_dom_classes": [],
            "description": "",
            "_model_name": "HTMLModel",
            "placeholder": "​",
            "_view_module": "@jupyter-widgets/controls",
            "_model_module_version": "1.5.0",
            "value": " 6144/? [00:00&lt;00:00, 24475.42it/s]",
            "_view_count": null,
            "_view_module_version": "1.5.0",
            "description_tooltip": null,
            "_model_module": "@jupyter-widgets/controls",
            "layout": "IPY_MODEL_0d6272f6b1364865ab5b6f76e0686790"
          }
        },
        "3e1ebaad93524a4dae7213b6ab51a309": {
          "model_module": "@jupyter-widgets/controls",
          "model_name": "ProgressStyleModel",
          "state": {
            "_view_name": "StyleView",
            "_model_name": "ProgressStyleModel",
            "description_width": "initial",
            "_view_module": "@jupyter-widgets/base",
            "_model_module_version": "1.5.0",
            "_view_count": null,
            "_view_module_version": "1.2.0",
            "bar_color": null,
            "_model_module": "@jupyter-widgets/controls"
          }
        },
        "0a27e27a3dcc4be7b4a20df0e0c5200c": {
          "model_module": "@jupyter-widgets/base",
          "model_name": "LayoutModel",
          "state": {
            "_view_name": "LayoutView",
            "grid_template_rows": null,
            "right": null,
            "justify_content": null,
            "_view_module": "@jupyter-widgets/base",
            "overflow": null,
            "_model_module_version": "1.2.0",
            "_view_count": null,
            "flex_flow": null,
            "width": null,
            "min_width": null,
            "border": null,
            "align_items": null,
            "bottom": null,
            "_model_module": "@jupyter-widgets/base",
            "top": null,
            "grid_column": null,
            "overflow_y": null,
            "overflow_x": null,
            "grid_auto_flow": null,
            "grid_area": null,
            "grid_template_columns": null,
            "flex": null,
            "_model_name": "LayoutModel",
            "justify_items": null,
            "grid_row": null,
            "max_height": null,
            "align_content": null,
            "visibility": null,
            "align_self": null,
            "height": null,
            "min_height": null,
            "padding": null,
            "grid_auto_rows": null,
            "grid_gap": null,
            "max_width": null,
            "order": null,
            "_view_module_version": "1.2.0",
            "grid_template_areas": null,
            "object_position": null,
            "object_fit": null,
            "grid_auto_columns": null,
            "margin": null,
            "display": null,
            "left": null
          }
        },
        "d454ccadc5394d34bc19f785dbc73089": {
          "model_module": "@jupyter-widgets/controls",
          "model_name": "DescriptionStyleModel",
          "state": {
            "_view_name": "StyleView",
            "_model_name": "DescriptionStyleModel",
            "description_width": "",
            "_view_module": "@jupyter-widgets/base",
            "_model_module_version": "1.5.0",
            "_view_count": null,
            "_view_module_version": "1.2.0",
            "_model_module": "@jupyter-widgets/controls"
          }
        },
        "0d6272f6b1364865ab5b6f76e0686790": {
          "model_module": "@jupyter-widgets/base",
          "model_name": "LayoutModel",
          "state": {
            "_view_name": "LayoutView",
            "grid_template_rows": null,
            "right": null,
            "justify_content": null,
            "_view_module": "@jupyter-widgets/base",
            "overflow": null,
            "_model_module_version": "1.2.0",
            "_view_count": null,
            "flex_flow": null,
            "width": null,
            "min_width": null,
            "border": null,
            "align_items": null,
            "bottom": null,
            "_model_module": "@jupyter-widgets/base",
            "top": null,
            "grid_column": null,
            "overflow_y": null,
            "overflow_x": null,
            "grid_auto_flow": null,
            "grid_area": null,
            "grid_template_columns": null,
            "flex": null,
            "_model_name": "LayoutModel",
            "justify_items": null,
            "grid_row": null,
            "max_height": null,
            "align_content": null,
            "visibility": null,
            "align_self": null,
            "height": null,
            "min_height": null,
            "padding": null,
            "grid_auto_rows": null,
            "grid_gap": null,
            "max_width": null,
            "order": null,
            "_view_module_version": "1.2.0",
            "grid_template_areas": null,
            "object_position": null,
            "object_fit": null,
            "grid_auto_columns": null,
            "margin": null,
            "display": null,
            "left": null
          }
        }
      }
    }
  },
  "cells": [
    {
      "cell_type": "markdown",
      "metadata": {
        "id": "fwjwVM5CgtQ3"
      },
      "source": [
        "(Notebook modified from https://course.ccs.neu.edu/ds4440f20/)\n",
        "\n",
        "**Instructions:** Answer the four questions below in the notebook itself. Submit your notebook on Canvas and a pdf printout.\n",
        "\n",
        "\n",
        "### Convolutional Neural Networks\n",
        "\n",
        "A simple example to demonstrate the ideas introduced in lecture and (relatively simple exercises)"
      ]
    },
    {
      "cell_type": "code",
      "metadata": {
        "id": "KL7QrOeVgZVW"
      },
      "source": [
        "import torch\n",
        "from torch import nn\n",
        "\n",
        "import torchvision\n",
        "from torchvision import transforms"
      ],
      "execution_count": 1,
      "outputs": []
    },
    {
      "cell_type": "code",
      "metadata": {
        "id": "y2UO5VKwhCAs",
        "colab": {
          "base_uri": "https://localhost:8080/",
          "height": 573,
          "referenced_widgets": [
            "98112c809fa5496e8f14351bb2170ceb",
            "651298321be44665b568d7993988403b",
            "224453bd0fbc4312a85a5ce609d2cb7a",
            "039648756e2943698035c4f3f0ac8f13",
            "c013ff677d4549708ed05a5ae03f2611",
            "22be59598fba49968a63931ae6fbd7b6",
            "7d3ee172d3774e7ea82194c87b00c753",
            "c00e1c6abebc499b8d08d1406191e249",
            "cc06d242c5b04fc38f34706a4a371471",
            "feace62bc4534b62bb2ab85de17d677e",
            "18bbc6284e014e5f95999a2ff83ee06d",
            "6e96d8b61839408bb01b7c60c9fa958e",
            "0b4d817564744f639130701f8f6ff545",
            "fb7b27f66dbd4542bd6666e41a07fda2",
            "2d48603498c84d95b98b51f64ae57ee8",
            "01bbb8b85e024e0eb5c1b2dc135f053c",
            "a5111b361615451db2ea3d4dcc5ef9c7",
            "cf255b755ac8498b93b9a07e41860cac",
            "e231086703724236bc0f8a1980d2b40d",
            "098924a0254245e88b098accbdc64dce",
            "11be7a74c0894455ad21db2540450715",
            "ea1343fabf7340d9ac3c8bec7c422e87",
            "238b440abdd24ea38f554302b549f8ab",
            "1b7f92b1ad4c440baf5129191ff9b1dd",
            "6e07e6ad8044410c8c832bb49aab53b9",
            "54530e929dde43118d3afbcec03db087",
            "94afb9b3a27646b280b7d06d5593b51d",
            "8373e9e1106c4dbe98dbea0ee86b9c57",
            "3e1ebaad93524a4dae7213b6ab51a309",
            "0a27e27a3dcc4be7b4a20df0e0c5200c",
            "d454ccadc5394d34bc19f785dbc73089",
            "0d6272f6b1364865ab5b6f76e0686790"
          ]
        },
        "outputId": "625ebc2b-04bc-4228-d313-7df116cd5fa1"
      },
      "source": [
        "train_set = torchvision.datasets.FashionMNIST(\"./data\", download=True, transform=\n",
        "                                                transforms.Compose([transforms.ToTensor()]))\n",
        "test_set = torchvision.datasets.FashionMNIST(\"./data\", download=True, train=False, transform=\n",
        "                                               transforms.Compose([transforms.ToTensor()]))  "
      ],
      "execution_count": 2,
      "outputs": [
        {
          "output_type": "stream",
          "text": [
            "Downloading http://fashion-mnist.s3-website.eu-central-1.amazonaws.com/train-images-idx3-ubyte.gz\n",
            "Downloading http://fashion-mnist.s3-website.eu-central-1.amazonaws.com/train-images-idx3-ubyte.gz to ./data/FashionMNIST/raw/train-images-idx3-ubyte.gz\n"
          ],
          "name": "stdout"
        },
        {
          "output_type": "display_data",
          "data": {
            "application/vnd.jupyter.widget-view+json": {
              "model_id": "98112c809fa5496e8f14351bb2170ceb",
              "version_minor": 0,
              "version_major": 2
            },
            "text/plain": [
              "HBox(children=(FloatProgress(value=0.0, max=26421880.0), HTML(value='')))"
            ]
          },
          "metadata": {
            "tags": []
          }
        },
        {
          "output_type": "stream",
          "text": [
            "\n",
            "Extracting ./data/FashionMNIST/raw/train-images-idx3-ubyte.gz to ./data/FashionMNIST/raw\n",
            "\n",
            "Downloading http://fashion-mnist.s3-website.eu-central-1.amazonaws.com/train-labels-idx1-ubyte.gz\n",
            "Downloading http://fashion-mnist.s3-website.eu-central-1.amazonaws.com/train-labels-idx1-ubyte.gz to ./data/FashionMNIST/raw/train-labels-idx1-ubyte.gz\n"
          ],
          "name": "stdout"
        },
        {
          "output_type": "display_data",
          "data": {
            "application/vnd.jupyter.widget-view+json": {
              "model_id": "cc06d242c5b04fc38f34706a4a371471",
              "version_minor": 0,
              "version_major": 2
            },
            "text/plain": [
              "HBox(children=(FloatProgress(value=0.0, max=29515.0), HTML(value='')))"
            ]
          },
          "metadata": {
            "tags": []
          }
        },
        {
          "output_type": "stream",
          "text": [
            "\n",
            "Extracting ./data/FashionMNIST/raw/train-labels-idx1-ubyte.gz to ./data/FashionMNIST/raw\n",
            "\n",
            "Downloading http://fashion-mnist.s3-website.eu-central-1.amazonaws.com/t10k-images-idx3-ubyte.gz\n",
            "Downloading http://fashion-mnist.s3-website.eu-central-1.amazonaws.com/t10k-images-idx3-ubyte.gz to ./data/FashionMNIST/raw/t10k-images-idx3-ubyte.gz\n"
          ],
          "name": "stdout"
        },
        {
          "output_type": "display_data",
          "data": {
            "application/vnd.jupyter.widget-view+json": {
              "model_id": "a5111b361615451db2ea3d4dcc5ef9c7",
              "version_minor": 0,
              "version_major": 2
            },
            "text/plain": [
              "HBox(children=(FloatProgress(value=0.0, max=4422102.0), HTML(value='')))"
            ]
          },
          "metadata": {
            "tags": []
          }
        },
        {
          "output_type": "stream",
          "text": [
            "\n",
            "Extracting ./data/FashionMNIST/raw/t10k-images-idx3-ubyte.gz to ./data/FashionMNIST/raw\n",
            "\n",
            "Downloading http://fashion-mnist.s3-website.eu-central-1.amazonaws.com/t10k-labels-idx1-ubyte.gz\n",
            "Downloading http://fashion-mnist.s3-website.eu-central-1.amazonaws.com/t10k-labels-idx1-ubyte.gz to ./data/FashionMNIST/raw/t10k-labels-idx1-ubyte.gz\n"
          ],
          "name": "stdout"
        },
        {
          "output_type": "display_data",
          "data": {
            "application/vnd.jupyter.widget-view+json": {
              "model_id": "6e07e6ad8044410c8c832bb49aab53b9",
              "version_minor": 0,
              "version_major": 2
            },
            "text/plain": [
              "HBox(children=(FloatProgress(value=0.0, max=5148.0), HTML(value='')))"
            ]
          },
          "metadata": {
            "tags": []
          }
        },
        {
          "output_type": "stream",
          "text": [
            "\n",
            "Extracting ./data/FashionMNIST/raw/t10k-labels-idx1-ubyte.gz to ./data/FashionMNIST/raw\n",
            "\n",
            "Processing...\n",
            "Done!\n"
          ],
          "name": "stdout"
        },
        {
          "output_type": "stream",
          "text": [
            "/usr/local/lib/python3.7/dist-packages/torchvision/datasets/mnist.py:502: UserWarning: The given NumPy array is not writeable, and PyTorch does not support non-writeable tensors. This means you can write to the underlying (supposedly non-writeable) NumPy array using the tensor. You may want to copy the array to protect its data or make it writeable before converting it to a tensor. This type of warning will be suppressed for the rest of this program. (Triggered internally at  /pytorch/torch/csrc/utils/tensor_numpy.cpp:143.)\n",
            "  return torch.from_numpy(parsed.astype(m[2], copy=False)).view(*s)\n"
          ],
          "name": "stderr"
        }
      ]
    },
    {
      "cell_type": "markdown",
      "metadata": {
        "id": "1nux9q-Q4WDE"
      },
      "source": [
        "**Q1. Write code to answer the questiosn below:**\n",
        "- How many images are there in `train_data` and `test_data`?\n",
        "- How many labels are there in `train_data`?\n",
        "- What is the height and width of each image?\n",
        "\n",
        "The answer to Q1 is the code that outputs the answers to the questions above."
      ]
    },
    {
      "cell_type": "code",
      "metadata": {
        "id": "c2AnMAMchLEi",
        "colab": {
          "base_uri": "https://localhost:8080/"
        },
        "outputId": "e8247782-a8f7-49cb-c05b-528ed555de0c"
      },
      "source": [
        "print(\"The number of images in the train data is: %d\" %len(train_set))\n",
        "print(\"The number of images in the test data is: %d\" %len(test_set))\n",
        "print(\"The number of labels in the train data is: %d\" %len(train_set.classes))\n",
        "print(\"The height and width of each image is: \", train_set.data.shape[1:])"
      ],
      "execution_count": 3,
      "outputs": [
        {
          "output_type": "stream",
          "text": [
            "The number of images in the train data is: 60000\n",
            "The number of images in the test data is: 10000\n",
            "The number of labels in the train data is: 10\n",
            "The height and width of each image is:  torch.Size([28, 28])\n"
          ],
          "name": "stdout"
        }
      ]
    },
    {
      "cell_type": "code",
      "metadata": {
        "id": "k8bxnZGGhmnc"
      },
      "source": [
        "# Note: the `out_channels` argument is what we referred to as the number of\n",
        "# filters in lecture. \n",
        "conv_layer = nn.Conv2d(in_channels=1, out_channels=5, stride=2, kernel_size=3)"
      ],
      "execution_count": 4,
      "outputs": []
    },
    {
      "cell_type": "code",
      "metadata": {
        "colab": {
          "base_uri": "https://localhost:8080/"
        },
        "id": "gIoags6lhvLM",
        "outputId": "663ad599-fa28-4719-bddb-417e65822c5a"
      },
      "source": [
        "conv_layer.weight.shape"
      ],
      "execution_count": 5,
      "outputs": [
        {
          "output_type": "execute_result",
          "data": {
            "text/plain": [
              "torch.Size([5, 1, 3, 3])"
            ]
          },
          "metadata": {
            "tags": []
          },
          "execution_count": 5
        }
      ]
    },
    {
      "cell_type": "code",
      "metadata": {
        "id": "tEedCGdtn1ZJ"
      },
      "source": [
        "batch_size = 32\n",
        "train_loader = torch.utils.data.DataLoader(dataset=train_set,\n",
        "                                           batch_size=batch_size, \n",
        "                                           shuffle=True)\n",
        "\n",
        "test_loader = torch.utils.data.DataLoader(dataset=test_set,\n",
        "                                          batch_size=batch_size, \n",
        "                                          shuffle=False)"
      ],
      "execution_count": 6,
      "outputs": []
    },
    {
      "cell_type": "markdown",
      "metadata": {
        "id": "iojorQrc6Np1"
      },
      "source": [
        "**Q2. Answer the following questions (no code required):**\n",
        "\n",
        "- What is the meaning of `shuffle=True and shuffle=False**\n",
        "- Why do we shuffle the train data?\n",
        "- Why don't we shuffle the test data?\n",
        "\n",
        "The answer to Q2 is a few sentences, no code required."
      ]
    },
    {
      "cell_type": "code",
      "metadata": {
        "id": "_OIgzyAR8E0y"
      },
      "source": [
        "'''\n",
        "When you use ‘shuffle=True’, it randomizes the order of the data between each\n",
        "batch or between each epoch, depending on how you set it. When you use\n",
        "‘shuffle=False’, it does not do anything to change the order of the data.\n",
        "The reason we shuffle the training data is to make sure that each data input is\n",
        "independent of the others. For example, the data might be ordered according to\n",
        "certain classes. Thus, in order to avoid unwanted bias in the learning, it is\n",
        "important for the training data to be shuffled as it is given as the input.\n",
        "By contrast, one does not need to shuffle the test data. Shuffling the test\n",
        "data is irrelevant, because the model does not use the test data to update the\n",
        "parameters.\n",
        "'''"
      ],
      "execution_count": null,
      "outputs": []
    },
    {
      "cell_type": "markdown",
      "metadata": {
        "id": "NzV3w9mDnYML"
      },
      "source": [
        "### Full example\n",
        "\n",
        "Derived from: [https://github.com/yunjey/pytorch-tutorial](https://github.com/yunjey/pytorch-tutorial)."
      ]
    },
    {
      "cell_type": "code",
      "metadata": {
        "colab": {
          "base_uri": "https://localhost:8080/"
        },
        "id": "5XaEe21IlQ7W",
        "outputId": "4fb6126d-1c07-4732-947c-9cd91ecd6ad4"
      },
      "source": [
        "device = 'cuda'\n",
        "num_epochs = 5\n",
        "num_classes = 10\n",
        "learning_rate = 0.001\n",
        "\n",
        "# A simple convolutional neural network (two convolutional layers)\n",
        "class ConvNet(nn.Module):\n",
        "    def __init__(self, num_classes=10):\n",
        "        super(ConvNet, self).__init__()\n",
        "        self.layer1 = nn.Sequential(\n",
        "            nn.Conv2d(1, 16, kernel_size=5, stride=1, padding=2),\n",
        "            nn.BatchNorm2d(16),\n",
        "            nn.ReLU(),\n",
        "            nn.MaxPool2d(kernel_size=2, stride=2))\n",
        "        self.layer2 = nn.Sequential(\n",
        "            nn.Conv2d(16, 32, kernel_size=5, stride=1, padding=2),\n",
        "            nn.BatchNorm2d(32),\n",
        "            nn.ReLU(),\n",
        "            nn.MaxPool2d(kernel_size=2, stride=2))\n",
        "        self.fc = nn.Linear(7*7*32, num_classes)\n",
        "        \n",
        "    def forward(self, x):\n",
        "        out = self.layer1(x)\n",
        "        out = self.layer2(out)\n",
        "        out = out.reshape(out.size(0), -1)\n",
        "        out = self.fc(out)\n",
        "        return out\n",
        "\n",
        "model = ConvNet(num_classes).to(device)\n",
        "\n",
        "# Loss and optimizer\n",
        "criterion = nn.CrossEntropyLoss()\n",
        "optimizer = torch.optim.Adam(model.parameters(), lr=learning_rate)\n",
        "\n",
        "# Train the model\n",
        "total_step = len(train_loader)\n",
        "for epoch in range(num_epochs):\n",
        "    for i, (images, labels) in enumerate(train_loader):\n",
        "        images = images.to(device)\n",
        "        labels = labels.to(device)\n",
        "        \n",
        "        # Forward pass\n",
        "        outputs = model(images)\n",
        "        loss = criterion(outputs, labels)\n",
        "        \n",
        "        # Backward and optimize\n",
        "        optimizer.zero_grad()\n",
        "        loss.backward()\n",
        "        optimizer.step()\n",
        "        \n",
        "        if (i+1) % 100 == 0:\n",
        "            print ('Epoch [{}/{}], Step [{}/{}], Loss: {:.4f}' \n",
        "                   .format(epoch+1, num_epochs, i+1, total_step, loss.item()))\n",
        "\n",
        "# Test the model\n",
        "model.eval()  # eval mode (batchnorm uses moving mean/variance instead of mini-batch mean/variance)\n",
        "with torch.no_grad():\n",
        "    correct = 0\n",
        "    total = 0\n",
        "    for images, labels in test_loader:\n",
        "        images = images.to(device)\n",
        "        labels = labels.to(device)\n",
        "        outputs = model(images)\n",
        "        _, predicted = torch.max(outputs.data, 1)\n",
        "        total += labels.size(0)\n",
        "        correct += (predicted == labels).sum().item()\n",
        "\n",
        "    print('Test Accuracy of the model on the 10000 test images: {} %'.format(100 * correct / total))\n",
        "\n",
        "with torch.no_grad():\n",
        "    all_labels = []\n",
        "    all_preds = []\n",
        "    for images, labels in test_loader:\n",
        "        images = images.to(device)\n",
        "        labels = labels.to(device)\n",
        "        outputs = model(images)\n",
        "        _, predicted = torch.max(outputs.data, 1)\n",
        "        all_labels.extend(labels)\n",
        "        all_preds.extend(predicted)\n",
        "    ##\n",
        "    "
      ],
      "execution_count": 8,
      "outputs": [
        {
          "output_type": "stream",
          "text": [
            "Epoch [1/5], Step [100/1875], Loss: 0.9885\n",
            "Epoch [1/5], Step [200/1875], Loss: 0.1656\n",
            "Epoch [1/5], Step [300/1875], Loss: 0.7042\n",
            "Epoch [1/5], Step [400/1875], Loss: 0.4842\n",
            "Epoch [1/5], Step [500/1875], Loss: 0.2350\n",
            "Epoch [1/5], Step [600/1875], Loss: 0.6708\n",
            "Epoch [1/5], Step [700/1875], Loss: 0.3543\n",
            "Epoch [1/5], Step [800/1875], Loss: 0.2446\n",
            "Epoch [1/5], Step [900/1875], Loss: 0.1913\n",
            "Epoch [1/5], Step [1000/1875], Loss: 0.5139\n",
            "Epoch [1/5], Step [1100/1875], Loss: 0.3176\n",
            "Epoch [1/5], Step [1200/1875], Loss: 0.2238\n",
            "Epoch [1/5], Step [1300/1875], Loss: 0.4015\n",
            "Epoch [1/5], Step [1400/1875], Loss: 0.5141\n",
            "Epoch [1/5], Step [1500/1875], Loss: 0.2940\n",
            "Epoch [1/5], Step [1600/1875], Loss: 0.2257\n",
            "Epoch [1/5], Step [1700/1875], Loss: 0.2651\n",
            "Epoch [1/5], Step [1800/1875], Loss: 0.3830\n",
            "Epoch [2/5], Step [100/1875], Loss: 0.2655\n",
            "Epoch [2/5], Step [200/1875], Loss: 0.2549\n",
            "Epoch [2/5], Step [300/1875], Loss: 0.2692\n",
            "Epoch [2/5], Step [400/1875], Loss: 0.2215\n",
            "Epoch [2/5], Step [500/1875], Loss: 0.3195\n",
            "Epoch [2/5], Step [600/1875], Loss: 0.3003\n",
            "Epoch [2/5], Step [700/1875], Loss: 0.3466\n",
            "Epoch [2/5], Step [800/1875], Loss: 0.1614\n",
            "Epoch [2/5], Step [900/1875], Loss: 0.1695\n",
            "Epoch [2/5], Step [1000/1875], Loss: 0.2441\n",
            "Epoch [2/5], Step [1100/1875], Loss: 0.1403\n",
            "Epoch [2/5], Step [1200/1875], Loss: 0.2536\n",
            "Epoch [2/5], Step [1300/1875], Loss: 0.1339\n",
            "Epoch [2/5], Step [1400/1875], Loss: 0.2445\n",
            "Epoch [2/5], Step [1500/1875], Loss: 0.1666\n",
            "Epoch [2/5], Step [1600/1875], Loss: 0.3930\n",
            "Epoch [2/5], Step [1700/1875], Loss: 0.2859\n",
            "Epoch [2/5], Step [1800/1875], Loss: 0.1859\n",
            "Epoch [3/5], Step [100/1875], Loss: 0.2285\n",
            "Epoch [3/5], Step [200/1875], Loss: 0.2948\n",
            "Epoch [3/5], Step [300/1875], Loss: 0.1492\n",
            "Epoch [3/5], Step [400/1875], Loss: 0.2299\n",
            "Epoch [3/5], Step [500/1875], Loss: 0.1616\n",
            "Epoch [3/5], Step [600/1875], Loss: 0.2868\n",
            "Epoch [3/5], Step [700/1875], Loss: 0.2121\n",
            "Epoch [3/5], Step [800/1875], Loss: 0.2027\n",
            "Epoch [3/5], Step [900/1875], Loss: 0.2788\n",
            "Epoch [3/5], Step [1000/1875], Loss: 0.2768\n",
            "Epoch [3/5], Step [1100/1875], Loss: 0.1553\n",
            "Epoch [3/5], Step [1200/1875], Loss: 0.1831\n",
            "Epoch [3/5], Step [1300/1875], Loss: 0.1192\n",
            "Epoch [3/5], Step [1400/1875], Loss: 0.2875\n",
            "Epoch [3/5], Step [1500/1875], Loss: 0.1853\n",
            "Epoch [3/5], Step [1600/1875], Loss: 0.0909\n",
            "Epoch [3/5], Step [1700/1875], Loss: 0.3516\n",
            "Epoch [3/5], Step [1800/1875], Loss: 0.1478\n",
            "Epoch [4/5], Step [100/1875], Loss: 0.1615\n",
            "Epoch [4/5], Step [200/1875], Loss: 0.2413\n",
            "Epoch [4/5], Step [300/1875], Loss: 0.2370\n",
            "Epoch [4/5], Step [400/1875], Loss: 0.3507\n",
            "Epoch [4/5], Step [500/1875], Loss: 0.2183\n",
            "Epoch [4/5], Step [600/1875], Loss: 0.2060\n",
            "Epoch [4/5], Step [700/1875], Loss: 0.7358\n",
            "Epoch [4/5], Step [800/1875], Loss: 0.1923\n",
            "Epoch [4/5], Step [900/1875], Loss: 0.1753\n",
            "Epoch [4/5], Step [1000/1875], Loss: 0.2560\n",
            "Epoch [4/5], Step [1100/1875], Loss: 0.1318\n",
            "Epoch [4/5], Step [1200/1875], Loss: 0.1588\n",
            "Epoch [4/5], Step [1300/1875], Loss: 0.2384\n",
            "Epoch [4/5], Step [1400/1875], Loss: 0.3418\n",
            "Epoch [4/5], Step [1500/1875], Loss: 0.4932\n",
            "Epoch [4/5], Step [1600/1875], Loss: 0.1404\n",
            "Epoch [4/5], Step [1700/1875], Loss: 0.1436\n",
            "Epoch [4/5], Step [1800/1875], Loss: 0.4338\n",
            "Epoch [5/5], Step [100/1875], Loss: 0.2779\n",
            "Epoch [5/5], Step [200/1875], Loss: 0.1074\n",
            "Epoch [5/5], Step [300/1875], Loss: 0.1232\n",
            "Epoch [5/5], Step [400/1875], Loss: 0.2263\n",
            "Epoch [5/5], Step [500/1875], Loss: 0.1890\n",
            "Epoch [5/5], Step [600/1875], Loss: 0.3196\n",
            "Epoch [5/5], Step [700/1875], Loss: 0.1323\n",
            "Epoch [5/5], Step [800/1875], Loss: 0.2329\n",
            "Epoch [5/5], Step [900/1875], Loss: 0.1439\n",
            "Epoch [5/5], Step [1000/1875], Loss: 0.2446\n",
            "Epoch [5/5], Step [1100/1875], Loss: 0.0790\n",
            "Epoch [5/5], Step [1200/1875], Loss: 0.2423\n",
            "Epoch [5/5], Step [1300/1875], Loss: 0.5694\n",
            "Epoch [5/5], Step [1400/1875], Loss: 0.2362\n",
            "Epoch [5/5], Step [1500/1875], Loss: 0.1520\n",
            "Epoch [5/5], Step [1600/1875], Loss: 0.1929\n",
            "Epoch [5/5], Step [1700/1875], Loss: 0.3821\n",
            "Epoch [5/5], Step [1800/1875], Loss: 0.2738\n",
            "Test Accuracy of the model on the 10000 test images: 90.89 %\n"
          ],
          "name": "stdout"
        }
      ]
    },
    {
      "cell_type": "markdown",
      "metadata": {
        "id": "9_rB7YSh6l_2"
      },
      "source": [
        "**Q3. Answer the following question:** \n",
        "\n",
        "The implementation above uses Batch Normalization (`nn.BatchNorm2d(16),`)\n",
        "\n",
        "- Explain Batch Normalization with your own words. Get inspiration from here: https://d2l.ai/chapter_convolutional-modern/batch-norm.html (or any other source, but use your own words and an example)\n",
        "\n",
        "The answer to Q3 does not require any code, a good answer will have an intu explanation and an example (toy example is fine)."
      ]
    },
    {
      "cell_type": "code",
      "metadata": {
        "id": "gh68TniF9LQY"
      },
      "source": [
        "'''\n",
        "Initially, normalization is typically applied to the input data, so that various\n",
        "features can be placed on the same scale. For instance, suppose that one of the\n",
        "features pertaining to the data is the number of minutes that a person exercises\n",
        "in a year. And suppose that another feature is the person’s age. And yet another\n",
        "feature is the person’s BMI. The values for these three features are situated\n",
        "within three scales that largely differ from one another. Thus, in order to\n",
        "increase the training efficiency of the model, it is a common practice to\n",
        "situate all three ranges of values within a singe scale, commonly one that\n",
        "ranges from 0 to 1. This use of normalization with respect to the inputs to the\n",
        "model can also be applied to the hidden layers of the model. When normalization\n",
        "is applied to the hidden layers, it is known as batch normalization. For\n",
        "example, suppose that with respect to the input data, we normalize the annual\n",
        "minutes exercised, the age, and the BMI so that all of these three features are\n",
        "represented on a scale from 0 to 1. Then, further suppose that we train a\n",
        "particular neural network with a batch size of 30. Thus, after every 30 inputs,\n",
        "the model will revise its parameters. However, when the model does this, it may\n",
        "cause certain values in the hidden layers to be distributed in a way that is\n",
        "not efficient to learning (e.g., in much the same way that the original input\n",
        "values might be distributed in an inefficient way due to differences in how the\n",
        "features are scaled). Given this, it is often useful to apply normalization to\n",
        "the hidden layers after each batch, i.e., the process known as batch\n",
        "normalization. This allows the values of the hidden layers to be more stable,\n",
        "and thus it reduces the extent to which updating the parameters in earlier\n",
        "layers affects the distribution of values that a given hidden layer receives\n",
        "and learns on. The final result leads to a model that trains more efficiently\n",
        "on the data.\n",
        "'''"
      ],
      "execution_count": null,
      "outputs": []
    },
    {
      "cell_type": "markdown",
      "metadata": {
        "id": "m-kWJGVF7Ukh"
      },
      "source": [
        "**Q4. Answer the questions below:**\n",
        "\n",
        "You will do a qualitative analysis beyond stating that the accuracy in the test set is `90.27%`.\n",
        "\n",
        "- Which labels are harder to get right? You will have to print the accuracy per label (sorted from low to high)\n",
        "- Generate a confusion matrix for the output of your model. A confusion matrix looks like the one here (toward the bottom): https://www.kaggle.com/fuzzywizard/fashion-mnist-cnn-keras-accuracy-93\n",
        "- Interpret the numbers you see in the confusion matrix. Does it make sense (intuitively, no proof required) that certain classes are more often confused?\n",
        "\n",
        "The answer to Q4 requires you to write some code and interpret the output of yout code. A good answer will have 2-3 paragraphs. You are expected to interpret the numbers, not just state the numbers in the confusion matrix."
      ]
    },
    {
      "cell_type": "code",
      "metadata": {
        "id": "38genapf-1pj",
        "colab": {
          "base_uri": "https://localhost:8080/"
        },
        "outputId": "bbf4f820-223c-4742-9be7-8dda12cd4d6b"
      },
      "source": [
        "class_correct = list(0. for i in range(len(train_set.classes)))\n",
        "class_total = list(1e-7 for i in range(len(train_set.classes)))\n",
        "with torch.no_grad():\n",
        "    for data in test_loader:\n",
        "        images, labels = data\n",
        "        images, labels = images.to(device), labels.to(device)\n",
        "        outputs = model(images)\n",
        "        _, predicted = torch.max(outputs, 1)\n",
        "        c = (predicted == labels).squeeze()\n",
        "        for i in range(3):\n",
        "            label = labels[i]\n",
        "            class_correct[label] += c[i].item()\n",
        "            class_total[label] += 1\n",
        "\n",
        "l = []\n",
        "for i in range(len(train_set.classes)): \n",
        "    l.append('Accuracy of %s: %d %%' % (train_set.classes[i], 100 * class_correct[i] / class_total[i]))\n",
        "\n",
        "final = sorted(l, key=lambda x: int(x.split(': ')[1].split(' %')[0]))\n",
        "\n",
        "print(\"Here is a ranking of how difficult it is to get the various labels correct,\")\n",
        "print(\"sorted from hardest (i.e., lowest accuracy) to easiest (i.e., highest accuracy):\")\n",
        "print(\"\")\n",
        "for i in final:\n",
        "  print(i)"
      ],
      "execution_count": 10,
      "outputs": [
        {
          "output_type": "stream",
          "text": [
            "Here is a ranking of how difficult it is to get the various labels correct,\n",
            "sorted from hardest (i.e., lowest accuracy) to easiest (i.e., highest accuracy):\n",
            "\n",
            "Accuracy of Shirt: 66 %\n",
            "Accuracy of Pullover: 81 %\n",
            "Accuracy of Coat: 82 %\n",
            "Accuracy of T-shirt/top: 86 %\n",
            "Accuracy of Dress: 92 %\n",
            "Accuracy of Ankle boot: 95 %\n",
            "Accuracy of Trouser: 97 %\n",
            "Accuracy of Sneaker: 97 %\n",
            "Accuracy of Sandal: 98 %\n",
            "Accuracy of Bag: 98 %\n"
          ],
          "name": "stdout"
        }
      ]
    },
    {
      "cell_type": "code",
      "metadata": {
        "id": "v8o4PnP67kJq",
        "colab": {
          "base_uri": "https://localhost:8080/",
          "height": 635
        },
        "outputId": "1af8e463-f293-40f6-b313-c200f277f7e7"
      },
      "source": [
        "import matplotlib.pyplot as plt\n",
        "import seaborn as sns\n",
        "\n",
        "confusion_matrix = torch.zeros(len(train_set.targets.unique()), len(train_set.targets.unique()))\n",
        "with torch.no_grad():\n",
        "    for data in test_loader:\n",
        "        images, labels = data\n",
        "        images, labels = images.to(device), labels.to(device)\n",
        "        outputs = model(images)\n",
        "        _, predicted = torch.max(outputs, 1)\n",
        "        for t, p in zip(labels.view(-1), predicted.view(-1)):\n",
        "                confusion_matrix[t.long(), p.long()] += 1\n",
        "cm = confusion_matrix.numpy()\n",
        "\n",
        "fig,ax= plt.subplots(figsize=(10,10))\n",
        "sns.heatmap(cm, annot=True, fmt='.0f',cmap='Blues')\n",
        "ax.set_xlabel('Predicted', size=20);\n",
        "ax.set_ylabel('True', size=20);\n",
        "ax.set_title('Confusion Matrix', size=20);\n",
        "ax.xaxis.set_ticklabels([train_set.classes[0],train_set.classes[1],train_set.classes[2],train_set.classes[3], train_set.classes[4], train_set.classes[5],train_set.classes[6], train_set.classes[7], train_set.classes[8], train_set.classes[9]], size=9); \\\n",
        "ax.yaxis.set_ticklabels([train_set.classes[0],train_set.classes[1],train_set.classes[2],train_set.classes[3], train_set.classes[4], train_set.classes[5],train_set.classes[6], train_set.classes[7], train_set.classes[8], train_set.classes[9]], size=9);"
      ],
      "execution_count": 11,
      "outputs": [
        {
          "output_type": "display_data",
          "data": {
            "image/png": "[encoded data removed]",
            "text/plain": [
              "<Figure size 720x720 with 2 Axes>"
            ]
          },
          "metadata": {
            "tags": [],
            "needs_background": "light"
          }
        }
      ]
    },
    {
      "cell_type": "code",
      "metadata": {
        "id": "qfEKXm-o7Ifr"
      },
      "source": [
        "'''\n",
        "The confusion matrix above shows that the model does fairly\n",
        "well for the class of T-shirt/top. The most common mistake that\n",
        "the model made here is that it sometimes wrongly predicted a T-shirt/top to\n",
        "be a Shirt, which makes sense given the intuitive similarity between the two.\n",
        "The model did better with the class ofTrouser. The main mistake it made\n",
        "when given something in this class was to say that it was a Dress, which\n",
        "is interesting since both of these are pieces of clothing that\n",
        "cover the bottom half of a person.\n",
        "When given a Pullover, the model's main mistake was to wrongly\n",
        "predict that it was either a Coat or a Shirt, which makes intuitive sense,\n",
        "given that these all cover the top half of a person.\n",
        "Dresses were sometimes confused as either a T-shirt/top, a Pullover, or a Shirt.\n",
        "Turning to the Coat, the main mistake that was made here was that the model\n",
        "sometimes predicted a Coat to be either a Pullover or Shirt, a mistake that does\n",
        "not seem too surprising.\n",
        "Sandals, Sneakers, and Ankle boots were sometimes mistaken\n",
        "for one another, which seems understandable since they are all footwear.\n",
        "The model performed well on bags, with the most common mistake consisting of\n",
        "predicting that a Bag was a Dress.\n",
        "The category that the model struggled most with was a Shirt,\n",
        "which it sometimes predicted to be either a T-shirt/top, Pullover,\n",
        "or Coat. This, however, makes intuitive sense given that all three of these are\n",
        "used to cover a person's top half.\n",
        "'''"
      ],
      "execution_count": null,
      "outputs": []
    }
  ]
}