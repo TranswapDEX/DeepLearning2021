{
  "nbformat": 4,
  "nbformat_minor": 0,
  "metadata": {
    "accelerator": "GPU",
    "colab": {
      "name": "Copy of HW4a",
      "provenance": [],
      "collapsed_sections": []
    },
    "kernelspec": {
      "display_name": "Python 3",
      "name": "python3"
    },
    "widgets": {
      "application/vnd.jupyter.widget-state+json": {
        "49d0e9e28d81494ab1e46fd4738f1c41": {
          "model_module": "@jupyter-widgets/controls",
          "model_name": "HBoxModel",
          "state": {
            "_view_name": "HBoxView",
            "_dom_classes": [],
            "_model_name": "HBoxModel",
            "_view_module": "@jupyter-widgets/controls",
            "_model_module_version": "1.5.0",
            "_view_count": null,
            "_view_module_version": "1.5.0",
            "box_style": "",
            "layout": "IPY_MODEL_117a41efed32434fb7fa1935cb3f2047",
            "_model_module": "@jupyter-widgets/controls",
            "children": [
              "IPY_MODEL_cb59b492e23f4d8b91aa8e58e8a17824",
              "IPY_MODEL_85a1a2e888234d968fa243611a40acc9"
            ]
          }
        },
        "117a41efed32434fb7fa1935cb3f2047": {
          "model_module": "@jupyter-widgets/base",
          "model_name": "LayoutModel",
          "state": {
            "_view_name": "LayoutView",
            "grid_template_rows": null,
            "right": null,
            "justify_content": null,
            "_view_module": "@jupyter-widgets/base",
            "overflow": null,
            "_model_module_version": "1.2.0",
            "_view_count": null,
            "flex_flow": null,
            "width": null,
            "min_width": null,
            "border": null,
            "align_items": null,
            "bottom": null,
            "_model_module": "@jupyter-widgets/base",
            "top": null,
            "grid_column": null,
            "overflow_y": null,
            "overflow_x": null,
            "grid_auto_flow": null,
            "grid_area": null,
            "grid_template_columns": null,
            "flex": null,
            "_model_name": "LayoutModel",
            "justify_items": null,
            "grid_row": null,
            "max_height": null,
            "align_content": null,
            "visibility": null,
            "align_self": null,
            "height": null,
            "min_height": null,
            "padding": null,
            "grid_auto_rows": null,
            "grid_gap": null,
            "max_width": null,
            "order": null,
            "_view_module_version": "1.2.0",
            "grid_template_areas": null,
            "object_position": null,
            "object_fit": null,
            "grid_auto_columns": null,
            "margin": null,
            "display": null,
            "left": null
          }
        },
        "cb59b492e23f4d8b91aa8e58e8a17824": {
          "model_module": "@jupyter-widgets/controls",
          "model_name": "FloatProgressModel",
          "state": {
            "_view_name": "ProgressView",
            "style": "IPY_MODEL_4a651929ddbf42708f663f5632cd0b13",
            "_dom_classes": [],
            "description": "",
            "_model_name": "FloatProgressModel",
            "bar_style": "success",
            "max": 26421880,
            "_view_module": "@jupyter-widgets/controls",
            "_model_module_version": "1.5.0",
            "value": 26421880,
            "_view_count": null,
            "_view_module_version": "1.5.0",
            "orientation": "horizontal",
            "min": 0,
            "description_tooltip": null,
            "_model_module": "@jupyter-widgets/controls",
            "layout": "IPY_MODEL_117b41c311bb4032bd401548659a5e7e"
          }
        },
        "85a1a2e888234d968fa243611a40acc9": {
          "model_module": "@jupyter-widgets/controls",
          "model_name": "HTMLModel",
          "state": {
            "_view_name": "HTMLView",
            "style": "IPY_MODEL_f93ae44ae88d46029c1b11a9bd6b132c",
            "_dom_classes": [],
            "description": "",
            "_model_name": "HTMLModel",
            "placeholder": "​",
            "_view_module": "@jupyter-widgets/controls",
            "_model_module_version": "1.5.0",
            "value": " 26422272/? [00:56&lt;00:00, 470487.95it/s]",
            "_view_count": null,
            "_view_module_version": "1.5.0",
            "description_tooltip": null,
            "_model_module": "@jupyter-widgets/controls",
            "layout": "IPY_MODEL_1d3c9bc6a9ba4c839095cc1899d500ac"
          }
        },
        "4a651929ddbf42708f663f5632cd0b13": {
          "model_module": "@jupyter-widgets/controls",
          "model_name": "ProgressStyleModel",
          "state": {
            "_view_name": "StyleView",
            "_model_name": "ProgressStyleModel",
            "description_width": "initial",
            "_view_module": "@jupyter-widgets/base",
            "_model_module_version": "1.5.0",
            "_view_count": null,
            "_view_module_version": "1.2.0",
            "bar_color": null,
            "_model_module": "@jupyter-widgets/controls"
          }
        },
        "117b41c311bb4032bd401548659a5e7e": {
          "model_module": "@jupyter-widgets/base",
          "model_name": "LayoutModel",
          "state": {
            "_view_name": "LayoutView",
            "grid_template_rows": null,
            "right": null,
            "justify_content": null,
            "_view_module": "@jupyter-widgets/base",
            "overflow": null,
            "_model_module_version": "1.2.0",
            "_view_count": null,
            "flex_flow": null,
            "width": null,
            "min_width": null,
            "border": null,
            "align_items": null,
            "bottom": null,
            "_model_module": "@jupyter-widgets/base",
            "top": null,
            "grid_column": null,
            "overflow_y": null,
            "overflow_x": null,
            "grid_auto_flow": null,
            "grid_area": null,
            "grid_template_columns": null,
            "flex": null,
            "_model_name": "LayoutModel",
            "justify_items": null,
            "grid_row": null,
            "max_height": null,
            "align_content": null,
            "visibility": null,
            "align_self": null,
            "height": null,
            "min_height": null,
            "padding": null,
            "grid_auto_rows": null,
            "grid_gap": null,
            "max_width": null,
            "order": null,
            "_view_module_version": "1.2.0",
            "grid_template_areas": null,
            "object_position": null,
            "object_fit": null,
            "grid_auto_columns": null,
            "margin": null,
            "display": null,
            "left": null
          }
        },
        "f93ae44ae88d46029c1b11a9bd6b132c": {
          "model_module": "@jupyter-widgets/controls",
          "model_name": "DescriptionStyleModel",
          "state": {
            "_view_name": "StyleView",
            "_model_name": "DescriptionStyleModel",
            "description_width": "",
            "_view_module": "@jupyter-widgets/base",
            "_model_module_version": "1.5.0",
            "_view_count": null,
            "_view_module_version": "1.2.0",
            "_model_module": "@jupyter-widgets/controls"
          }
        },
        "1d3c9bc6a9ba4c839095cc1899d500ac": {
          "model_module": "@jupyter-widgets/base",
          "model_name": "LayoutModel",
          "state": {
            "_view_name": "LayoutView",
            "grid_template_rows": null,
            "right": null,
            "justify_content": null,
            "_view_module": "@jupyter-widgets/base",
            "overflow": null,
            "_model_module_version": "1.2.0",
            "_view_count": null,
            "flex_flow": null,
            "width": null,
            "min_width": null,
            "border": null,
            "align_items": null,
            "bottom": null,
            "_model_module": "@jupyter-widgets/base",
            "top": null,
            "grid_column": null,
            "overflow_y": null,
            "overflow_x": null,
            "grid_auto_flow": null,
            "grid_area": null,
            "grid_template_columns": null,
            "flex": null,
            "_model_name": "LayoutModel",
            "justify_items": null,
            "grid_row": null,
            "max_height": null,
            "align_content": null,
            "visibility": null,
            "align_self": null,
            "height": null,
            "min_height": null,
            "padding": null,
            "grid_auto_rows": null,
            "grid_gap": null,
            "max_width": null,
            "order": null,
            "_view_module_version": "1.2.0",
            "grid_template_areas": null,
            "object_position": null,
            "object_fit": null,
            "grid_auto_columns": null,
            "margin": null,
            "display": null,
            "left": null
          }
        },
        "e23c758fc55d4eadb68e52f3e5dadcfe": {
          "model_module": "@jupyter-widgets/controls",
          "model_name": "HBoxModel",
          "state": {
            "_view_name": "HBoxView",
            "_dom_classes": [],
            "_model_name": "HBoxModel",
            "_view_module": "@jupyter-widgets/controls",
            "_model_module_version": "1.5.0",
            "_view_count": null,
            "_view_module_version": "1.5.0",
            "box_style": "",
            "layout": "IPY_MODEL_2312db82f0334e5f97146fcc1af48ecc",
            "_model_module": "@jupyter-widgets/controls",
            "children": [
              "IPY_MODEL_09adf51af7c14214b6363098bbe96ca5",
              "IPY_MODEL_98408d240d1c47969182ae85ae7a64cf"
            ]
          }
        },
        "2312db82f0334e5f97146fcc1af48ecc": {
          "model_module": "@jupyter-widgets/base",
          "model_name": "LayoutModel",
          "state": {
            "_view_name": "LayoutView",
            "grid_template_rows": null,
            "right": null,
            "justify_content": null,
            "_view_module": "@jupyter-widgets/base",
            "overflow": null,
            "_model_module_version": "1.2.0",
            "_view_count": null,
            "flex_flow": null,
            "width": null,
            "min_width": null,
            "border": null,
            "align_items": null,
            "bottom": null,
            "_model_module": "@jupyter-widgets/base",
            "top": null,
            "grid_column": null,
            "overflow_y": null,
            "overflow_x": null,
            "grid_auto_flow": null,
            "grid_area": null,
            "grid_template_columns": null,
            "flex": null,
            "_model_name": "LayoutModel",
            "justify_items": null,
            "grid_row": null,
            "max_height": null,
            "align_content": null,
            "visibility": null,
            "align_self": null,
            "height": null,
            "min_height": null,
            "padding": null,
            "grid_auto_rows": null,
            "grid_gap": null,
            "max_width": null,
            "order": null,
            "_view_module_version": "1.2.0",
            "grid_template_areas": null,
            "object_position": null,
            "object_fit": null,
            "grid_auto_columns": null,
            "margin": null,
            "display": null,
            "left": null
          }
        },
        "09adf51af7c14214b6363098bbe96ca5": {
          "model_module": "@jupyter-widgets/controls",
          "model_name": "FloatProgressModel",
          "state": {
            "_view_name": "ProgressView",
            "style": "IPY_MODEL_6fcfe987302648a68bdc0dfddc624413",
            "_dom_classes": [],
            "description": "",
            "_model_name": "FloatProgressModel",
            "bar_style": "success",
            "max": 29515,
            "_view_module": "@jupyter-widgets/controls",
            "_model_module_version": "1.5.0",
            "value": 29515,
            "_view_count": null,
            "_view_module_version": "1.5.0",
            "orientation": "horizontal",
            "min": 0,
            "description_tooltip": null,
            "_model_module": "@jupyter-widgets/controls",
            "layout": "IPY_MODEL_e64ed3b45eb440dd85cbb9cf2f090535"
          }
        },
        "98408d240d1c47969182ae85ae7a64cf": {
          "model_module": "@jupyter-widgets/controls",
          "model_name": "HTMLModel",
          "state": {
            "_view_name": "HTMLView",
            "style": "IPY_MODEL_0c92cb3a5fb841eabf8d5504f1e0858e",
            "_dom_classes": [],
            "description": "",
            "_model_name": "HTMLModel",
            "placeholder": "​",
            "_view_module": "@jupyter-widgets/controls",
            "_model_module_version": "1.5.0",
            "value": " 29696/? [00:53&lt;00:00, 551.11it/s]",
            "_view_count": null,
            "_view_module_version": "1.5.0",
            "description_tooltip": null,
            "_model_module": "@jupyter-widgets/controls",
            "layout": "IPY_MODEL_e91fa2792b0945ec9714df21f45508f6"
          }
        },
        "6fcfe987302648a68bdc0dfddc624413": {
          "model_module": "@jupyter-widgets/controls",
          "model_name": "ProgressStyleModel",
          "state": {
            "_view_name": "StyleView",
            "_model_name": "ProgressStyleModel",
            "description_width": "initial",
            "_view_module": "@jupyter-widgets/base",
            "_model_module_version": "1.5.0",
            "_view_count": null,
            "_view_module_version": "1.2.0",
            "bar_color": null,
            "_model_module": "@jupyter-widgets/controls"
          }
        },
        "e64ed3b45eb440dd85cbb9cf2f090535": {
          "model_module": "@jupyter-widgets/base",
          "model_name": "LayoutModel",
          "state": {
            "_view_name": "LayoutView",
            "grid_template_rows": null,
            "right": null,
            "justify_content": null,
            "_view_module": "@jupyter-widgets/base",
            "overflow": null,
            "_model_module_version": "1.2.0",
            "_view_count": null,
            "flex_flow": null,
            "width": null,
            "min_width": null,
            "border": null,
            "align_items": null,
            "bottom": null,
            "_model_module": "@jupyter-widgets/base",
            "top": null,
            "grid_column": null,
            "overflow_y": null,
            "overflow_x": null,
            "grid_auto_flow": null,
            "grid_area": null,
            "grid_template_columns": null,
            "flex": null,
            "_model_name": "LayoutModel",
            "justify_items": null,
            "grid_row": null,
            "max_height": null,
            "align_content": null,
            "visibility": null,
            "align_self": null,
            "height": null,
            "min_height": null,
            "padding": null,
            "grid_auto_rows": null,
            "grid_gap": null,
            "max_width": null,
            "order": null,
            "_view_module_version": "1.2.0",
            "grid_template_areas": null,
            "object_position": null,
            "object_fit": null,
            "grid_auto_columns": null,
            "margin": null,
            "display": null,
            "left": null
          }
        },
        "0c92cb3a5fb841eabf8d5504f1e0858e": {
          "model_module": "@jupyter-widgets/controls",
          "model_name": "DescriptionStyleModel",
          "state": {
            "_view_name": "StyleView",
            "_model_name": "DescriptionStyleModel",
            "description_width": "",
            "_view_module": "@jupyter-widgets/base",
            "_model_module_version": "1.5.0",
            "_view_count": null,
            "_view_module_version": "1.2.0",
            "_model_module": "@jupyter-widgets/controls"
          }
        },
        "e91fa2792b0945ec9714df21f45508f6": {
          "model_module": "@jupyter-widgets/base",
          "model_name": "LayoutModel",
          "state": {
            "_view_name": "LayoutView",
            "grid_template_rows": null,
            "right": null,
            "justify_content": null,
            "_view_module": "@jupyter-widgets/base",
            "overflow": null,
            "_model_module_version": "1.2.0",
            "_view_count": null,
            "flex_flow": null,
            "width": null,
            "min_width": null,
            "border": null,
            "align_items": null,
            "bottom": null,
            "_model_module": "@jupyter-widgets/base",
            "top": null,
            "grid_column": null,
            "overflow_y": null,
            "overflow_x": null,
            "grid_auto_flow": null,
            "grid_area": null,
            "grid_template_columns": null,
            "flex": null,
            "_model_name": "LayoutModel",
            "justify_items": null,
            "grid_row": null,
            "max_height": null,
            "align_content": null,
            "visibility": null,
            "align_self": null,
            "height": null,
            "min_height": null,
            "padding": null,
            "grid_auto_rows": null,
            "grid_gap": null,
            "max_width": null,
            "order": null,
            "_view_module_version": "1.2.0",
            "grid_template_areas": null,
            "object_position": null,
            "object_fit": null,
            "grid_auto_columns": null,
            "margin": null,
            "display": null,
            "left": null
          }
        },
        "c1e56858e4754c4aba59c914f6b18be4": {
          "model_module": "@jupyter-widgets/controls",
          "model_name": "HBoxModel",
          "state": {
            "_view_name": "HBoxView",
            "_dom_classes": [],
            "_model_name": "HBoxModel",
            "_view_module": "@jupyter-widgets/controls",
            "_model_module_version": "1.5.0",
            "_view_count": null,
            "_view_module_version": "1.5.0",
            "box_style": "",
            "layout": "IPY_MODEL_21e878d5a11e4f9ead3866628bb88f97",
            "_model_module": "@jupyter-widgets/controls",
            "children": [
              "IPY_MODEL_5588a4a90ded4ea283179261e431270b",
              "IPY_MODEL_4330854746cd4f96ab5ccc99be3effce"
            ]
          }
        },
        "21e878d5a11e4f9ead3866628bb88f97": {
          "model_module": "@jupyter-widgets/base",
          "model_name": "LayoutModel",
          "state": {
            "_view_name": "LayoutView",
            "grid_template_rows": null,
            "right": null,
            "justify_content": null,
            "_view_module": "@jupyter-widgets/base",
            "overflow": null,
            "_model_module_version": "1.2.0",
            "_view_count": null,
            "flex_flow": null,
            "width": null,
            "min_width": null,
            "border": null,
            "align_items": null,
            "bottom": null,
            "_model_module": "@jupyter-widgets/base",
            "top": null,
            "grid_column": null,
            "overflow_y": null,
            "overflow_x": null,
            "grid_auto_flow": null,
            "grid_area": null,
            "grid_template_columns": null,
            "flex": null,
            "_model_name": "LayoutModel",
            "justify_items": null,
            "grid_row": null,
            "max_height": null,
            "align_content": null,
            "visibility": null,
            "align_self": null,
            "height": null,
            "min_height": null,
            "padding": null,
            "grid_auto_rows": null,
            "grid_gap": null,
            "max_width": null,
            "order": null,
            "_view_module_version": "1.2.0",
            "grid_template_areas": null,
            "object_position": null,
            "object_fit": null,
            "grid_auto_columns": null,
            "margin": null,
            "display": null,
            "left": null
          }
        },
        "5588a4a90ded4ea283179261e431270b": {
          "model_module": "@jupyter-widgets/controls",
          "model_name": "FloatProgressModel",
          "state": {
            "_view_name": "ProgressView",
            "style": "IPY_MODEL_69b2e5f918b3427d8fe18a0a1563dd26",
            "_dom_classes": [],
            "description": "",
            "_model_name": "FloatProgressModel",
            "bar_style": "success",
            "max": 4422102,
            "_view_module": "@jupyter-widgets/controls",
            "_model_module_version": "1.5.0",
            "value": 4422102,
            "_view_count": null,
            "_view_module_version": "1.5.0",
            "orientation": "horizontal",
            "min": 0,
            "description_tooltip": null,
            "_model_module": "@jupyter-widgets/controls",
            "layout": "IPY_MODEL_e5df01f7987d4d2a85f39c2be34fb926"
          }
        },
        "4330854746cd4f96ab5ccc99be3effce": {
          "model_module": "@jupyter-widgets/controls",
          "model_name": "HTMLModel",
          "state": {
            "_view_name": "HTMLView",
            "style": "IPY_MODEL_61ec80134462437ca0d37f96609577de",
            "_dom_classes": [],
            "description": "",
            "_model_name": "HTMLModel",
            "placeholder": "​",
            "_view_module": "@jupyter-widgets/controls",
            "_model_module_version": "1.5.0",
            "value": " 4422656/? [00:01&lt;00:00, 3042601.22it/s]",
            "_view_count": null,
            "_view_module_version": "1.5.0",
            "description_tooltip": null,
            "_model_module": "@jupyter-widgets/controls",
            "layout": "IPY_MODEL_e5b463c5ae6749438eac384bda7661cd"
          }
        },
        "69b2e5f918b3427d8fe18a0a1563dd26": {
          "model_module": "@jupyter-widgets/controls",
          "model_name": "ProgressStyleModel",
          "state": {
            "_view_name": "StyleView",
            "_model_name": "ProgressStyleModel",
            "description_width": "initial",
            "_view_module": "@jupyter-widgets/base",
            "_model_module_version": "1.5.0",
            "_view_count": null,
            "_view_module_version": "1.2.0",
            "bar_color": null,
            "_model_module": "@jupyter-widgets/controls"
          }
        },
        "e5df01f7987d4d2a85f39c2be34fb926": {
          "model_module": "@jupyter-widgets/base",
          "model_name": "LayoutModel",
          "state": {
            "_view_name": "LayoutView",
            "grid_template_rows": null,
            "right": null,
            "justify_content": null,
            "_view_module": "@jupyter-widgets/base",
            "overflow": null,
            "_model_module_version": "1.2.0",
            "_view_count": null,
            "flex_flow": null,
            "width": null,
            "min_width": null,
            "border": null,
            "align_items": null,
            "bottom": null,
            "_model_module": "@jupyter-widgets/base",
            "top": null,
            "grid_column": null,
            "overflow_y": null,
            "overflow_x": null,
            "grid_auto_flow": null,
            "grid_area": null,
            "grid_template_columns": null,
            "flex": null,
            "_model_name": "LayoutModel",
            "justify_items": null,
            "grid_row": null,
            "max_height": null,
            "align_content": null,
            "visibility": null,
            "align_self": null,
            "height": null,
            "min_height": null,
            "padding": null,
            "grid_auto_rows": null,
            "grid_gap": null,
            "max_width": null,
            "order": null,
            "_view_module_version": "1.2.0",
            "grid_template_areas": null,
            "object_position": null,
            "object_fit": null,
            "grid_auto_columns": null,
            "margin": null,
            "display": null,
            "left": null
          }
        },
        "61ec80134462437ca0d37f96609577de": {
          "model_module": "@jupyter-widgets/controls",
          "model_name": "DescriptionStyleModel",
          "state": {
            "_view_name": "StyleView",
            "_model_name": "DescriptionStyleModel",
            "description_width": "",
            "_view_module": "@jupyter-widgets/base",
            "_model_module_version": "1.5.0",
            "_view_count": null,
            "_view_module_version": "1.2.0",
            "_model_module": "@jupyter-widgets/controls"
          }
        },
        "e5b463c5ae6749438eac384bda7661cd": {
          "model_module": "@jupyter-widgets/base",
          "model_name": "LayoutModel",
          "state": {
            "_view_name": "LayoutView",
            "grid_template_rows": null,
            "right": null,
            "justify_content": null,
            "_view_module": "@jupyter-widgets/base",
            "overflow": null,
            "_model_module_version": "1.2.0",
            "_view_count": null,
            "flex_flow": null,
            "width": null,
            "min_width": null,
            "border": null,
            "align_items": null,
            "bottom": null,
            "_model_module": "@jupyter-widgets/base",
            "top": null,
            "grid_column": null,
            "overflow_y": null,
            "overflow_x": null,
            "grid_auto_flow": null,
            "grid_area": null,
            "grid_template_columns": null,
            "flex": null,
            "_model_name": "LayoutModel",
            "justify_items": null,
            "grid_row": null,
            "max_height": null,
            "align_content": null,
            "visibility": null,
            "align_self": null,
            "height": null,
            "min_height": null,
            "padding": null,
            "grid_auto_rows": null,
            "grid_gap": null,
            "max_width": null,
            "order": null,
            "_view_module_version": "1.2.0",
            "grid_template_areas": null,
            "object_position": null,
            "object_fit": null,
            "grid_auto_columns": null,
            "margin": null,
            "display": null,
            "left": null
          }
        },
        "f3a7cd3245fe48b0930cf4d75213378f": {
          "model_module": "@jupyter-widgets/controls",
          "model_name": "HBoxModel",
          "state": {
            "_view_name": "HBoxView",
            "_dom_classes": [],
            "_model_name": "HBoxModel",
            "_view_module": "@jupyter-widgets/controls",
            "_model_module_version": "1.5.0",
            "_view_count": null,
            "_view_module_version": "1.5.0",
            "box_style": "",
            "layout": "IPY_MODEL_9a63cefa8f474e29809f727e1fe4476d",
            "_model_module": "@jupyter-widgets/controls",
            "children": [
              "IPY_MODEL_ee06df46112049dd9556f2e5fe932c32",
              "IPY_MODEL_5ba4f4829a694f0fb59aced5e878b401"
            ]
          }
        },
        "9a63cefa8f474e29809f727e1fe4476d": {
          "model_module": "@jupyter-widgets/base",
          "model_name": "LayoutModel",
          "state": {
            "_view_name": "LayoutView",
            "grid_template_rows": null,
            "right": null,
            "justify_content": null,
            "_view_module": "@jupyter-widgets/base",
            "overflow": null,
            "_model_module_version": "1.2.0",
            "_view_count": null,
            "flex_flow": null,
            "width": null,
            "min_width": null,
            "border": null,
            "align_items": null,
            "bottom": null,
            "_model_module": "@jupyter-widgets/base",
            "top": null,
            "grid_column": null,
            "overflow_y": null,
            "overflow_x": null,
            "grid_auto_flow": null,
            "grid_area": null,
            "grid_template_columns": null,
            "flex": null,
            "_model_name": "LayoutModel",
            "justify_items": null,
            "grid_row": null,
            "max_height": null,
            "align_content": null,
            "visibility": null,
            "align_self": null,
            "height": null,
            "min_height": null,
            "padding": null,
            "grid_auto_rows": null,
            "grid_gap": null,
            "max_width": null,
            "order": null,
            "_view_module_version": "1.2.0",
            "grid_template_areas": null,
            "object_position": null,
            "object_fit": null,
            "grid_auto_columns": null,
            "margin": null,
            "display": null,
            "left": null
          }
        },
        "ee06df46112049dd9556f2e5fe932c32": {
          "model_module": "@jupyter-widgets/controls",
          "model_name": "FloatProgressModel",
          "state": {
            "_view_name": "ProgressView",
            "style": "IPY_MODEL_0d80eb56140641e6a476cb380559867a",
            "_dom_classes": [],
            "description": "",
            "_model_name": "FloatProgressModel",
            "bar_style": "success",
            "max": 5148,
            "_view_module": "@jupyter-widgets/controls",
            "_model_module_version": "1.5.0",
            "value": 5148,
            "_view_count": null,
            "_view_module_version": "1.5.0",
            "orientation": "horizontal",
            "min": 0,
            "description_tooltip": null,
            "_model_module": "@jupyter-widgets/controls",
            "layout": "IPY_MODEL_52eb8bf7e1a94f0b9d6ef771dc230874"
          }
        },
        "5ba4f4829a694f0fb59aced5e878b401": {
          "model_module": "@jupyter-widgets/controls",
          "model_name": "HTMLModel",
          "state": {
            "_view_name": "HTMLView",
            "style": "IPY_MODEL_e6737b3fcc2648e7bf60f1d002df4fbc",
            "_dom_classes": [],
            "description": "",
            "_model_name": "HTMLModel",
            "placeholder": "​",
            "_view_module": "@jupyter-widgets/controls",
            "_model_module_version": "1.5.0",
            "value": " 6144/? [00:00&lt;00:00, 24218.67it/s]",
            "_view_count": null,
            "_view_module_version": "1.5.0",
            "description_tooltip": null,
            "_model_module": "@jupyter-widgets/controls",
            "layout": "IPY_MODEL_6a5a1dd94fb04462ba896beeac43c2c3"
          }
        },
        "0d80eb56140641e6a476cb380559867a": {
          "model_module": "@jupyter-widgets/controls",
          "model_name": "ProgressStyleModel",
          "state": {
            "_view_name": "StyleView",
            "_model_name": "ProgressStyleModel",
            "description_width": "initial",
            "_view_module": "@jupyter-widgets/base",
            "_model_module_version": "1.5.0",
            "_view_count": null,
            "_view_module_version": "1.2.0",
            "bar_color": null,
            "_model_module": "@jupyter-widgets/controls"
          }
        },
        "52eb8bf7e1a94f0b9d6ef771dc230874": {
          "model_module": "@jupyter-widgets/base",
          "model_name": "LayoutModel",
          "state": {
            "_view_name": "LayoutView",
            "grid_template_rows": null,
            "right": null,
            "justify_content": null,
            "_view_module": "@jupyter-widgets/base",
            "overflow": null,
            "_model_module_version": "1.2.0",
            "_view_count": null,
            "flex_flow": null,
            "width": null,
            "min_width": null,
            "border": null,
            "align_items": null,
            "bottom": null,
            "_model_module": "@jupyter-widgets/base",
            "top": null,
            "grid_column": null,
            "overflow_y": null,
            "overflow_x": null,
            "grid_auto_flow": null,
            "grid_area": null,
            "grid_template_columns": null,
            "flex": null,
            "_model_name": "LayoutModel",
            "justify_items": null,
            "grid_row": null,
            "max_height": null,
            "align_content": null,
            "visibility": null,
            "align_self": null,
            "height": null,
            "min_height": null,
            "padding": null,
            "grid_auto_rows": null,
            "grid_gap": null,
            "max_width": null,
            "order": null,
            "_view_module_version": "1.2.0",
            "grid_template_areas": null,
            "object_position": null,
            "object_fit": null,
            "grid_auto_columns": null,
            "margin": null,
            "display": null,
            "left": null
          }
        },
        "e6737b3fcc2648e7bf60f1d002df4fbc": {
          "model_module": "@jupyter-widgets/controls",
          "model_name": "DescriptionStyleModel",
          "state": {
            "_view_name": "StyleView",
            "_model_name": "DescriptionStyleModel",
            "description_width": "",
            "_view_module": "@jupyter-widgets/base",
            "_model_module_version": "1.5.0",
            "_view_count": null,
            "_view_module_version": "1.2.0",
            "_model_module": "@jupyter-widgets/controls"
          }
        },
        "6a5a1dd94fb04462ba896beeac43c2c3": {
          "model_module": "@jupyter-widgets/base",
          "model_name": "LayoutModel",
          "state": {
            "_view_name": "LayoutView",
            "grid_template_rows": null,
            "right": null,
            "justify_content": null,
            "_view_module": "@jupyter-widgets/base",
            "overflow": null,
            "_model_module_version": "1.2.0",
            "_view_count": null,
            "flex_flow": null,
            "width": null,
            "min_width": null,
            "border": null,
            "align_items": null,
            "bottom": null,
            "_model_module": "@jupyter-widgets/base",
            "top": null,
            "grid_column": null,
            "overflow_y": null,
            "overflow_x": null,
            "grid_auto_flow": null,
            "grid_area": null,
            "grid_template_columns": null,
            "flex": null,
            "_model_name": "LayoutModel",
            "justify_items": null,
            "grid_row": null,
            "max_height": null,
            "align_content": null,
            "visibility": null,
            "align_self": null,
            "height": null,
            "min_height": null,
            "padding": null,
            "grid_auto_rows": null,
            "grid_gap": null,
            "max_width": null,
            "order": null,
            "_view_module_version": "1.2.0",
            "grid_template_areas": null,
            "object_position": null,
            "object_fit": null,
            "grid_auto_columns": null,
            "margin": null,
            "display": null,
            "left": null
          }
        }
      }
    }
  },
  "cells": [
    {
      "cell_type": "markdown",
      "metadata": {
        "id": "fwjwVM5CgtQ3"
      },
      "source": [
        "(Notebook modified from https://course.ccs.neu.edu/ds4440f20/)\n",
        "\n",
        "**Instructions:** Answer the four questions below in the notebook itself. Submit your notebook on Canvas and a pdf printout.\n",
        "\n",
        "\n",
        "### Convolutional Neural Networks\n",
        "\n",
        "A simple example to demonstrate the ideas introduced in lecture and (relatively simple exercises)"
      ]
    },
    {
      "cell_type": "code",
      "metadata": {
        "id": "KL7QrOeVgZVW"
      },
      "source": [
        "import torch\n",
        "from torch import nn\n",
        "\n",
        "import torchvision\n",
        "from torchvision import transforms"
      ],
      "execution_count": 1,
      "outputs": []
    },
    {
      "cell_type": "code",
      "metadata": {
        "id": "y2UO5VKwhCAs",
        "colab": {
          "base_uri": "https://localhost:8080/",
          "height": 573,
          "referenced_widgets": [
            "49d0e9e28d81494ab1e46fd4738f1c41",
            "117a41efed32434fb7fa1935cb3f2047",
            "cb59b492e23f4d8b91aa8e58e8a17824",
            "85a1a2e888234d968fa243611a40acc9",
            "4a651929ddbf42708f663f5632cd0b13",
            "117b41c311bb4032bd401548659a5e7e",
            "f93ae44ae88d46029c1b11a9bd6b132c",
            "1d3c9bc6a9ba4c839095cc1899d500ac",
            "e23c758fc55d4eadb68e52f3e5dadcfe",
            "2312db82f0334e5f97146fcc1af48ecc",
            "09adf51af7c14214b6363098bbe96ca5",
            "98408d240d1c47969182ae85ae7a64cf",
            "6fcfe987302648a68bdc0dfddc624413",
            "e64ed3b45eb440dd85cbb9cf2f090535",
            "0c92cb3a5fb841eabf8d5504f1e0858e",
            "e91fa2792b0945ec9714df21f45508f6",
            "c1e56858e4754c4aba59c914f6b18be4",
            "21e878d5a11e4f9ead3866628bb88f97",
            "5588a4a90ded4ea283179261e431270b",
            "4330854746cd4f96ab5ccc99be3effce",
            "69b2e5f918b3427d8fe18a0a1563dd26",
            "e5df01f7987d4d2a85f39c2be34fb926",
            "61ec80134462437ca0d37f96609577de",
            "e5b463c5ae6749438eac384bda7661cd",
            "f3a7cd3245fe48b0930cf4d75213378f",
            "9a63cefa8f474e29809f727e1fe4476d",
            "ee06df46112049dd9556f2e5fe932c32",
            "5ba4f4829a694f0fb59aced5e878b401",
            "0d80eb56140641e6a476cb380559867a",
            "52eb8bf7e1a94f0b9d6ef771dc230874",
            "e6737b3fcc2648e7bf60f1d002df4fbc",
            "6a5a1dd94fb04462ba896beeac43c2c3"
          ]
        },
        "outputId": "3f809374-7162-4f96-ce0c-538281ad0155"
      },
      "source": [
        "train_set = torchvision.datasets.FashionMNIST(\"./data\", download=True, transform=\n",
        "                                                transforms.Compose([transforms.ToTensor()]))\n",
        "test_set = torchvision.datasets.FashionMNIST(\"./data\", download=True, train=False, transform=\n",
        "                                               transforms.Compose([transforms.ToTensor()]))  "
      ],
      "execution_count": 2,
      "outputs": [
        {
          "output_type": "stream",
          "text": [
            "Downloading http://fashion-mnist.s3-website.eu-central-1.amazonaws.com/train-images-idx3-ubyte.gz\n",
            "Downloading http://fashion-mnist.s3-website.eu-central-1.amazonaws.com/train-images-idx3-ubyte.gz to ./data/FashionMNIST/raw/train-images-idx3-ubyte.gz\n"
          ],
          "name": "stdout"
        },
        {
          "output_type": "display_data",
          "data": {
            "application/vnd.jupyter.widget-view+json": {
              "model_id": "49d0e9e28d81494ab1e46fd4738f1c41",
              "version_minor": 0,
              "version_major": 2
            },
            "text/plain": [
              "HBox(children=(FloatProgress(value=0.0, max=26421880.0), HTML(value='')))"
            ]
          },
          "metadata": {
            "tags": []
          }
        },
        {
          "output_type": "stream",
          "text": [
            "\n",
            "Extracting ./data/FashionMNIST/raw/train-images-idx3-ubyte.gz to ./data/FashionMNIST/raw\n",
            "\n",
            "Downloading http://fashion-mnist.s3-website.eu-central-1.amazonaws.com/train-labels-idx1-ubyte.gz\n",
            "Downloading http://fashion-mnist.s3-website.eu-central-1.amazonaws.com/train-labels-idx1-ubyte.gz to ./data/FashionMNIST/raw/train-labels-idx1-ubyte.gz\n"
          ],
          "name": "stdout"
        },
        {
          "output_type": "display_data",
          "data": {
            "application/vnd.jupyter.widget-view+json": {
              "model_id": "e23c758fc55d4eadb68e52f3e5dadcfe",
              "version_minor": 0,
              "version_major": 2
            },
            "text/plain": [
              "HBox(children=(FloatProgress(value=0.0, max=29515.0), HTML(value='')))"
            ]
          },
          "metadata": {
            "tags": []
          }
        },
        {
          "output_type": "stream",
          "text": [
            "\n",
            "Extracting ./data/FashionMNIST/raw/train-labels-idx1-ubyte.gz to ./data/FashionMNIST/raw\n",
            "\n",
            "Downloading http://fashion-mnist.s3-website.eu-central-1.amazonaws.com/t10k-images-idx3-ubyte.gz\n",
            "Downloading http://fashion-mnist.s3-website.eu-central-1.amazonaws.com/t10k-images-idx3-ubyte.gz to ./data/FashionMNIST/raw/t10k-images-idx3-ubyte.gz\n"
          ],
          "name": "stdout"
        },
        {
          "output_type": "display_data",
          "data": {
            "application/vnd.jupyter.widget-view+json": {
              "model_id": "c1e56858e4754c4aba59c914f6b18be4",
              "version_minor": 0,
              "version_major": 2
            },
            "text/plain": [
              "HBox(children=(FloatProgress(value=0.0, max=4422102.0), HTML(value='')))"
            ]
          },
          "metadata": {
            "tags": []
          }
        },
        {
          "output_type": "stream",
          "text": [
            "\n",
            "Extracting ./data/FashionMNIST/raw/t10k-images-idx3-ubyte.gz to ./data/FashionMNIST/raw\n",
            "\n",
            "Downloading http://fashion-mnist.s3-website.eu-central-1.amazonaws.com/t10k-labels-idx1-ubyte.gz\n",
            "Downloading http://fashion-mnist.s3-website.eu-central-1.amazonaws.com/t10k-labels-idx1-ubyte.gz to ./data/FashionMNIST/raw/t10k-labels-idx1-ubyte.gz\n"
          ],
          "name": "stdout"
        },
        {
          "output_type": "display_data",
          "data": {
            "application/vnd.jupyter.widget-view+json": {
              "model_id": "f3a7cd3245fe48b0930cf4d75213378f",
              "version_minor": 0,
              "version_major": 2
            },
            "text/plain": [
              "HBox(children=(FloatProgress(value=0.0, max=5148.0), HTML(value='')))"
            ]
          },
          "metadata": {
            "tags": []
          }
        },
        {
          "output_type": "stream",
          "text": [
            "\n",
            "Extracting ./data/FashionMNIST/raw/t10k-labels-idx1-ubyte.gz to ./data/FashionMNIST/raw\n",
            "\n",
            "Processing...\n",
            "Done!\n"
          ],
          "name": "stdout"
        },
        {
          "output_type": "stream",
          "text": [
            "/usr/local/lib/python3.7/dist-packages/torchvision/datasets/mnist.py:502: UserWarning: The given NumPy array is not writeable, and PyTorch does not support non-writeable tensors. This means you can write to the underlying (supposedly non-writeable) NumPy array using the tensor. You may want to copy the array to protect its data or make it writeable before converting it to a tensor. This type of warning will be suppressed for the rest of this program. (Triggered internally at  /pytorch/torch/csrc/utils/tensor_numpy.cpp:143.)\n",
            "  return torch.from_numpy(parsed.astype(m[2], copy=False)).view(*s)\n"
          ],
          "name": "stderr"
        }
      ]
    },
    {
      "cell_type": "markdown",
      "metadata": {
        "id": "1nux9q-Q4WDE"
      },
      "source": [
        "**Q1. Write code to answer the questiosn below:**\n",
        "- How many images are there in `train_data` and `test_data`?\n",
        "- How many labels are there in `train_data`?\n",
        "- What is the height and width of each image?\n",
        "\n",
        "The answer to Q1 is the code that outputs the answers to the questions above."
      ]
    },
    {
      "cell_type": "code",
      "metadata": {
        "id": "c2AnMAMchLEi",
        "colab": {
          "base_uri": "https://localhost:8080/"
        },
        "outputId": "363dc6cf-9676-4c6d-887f-33f27ea95dcf"
      },
      "source": [
        "print(\"The number of images in the train data is: %d\" %len(train_set))\n",
        "print(\"The number of images in the test data is: %d\" %len(test_set))\n",
        "print(\"The number of labels in the train data is: %d\" %len(train_set.classes))\n",
        "print(\"The height and width of each image is: \", train_set.data.shape[1:])"
      ],
      "execution_count": 3,
      "outputs": [
        {
          "output_type": "stream",
          "text": [
            "The number of images in the train data is: 60000\n",
            "The number of images in the test data is: 10000\n",
            "The number of labels in the train data is: 10\n",
            "The height and width of each image is:  torch.Size([28, 28])\n"
          ],
          "name": "stdout"
        }
      ]
    },
    {
      "cell_type": "code",
      "metadata": {
        "id": "k8bxnZGGhmnc"
      },
      "source": [
        "# Note: the `out_channels` argument is what we referred to as the number of\n",
        "# filters in lecture. \n",
        "conv_layer = nn.Conv2d(in_channels=1, out_channels=5, stride=2, kernel_size=3)"
      ],
      "execution_count": 4,
      "outputs": []
    },
    {
      "cell_type": "code",
      "metadata": {
        "colab": {
          "base_uri": "https://localhost:8080/"
        },
        "id": "gIoags6lhvLM",
        "outputId": "82c76eed-16b2-4189-f081-c5201a4475a9"
      },
      "source": [
        "conv_layer.weight.shape"
      ],
      "execution_count": 5,
      "outputs": [
        {
          "output_type": "execute_result",
          "data": {
            "text/plain": [
              "torch.Size([5, 1, 3, 3])"
            ]
          },
          "metadata": {
            "tags": []
          },
          "execution_count": 5
        }
      ]
    },
    {
      "cell_type": "code",
      "metadata": {
        "id": "tEedCGdtn1ZJ"
      },
      "source": [
        "batch_size = 32\n",
        "train_loader = torch.utils.data.DataLoader(dataset=train_set,\n",
        "                                           batch_size=batch_size, \n",
        "                                           shuffle=True)\n",
        "\n",
        "test_loader = torch.utils.data.DataLoader(dataset=test_set,\n",
        "                                          batch_size=batch_size, \n",
        "                                          shuffle=False)"
      ],
      "execution_count": 6,
      "outputs": []
    },
    {
      "cell_type": "markdown",
      "metadata": {
        "id": "iojorQrc6Np1"
      },
      "source": [
        "**Q2. Answer the following questions (no code required):**\n",
        "\n",
        "- What is the meaning of `shuffle=True and shuffle=False**\n",
        "- Why do we shuffle the train data?\n",
        "- Why don't we shuffle the test data?\n",
        "\n",
        "The answer to Q2 is a few sentences, no code required."
      ]
    },
    {
      "cell_type": "markdown",
      "metadata": {
        "id": "NzV3w9mDnYML"
      },
      "source": [
        "### Full example\n",
        "\n",
        "Derived from: [https://github.com/yunjey/pytorch-tutorial](https://github.com/yunjey/pytorch-tutorial)."
      ]
    },
    {
      "cell_type": "code",
      "metadata": {
        "colab": {
          "base_uri": "https://localhost:8080/"
        },
        "id": "5XaEe21IlQ7W",
        "outputId": "bc909e20-3db6-4572-f0ef-bccfcd02749e"
      },
      "source": [
        "device = 'cuda'\n",
        "num_epochs = 5\n",
        "num_classes = 10\n",
        "learning_rate = 0.001\n",
        "\n",
        "# A simple convolutional neural network (two convolutional layers)\n",
        "class ConvNet(nn.Module):\n",
        "    def __init__(self, num_classes=10):\n",
        "        super(ConvNet, self).__init__()\n",
        "        self.layer1 = nn.Sequential(\n",
        "            nn.Conv2d(1, 16, kernel_size=5, stride=1, padding=2),\n",
        "            nn.BatchNorm2d(16),\n",
        "            nn.ReLU(),\n",
        "            nn.MaxPool2d(kernel_size=2, stride=2))\n",
        "        self.layer2 = nn.Sequential(\n",
        "            nn.Conv2d(16, 32, kernel_size=5, stride=1, padding=2),\n",
        "            nn.BatchNorm2d(32),\n",
        "            nn.ReLU(),\n",
        "            nn.MaxPool2d(kernel_size=2, stride=2))\n",
        "        self.fc = nn.Linear(7*7*32, num_classes)\n",
        "        \n",
        "    def forward(self, x):\n",
        "        out = self.layer1(x)\n",
        "        out = self.layer2(out)\n",
        "        out = out.reshape(out.size(0), -1)\n",
        "        out = self.fc(out)\n",
        "        return out\n",
        "\n",
        "model = ConvNet(num_classes).to(device)\n",
        "\n",
        "# Loss and optimizer\n",
        "criterion = nn.CrossEntropyLoss()\n",
        "optimizer = torch.optim.Adam(model.parameters(), lr=learning_rate)\n",
        "\n",
        "# Train the model\n",
        "total_step = len(train_loader)\n",
        "for epoch in range(num_epochs):\n",
        "    for i, (images, labels) in enumerate(train_loader):\n",
        "        images = images.to(device)\n",
        "        labels = labels.to(device)\n",
        "        \n",
        "        # Forward pass\n",
        "        outputs = model(images)\n",
        "        loss = criterion(outputs, labels)\n",
        "        \n",
        "        # Backward and optimize\n",
        "        optimizer.zero_grad()\n",
        "        loss.backward()\n",
        "        optimizer.step()\n",
        "        \n",
        "        if (i+1) % 100 == 0:\n",
        "            print ('Epoch [{}/{}], Step [{}/{}], Loss: {:.4f}' \n",
        "                   .format(epoch+1, num_epochs, i+1, total_step, loss.item()))\n",
        "\n",
        "# Test the model\n",
        "model.eval()  # eval mode (batchnorm uses moving mean/variance instead of mini-batch mean/variance)\n",
        "with torch.no_grad():\n",
        "    correct = 0\n",
        "    total = 0\n",
        "    for images, labels in test_loader:\n",
        "        images = images.to(device)\n",
        "        labels = labels.to(device)\n",
        "        outputs = model(images)\n",
        "        _, predicted = torch.max(outputs.data, 1)\n",
        "        total += labels.size(0)\n",
        "        correct += (predicted == labels).sum().item()\n",
        "\n",
        "    print('Test Accuracy of the model on the 10000 test images: {} %'.format(100 * correct / total))\n",
        "\n",
        "with torch.no_grad():\n",
        "    all_labels = []\n",
        "    all_preds = []\n",
        "    for images, labels in test_loader:\n",
        "        images = images.to(device)\n",
        "        labels = labels.to(device)\n",
        "        outputs = model(images)\n",
        "        _, predicted = torch.max(outputs.data, 1)\n",
        "        all_labels.extend(labels)\n",
        "        all_preds.extend(predicted)\n",
        "    ##\n",
        "    "
      ],
      "execution_count": 7,
      "outputs": [
        {
          "output_type": "stream",
          "text": [
            "Epoch [1/5], Step [100/1875], Loss: 0.8167\n",
            "Epoch [1/5], Step [200/1875], Loss: 0.3823\n",
            "Epoch [1/5], Step [300/1875], Loss: 0.2323\n",
            "Epoch [1/5], Step [400/1875], Loss: 0.5218\n",
            "Epoch [1/5], Step [500/1875], Loss: 0.3045\n",
            "Epoch [1/5], Step [600/1875], Loss: 0.1856\n",
            "Epoch [1/5], Step [700/1875], Loss: 0.4321\n",
            "Epoch [1/5], Step [800/1875], Loss: 0.8099\n",
            "Epoch [1/5], Step [900/1875], Loss: 0.4140\n",
            "Epoch [1/5], Step [1000/1875], Loss: 0.2272\n",
            "Epoch [1/5], Step [1100/1875], Loss: 0.5726\n",
            "Epoch [1/5], Step [1200/1875], Loss: 0.3733\n",
            "Epoch [1/5], Step [1300/1875], Loss: 0.1947\n",
            "Epoch [1/5], Step [1400/1875], Loss: 0.3144\n",
            "Epoch [1/5], Step [1500/1875], Loss: 0.5076\n",
            "Epoch [1/5], Step [1600/1875], Loss: 0.3641\n",
            "Epoch [1/5], Step [1700/1875], Loss: 0.1009\n",
            "Epoch [1/5], Step [1800/1875], Loss: 0.3759\n",
            "Epoch [2/5], Step [100/1875], Loss: 0.2568\n",
            "Epoch [2/5], Step [200/1875], Loss: 0.3441\n",
            "Epoch [2/5], Step [300/1875], Loss: 0.3496\n",
            "Epoch [2/5], Step [400/1875], Loss: 0.3759\n",
            "Epoch [2/5], Step [500/1875], Loss: 0.1522\n",
            "Epoch [2/5], Step [600/1875], Loss: 0.1865\n",
            "Epoch [2/5], Step [700/1875], Loss: 0.2674\n",
            "Epoch [2/5], Step [800/1875], Loss: 0.3220\n",
            "Epoch [2/5], Step [900/1875], Loss: 0.2704\n",
            "Epoch [2/5], Step [1000/1875], Loss: 0.1488\n",
            "Epoch [2/5], Step [1100/1875], Loss: 0.1334\n",
            "Epoch [2/5], Step [1200/1875], Loss: 0.2074\n",
            "Epoch [2/5], Step [1300/1875], Loss: 0.1904\n",
            "Epoch [2/5], Step [1400/1875], Loss: 0.3222\n",
            "Epoch [2/5], Step [1500/1875], Loss: 0.1941\n",
            "Epoch [2/5], Step [1600/1875], Loss: 0.1292\n",
            "Epoch [2/5], Step [1700/1875], Loss: 0.3248\n",
            "Epoch [2/5], Step [1800/1875], Loss: 0.1704\n",
            "Epoch [3/5], Step [100/1875], Loss: 0.3145\n",
            "Epoch [3/5], Step [200/1875], Loss: 0.1565\n",
            "Epoch [3/5], Step [300/1875], Loss: 0.2876\n",
            "Epoch [3/5], Step [400/1875], Loss: 0.1865\n",
            "Epoch [3/5], Step [500/1875], Loss: 0.1525\n",
            "Epoch [3/5], Step [600/1875], Loss: 0.2288\n",
            "Epoch [3/5], Step [700/1875], Loss: 0.1820\n",
            "Epoch [3/5], Step [800/1875], Loss: 0.2376\n",
            "Epoch [3/5], Step [900/1875], Loss: 0.1617\n",
            "Epoch [3/5], Step [1000/1875], Loss: 0.3536\n",
            "Epoch [3/5], Step [1100/1875], Loss: 0.1669\n",
            "Epoch [3/5], Step [1200/1875], Loss: 0.1168\n",
            "Epoch [3/5], Step [1300/1875], Loss: 0.1396\n",
            "Epoch [3/5], Step [1400/1875], Loss: 0.3216\n",
            "Epoch [3/5], Step [1500/1875], Loss: 0.2089\n",
            "Epoch [3/5], Step [1600/1875], Loss: 0.1971\n",
            "Epoch [3/5], Step [1700/1875], Loss: 0.1885\n",
            "Epoch [3/5], Step [1800/1875], Loss: 0.3749\n",
            "Epoch [4/5], Step [100/1875], Loss: 0.3354\n",
            "Epoch [4/5], Step [200/1875], Loss: 0.0691\n",
            "Epoch [4/5], Step [300/1875], Loss: 0.2778\n",
            "Epoch [4/5], Step [400/1875], Loss: 0.0825\n",
            "Epoch [4/5], Step [500/1875], Loss: 0.3020\n",
            "Epoch [4/5], Step [600/1875], Loss: 0.4252\n",
            "Epoch [4/5], Step [700/1875], Loss: 0.0472\n",
            "Epoch [4/5], Step [800/1875], Loss: 0.2364\n",
            "Epoch [4/5], Step [900/1875], Loss: 0.2102\n",
            "Epoch [4/5], Step [1000/1875], Loss: 0.0858\n",
            "Epoch [4/5], Step [1100/1875], Loss: 0.0958\n",
            "Epoch [4/5], Step [1200/1875], Loss: 0.1955\n",
            "Epoch [4/5], Step [1300/1875], Loss: 0.2963\n",
            "Epoch [4/5], Step [1400/1875], Loss: 0.1605\n",
            "Epoch [4/5], Step [1500/1875], Loss: 0.1308\n",
            "Epoch [4/5], Step [1600/1875], Loss: 0.1388\n",
            "Epoch [4/5], Step [1700/1875], Loss: 0.0501\n",
            "Epoch [4/5], Step [1800/1875], Loss: 0.2545\n",
            "Epoch [5/5], Step [100/1875], Loss: 0.1446\n",
            "Epoch [5/5], Step [200/1875], Loss: 0.2345\n",
            "Epoch [5/5], Step [300/1875], Loss: 0.1814\n",
            "Epoch [5/5], Step [400/1875], Loss: 0.3715\n",
            "Epoch [5/5], Step [500/1875], Loss: 0.1178\n",
            "Epoch [5/5], Step [600/1875], Loss: 0.2461\n",
            "Epoch [5/5], Step [700/1875], Loss: 0.1372\n",
            "Epoch [5/5], Step [800/1875], Loss: 0.3527\n",
            "Epoch [5/5], Step [900/1875], Loss: 0.1416\n",
            "Epoch [5/5], Step [1000/1875], Loss: 0.0602\n",
            "Epoch [5/5], Step [1100/1875], Loss: 0.1384\n",
            "Epoch [5/5], Step [1200/1875], Loss: 0.4055\n",
            "Epoch [5/5], Step [1300/1875], Loss: 0.1465\n",
            "Epoch [5/5], Step [1400/1875], Loss: 0.0495\n",
            "Epoch [5/5], Step [1500/1875], Loss: 0.0895\n",
            "Epoch [5/5], Step [1600/1875], Loss: 0.2087\n",
            "Epoch [5/5], Step [1700/1875], Loss: 0.0694\n",
            "Epoch [5/5], Step [1800/1875], Loss: 0.0640\n",
            "Test Accuracy of the model on the 10000 test images: 91.14 %\n"
          ],
          "name": "stdout"
        }
      ]
    },
    {
      "cell_type": "markdown",
      "metadata": {
        "id": "9_rB7YSh6l_2"
      },
      "source": [
        "**Q3. Answer the following question:** \n",
        "\n",
        "The implementation above uses Batch Normalization (`nn.BatchNorm2d(16),`)\n",
        "\n",
        "- Explain Batch Normalization with your own words. Get inspiration from here: https://d2l.ai/chapter_convolutional-modern/batch-norm.html (or any other source, but use your own words and an example)\n",
        "\n",
        "The answer to Q3 does not require any code, a good answer will have an intu explanation and an example (toy example is fine)."
      ]
    },
    {
      "cell_type": "code",
      "metadata": {
        "id": "gh68TniF9LQY"
      },
      "source": [
        ""
      ],
      "execution_count": 7,
      "outputs": []
    },
    {
      "cell_type": "markdown",
      "metadata": {
        "id": "m-kWJGVF7Ukh"
      },
      "source": [
        "**Q4. Answer the questions below:**\n",
        "\n",
        "You will do a qualitative analysis beyond stating that the accuracy in the test set is `90.27%`.\n",
        "\n",
        "- Which labels are harder to get right? You will have to print the accuracy per label (sorted from low to high)\n",
        "- Generate a confusion matrix for the output of your model. A confusion matrix looks like the one here (toward the bottom): https://www.kaggle.com/fuzzywizard/fashion-mnist-cnn-keras-accuracy-93\n",
        "- Interpret the numbers you see in the confusion matrix. Does it make sense (intuitively, no proof required) that certain classes are more often confused?\n",
        "\n",
        "The answer to Q4 requires you to write some code and interpret the output of yout code. A good answer will have 2-3 paragraphs. You are expected to interpret the numbers, not just state the numbers in the confusion matrix."
      ]
    },
    {
      "cell_type": "code",
      "metadata": {
        "colab": {
          "base_uri": "https://localhost:8080/"
        },
        "id": "38genapf-1pj",
        "outputId": "4337541d-6335-4a40-de33-eddbc1aed503"
      },
      "source": [
        "class_correct = list(0. for i in range(len(train_set.classes)))\n",
        "class_total = list(1e-7 for i in range(len(train_set.classes)))\n",
        "with torch.no_grad():\n",
        "    for data in test_loader:\n",
        "        images, labels = data\n",
        "        images, labels = images.to(device), labels.to(device)\n",
        "        outputs = model(images)\n",
        "        _, predicted = torch.max(outputs, 1)\n",
        "        c = (predicted == labels).squeeze()\n",
        "        for i in range(3):\n",
        "            label = labels[i]\n",
        "            class_correct[label] += c[i].item()\n",
        "            class_total[label] += 1\n",
        "\n",
        "l = []\n",
        "for i in range(len(train_set.classes)): \n",
        "    l.append('Accuracy of %s: %d %%' % (train_set.classes[i], 100 * class_correct[i] / class_total[i]))\n",
        "\n",
        "final = sorted(l, key=lambda x: int(x.split(': ')[1].split(' %')[0]))\n",
        "\n",
        "print(\"Here is a ranking of how difficult it is to get the various labels correct,\")\n",
        "print(\"sorted from hardest (i.e., lowest accuracy) to easiest (i.e., highest accuracy):\")\n",
        "print(\"\")\n",
        "for i in final:\n",
        "  print(i)"
      ],
      "execution_count": 12,
      "outputs": [
        {
          "output_type": "stream",
          "text": [
            "Here is a ranking of how difficult it is to get the various labels correct,\n",
            "sorted from hardest (i.e., lowest accuracy) to easiest (i.e., highest accuracy):\n",
            "\n",
            "Accuracy of Shirt: 64 %\n",
            "Accuracy of Pullover: 81 %\n",
            "Accuracy of T-shirt/top: 85 %\n",
            "Accuracy of Coat: 86 %\n",
            "Accuracy of Dress: 91 %\n",
            "Accuracy of Trouser: 95 %\n",
            "Accuracy of Ankle boot: 95 %\n",
            "Accuracy of Sandal: 97 %\n",
            "Accuracy of Sneaker: 97 %\n",
            "Accuracy of Bag: 97 %\n"
          ],
          "name": "stdout"
        }
      ]
    },
    {
      "cell_type": "code",
      "metadata": {
        "colab": {
          "base_uri": "https://localhost:8080/",
          "height": 635
        },
        "id": "v8o4PnP67kJq",
        "outputId": "fd090c1c-6c96-4a83-d3e2-9e8a29c19441"
      },
      "source": [
        "import matplotlib.pyplot as plt\n",
        "import seaborn as sns\n",
        "\n",
        "confusion_matrix = torch.zeros(len(train_set.targets.unique()), len(train_set.targets.unique()))\n",
        "with torch.no_grad():\n",
        "    for data in test_loader:\n",
        "        images, labels = data\n",
        "        images, labels = images.to(device), labels.to(device)\n",
        "        outputs = model(images)\n",
        "        _, predicted = torch.max(outputs, 1)\n",
        "        for t, p in zip(labels.view(-1), predicted.view(-1)):\n",
        "                confusion_matrix[t.long(), p.long()] += 1\n",
        "cm = confusion_matrix.numpy()\n",
        "\n",
        "fig,ax= plt.subplots(figsize=(10,10))\n",
        "sns.heatmap(cm, annot=True, fmt='.0f',cmap='Blues')\n",
        "ax.set_xlabel('Predicted', size=20);\n",
        "ax.set_ylabel('True', size=20);\n",
        "ax.set_title('Confusion Matrix', size=20);\n",
        "ax.xaxis.set_ticklabels([train_set.classes[0],train_set.classes[1],train_set.classes[2],train_set.classes[3], train_set.classes[4], train_set.classes[5],train_set.classes[6], train_set.classes[7], train_set.classes[8], train_set.classes[9]], size=9); \\\n",
        "ax.yaxis.set_ticklabels([train_set.classes[0],train_set.classes[1],train_set.classes[2],train_set.classes[3], train_set.classes[4], train_set.classes[5],train_set.classes[6], train_set.classes[7], train_set.classes[8], train_set.classes[9]], size=9);"
      ],
      "execution_count": 9,
      "outputs": [
        {
          "output_type": "display_data",
          "data": {
            "image/png": "[encoded data removed]",
            "text/plain": [
              "<Figure size 720x720 with 2 Axes>"
            ]
          },
          "metadata": {
            "tags": [],
            "needs_background": "light"
          }
        }
      ]
    },
    {
      "cell_type": "code",
      "metadata": {
        "id": "qfEKXm-o7Ifr"
      },
      "source": [
        "'''\n",
        "The confusion matrix above shows that the model does fairly\n",
        "well for the class of T-shirt/top. The most common mistake that\n",
        "the model made here is that it sometimes wrongly predicted a T-shirt/top to\n",
        "be a Shirt, which makes sense given the intuitive similarity between the two.\n",
        "The model did better with the class ofTrouser. The main mistake it made\n",
        "when given something in this class was to say that it was a Dress, which\n",
        "is interesting since both of these are pieces of clothing that\n",
        "cover the bottom half of a person.\n",
        "When given a Pullover, the model's main mistake was to wrongly\n",
        "predict that it was either a Coat or a Shirt, which makes intuitive sense,\n",
        "given that these all cover the top half of a person.\n",
        "Dresses were sometimes confused as either a T-shirt/top, a Pullover, or a Shirt.\n",
        "Turning to the Coat, the main mistake that was made here was that the model\n",
        "sometimes predicted a Coat to be either a Pullover or Shirt, a mistake that does\n",
        "not seem too surprising.\n",
        "Sandals, Sneakers, and Ankle boots were sometimes mistaken\n",
        "for one another, which seems understandable since they are all footwear.\n",
        "The model performed well on bags, with the most common mistake consisting of\n",
        "predicting that a Bag was a Dress.\n",
        "The category that the model struggled most with was a Shirt,\n",
        "which it sometimes predicted to be either a T-shirt/top, Pullover,\n",
        "or Coat. This, however, makes intuitive sense given that all three of these are\n",
        "used to cover a person's top half.\n",
        "'''"
      ],
      "execution_count": null,
      "outputs": []
    }
  ]
}