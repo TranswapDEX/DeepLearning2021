{
 "cells": [
  {
   "cell_type": "code",
   "execution_count": 1,
   "metadata": {},
   "outputs": [
    {
     "name": "stderr",
     "output_type": "stream",
     "text": [
      "Using TensorFlow backend.\n"
     ]
    }
   ],
   "source": [
    "import pandas as pd\n",
    "import numpy as np\n",
    "from keras.models import Sequential\n",
    "from keras.layers.core import Flatten, Dense, Dropout\n",
    "from keras.layers.convolutional import Convolution2D, MaxPooling2D, ZeroPadding2D\n",
    "from keras.optimizers import SGD\n",
    "import cv2\n",
    "import keras\n",
    "from keras.utils import np_utils\n",
    "from keras.utils.np_utils import to_categorical\n",
    "from sklearn.metrics import confusion_matrix\n",
    "import seaborn as sns\n",
    "from sklearn.model_selection import train_test_split"
   ]
  },
  {
   "cell_type": "code",
   "execution_count": 2,
   "metadata": {
    "scrolled": true
   },
   "outputs": [
    {
     "data": {
      "text/html": [
       "<div>\n",
       "<style scoped>\n",
       "    .dataframe tbody tr th:only-of-type {\n",
       "        vertical-align: middle;\n",
       "    }\n",
       "\n",
       "    .dataframe tbody tr th {\n",
       "        vertical-align: top;\n",
       "    }\n",
       "\n",
       "    .dataframe thead th {\n",
       "        text-align: right;\n",
       "    }\n",
       "</style>\n",
       "<table border=\"1\" class=\"dataframe\">\n",
       "  <thead>\n",
       "    <tr style=\"text-align: right;\">\n",
       "      <th></th>\n",
       "      <th>age</th>\n",
       "      <th>ethnicity</th>\n",
       "      <th>gender</th>\n",
       "      <th>img_name</th>\n",
       "      <th>pixels</th>\n",
       "    </tr>\n",
       "  </thead>\n",
       "  <tbody>\n",
       "    <tr>\n",
       "      <th>0</th>\n",
       "      <td>1</td>\n",
       "      <td>2</td>\n",
       "      <td>0</td>\n",
       "      <td>20161219203650636.jpg.chip.jpg</td>\n",
       "      <td>129 128 128 126 127 130 133 135 139 142 145 14...</td>\n",
       "    </tr>\n",
       "    <tr>\n",
       "      <th>1</th>\n",
       "      <td>1</td>\n",
       "      <td>2</td>\n",
       "      <td>0</td>\n",
       "      <td>20161219222752047.jpg.chip.jpg</td>\n",
       "      <td>164 74 111 168 169 171 175 182 184 188 193 199...</td>\n",
       "    </tr>\n",
       "    <tr>\n",
       "      <th>2</th>\n",
       "      <td>1</td>\n",
       "      <td>2</td>\n",
       "      <td>0</td>\n",
       "      <td>20161219222832191.jpg.chip.jpg</td>\n",
       "      <td>67 70 71 70 69 67 70 79 90 103 116 132 145 155...</td>\n",
       "    </tr>\n",
       "  </tbody>\n",
       "</table>\n",
       "</div>"
      ],
      "text/plain": [
       "   age  ethnicity  gender                        img_name  \\\n",
       "0    1          2       0  20161219203650636.jpg.chip.jpg   \n",
       "1    1          2       0  20161219222752047.jpg.chip.jpg   \n",
       "2    1          2       0  20161219222832191.jpg.chip.jpg   \n",
       "\n",
       "                                              pixels  \n",
       "0  129 128 128 126 127 130 133 135 139 142 145 14...  \n",
       "1  164 74 111 168 169 171 175 182 184 188 193 199...  \n",
       "2  67 70 71 70 69 67 70 79 90 103 116 132 145 155...  "
      ]
     },
     "execution_count": 2,
     "metadata": {},
     "output_type": "execute_result"
    }
   ],
   "source": [
    "age_data = pd.read_csv('/Users/blakemyers/Desktop/age_gender.csv')\n",
    "age_data.head(3)"
   ]
  },
  {
   "cell_type": "code",
   "execution_count": 3,
   "metadata": {},
   "outputs": [],
   "source": [
    "def label_age (row):\n",
    "    if row['age'] >= 0 and row['age'] < 3:\n",
    "        return 0\n",
    "    elif row['age'] > 2 and row['age'] < 10:\n",
    "        return 1\n",
    "    elif row['age'] > 9 and row['age'] < 21:\n",
    "        return 2\n",
    "    elif row['age'] > 20 and row['age'] < 26:\n",
    "        return 3\n",
    "    elif row['age'] > 25 and row['age'] < 28:\n",
    "        return 4\n",
    "    elif row['age'] > 27 and row['age'] < 32:\n",
    "        return 5\n",
    "    elif row['age'] > 31 and row['age'] < 37:\n",
    "        return 6\n",
    "    elif row['age'] > 36 and row['age'] < 46:\n",
    "        return 7\n",
    "    elif row['age'] > 45 and row['age'] < 55:\n",
    "        return 8\n",
    "    elif row['age'] > 54 and row['age'] < 66:\n",
    "        return 9\n",
    "    else:\n",
    "        return 10"
   ]
  },
  {
   "cell_type": "code",
   "execution_count": 4,
   "metadata": {},
   "outputs": [],
   "source": [
    "age_data['AgeGroup'] = age_data.apply (lambda row: label_age(row), axis=1)"
   ]
  },
  {
   "cell_type": "code",
   "execution_count": 5,
   "metadata": {},
   "outputs": [
    {
     "data": {
      "text/html": [
       "<div>\n",
       "<style scoped>\n",
       "    .dataframe tbody tr th:only-of-type {\n",
       "        vertical-align: middle;\n",
       "    }\n",
       "\n",
       "    .dataframe tbody tr th {\n",
       "        vertical-align: top;\n",
       "    }\n",
       "\n",
       "    .dataframe thead th {\n",
       "        text-align: right;\n",
       "    }\n",
       "</style>\n",
       "<table border=\"1\" class=\"dataframe\">\n",
       "  <thead>\n",
       "    <tr style=\"text-align: right;\">\n",
       "      <th></th>\n",
       "      <th>age</th>\n",
       "      <th>ethnicity</th>\n",
       "      <th>gender</th>\n",
       "      <th>img_name</th>\n",
       "      <th>pixels</th>\n",
       "      <th>AgeGroup</th>\n",
       "    </tr>\n",
       "  </thead>\n",
       "  <tbody>\n",
       "    <tr>\n",
       "      <th>0</th>\n",
       "      <td>1</td>\n",
       "      <td>2</td>\n",
       "      <td>0</td>\n",
       "      <td>20161219203650636.jpg.chip.jpg</td>\n",
       "      <td>129 128 128 126 127 130 133 135 139 142 145 14...</td>\n",
       "      <td>0</td>\n",
       "    </tr>\n",
       "    <tr>\n",
       "      <th>1</th>\n",
       "      <td>1</td>\n",
       "      <td>2</td>\n",
       "      <td>0</td>\n",
       "      <td>20161219222752047.jpg.chip.jpg</td>\n",
       "      <td>164 74 111 168 169 171 175 182 184 188 193 199...</td>\n",
       "      <td>0</td>\n",
       "    </tr>\n",
       "    <tr>\n",
       "      <th>2</th>\n",
       "      <td>1</td>\n",
       "      <td>2</td>\n",
       "      <td>0</td>\n",
       "      <td>20161219222832191.jpg.chip.jpg</td>\n",
       "      <td>67 70 71 70 69 67 70 79 90 103 116 132 145 155...</td>\n",
       "      <td>0</td>\n",
       "    </tr>\n",
       "  </tbody>\n",
       "</table>\n",
       "</div>"
      ],
      "text/plain": [
       "   age  ethnicity  gender                        img_name  \\\n",
       "0    1          2       0  20161219203650636.jpg.chip.jpg   \n",
       "1    1          2       0  20161219222752047.jpg.chip.jpg   \n",
       "2    1          2       0  20161219222832191.jpg.chip.jpg   \n",
       "\n",
       "                                              pixels  AgeGroup  \n",
       "0  129 128 128 126 127 130 133 135 139 142 145 14...         0  \n",
       "1  164 74 111 168 169 171 175 182 184 188 193 199...         0  \n",
       "2  67 70 71 70 69 67 70 79 90 103 116 132 145 155...         0  "
      ]
     },
     "execution_count": 5,
     "metadata": {},
     "output_type": "execute_result"
    }
   ],
   "source": [
    "age_data.head(3)"
   ]
  },
  {
   "cell_type": "code",
   "execution_count": 6,
   "metadata": {},
   "outputs": [],
   "source": [
    "n = len(pd.unique(age_data['age']))"
   ]
  },
  {
   "cell_type": "code",
   "execution_count": 7,
   "metadata": {},
   "outputs": [
    {
     "data": {
      "text/plain": [
       "104"
      ]
     },
     "execution_count": 7,
     "metadata": {},
     "output_type": "execute_result"
    }
   ],
   "source": [
    "n"
   ]
  },
  {
   "cell_type": "code",
   "execution_count": 8,
   "metadata": {
    "scrolled": true
   },
   "outputs": [
    {
     "data": {
      "text/plain": [
       "116"
      ]
     },
     "execution_count": 8,
     "metadata": {},
     "output_type": "execute_result"
    }
   ],
   "source": [
    "age_data[\"age\"].max()"
   ]
  },
  {
   "cell_type": "code",
   "execution_count": 9,
   "metadata": {},
   "outputs": [],
   "source": [
    "X = []\n",
    "y = []\n",
    "for index, row in age_data.iterrows():\n",
    "    k = row['pixels'].split(\" \")\n",
    "    X.append(np.array(k))\n",
    "    y.append(row['AgeGroup'])\n",
    "        \n",
    "X_train, X_test, y_train, y_test = train_test_split(X, y, test_size=0.2, random_state=1)"
   ]
  },
  {
   "cell_type": "code",
   "execution_count": 10,
   "metadata": {},
   "outputs": [],
   "source": [
    "X_train = np.array(X_train)\n",
    "y_train = np.array(y_train)\n",
    "X_test = np.array(X_test)\n",
    "y_test = np.array(y_test)\n",
    "\n",
    "X_train = X_train.reshape(X_train.shape[0], 48, 48, 1)\n",
    "X_test = X_test.reshape(X_test.shape[0], 48, 48, 1)\n",
    "\n",
    "y_train= np_utils.to_categorical(y_train, num_classes=11)\n",
    "y_test = np_utils.to_categorical(y_test, num_classes=11)"
   ]
  },
  {
   "cell_type": "code",
   "execution_count": 11,
   "metadata": {},
   "outputs": [],
   "source": [
    "model = Sequential()\n",
    "model.add(ZeroPadding2D((1,1),input_shape=(48,48,1)))\n",
    "model.add(Convolution2D(64, (3, 3), activation=\"relu\"))\n",
    "model.add(ZeroPadding2D((1,1)))\n",
    "model.add(Convolution2D(64, (3, 3), activation=\"relu\"))\n",
    "model.add(MaxPooling2D((2,2), strides=(2,2)))\n",
    "\n",
    "model.add(ZeroPadding2D((1,1)))\n",
    "model.add(Convolution2D(128, (3, 3), activation=\"relu\"))\n",
    "model.add(ZeroPadding2D((1,1)))\n",
    "model.add(Convolution2D(128, (3, 3), activation=\"relu\"))\n",
    "model.add(MaxPooling2D((2,2), strides=(2,2)))\n",
    "\n",
    "model.add(ZeroPadding2D((1,1)))\n",
    "model.add(Convolution2D(256, (3, 3), activation=\"relu\"))\n",
    "model.add(ZeroPadding2D((1,1)))\n",
    "model.add(Convolution2D(256, (3, 3), activation=\"relu\"))\n",
    "model.add(ZeroPadding2D((1,1)))\n",
    "model.add(Convolution2D(256, (3, 3), activation=\"relu\"))\n",
    "model.add(MaxPooling2D((2,2), strides=(2,2)))\n",
    "\n",
    "model.add(ZeroPadding2D((1,1)))\n",
    "model.add(Convolution2D(512, (3, 3), activation=\"relu\"))\n",
    "model.add(ZeroPadding2D((1,1)))\n",
    "model.add(Convolution2D(512, (3, 3), activation=\"relu\"))\n",
    "model.add(ZeroPadding2D((1,1)))\n",
    "model.add(Convolution2D(512, (3, 3), activation=\"relu\"))\n",
    "model.add(MaxPooling2D((2,2), strides=(2,2)))\n",
    "\n",
    "\n",
    "model.add(ZeroPadding2D((1,1)))\n",
    "model.add(Convolution2D(512, (3, 3), activation=\"relu\"))\n",
    "model.add(ZeroPadding2D((1,1)))\n",
    "model.add(Convolution2D(512, (3, 3), activation=\"relu\"))\n",
    "model.add(ZeroPadding2D((1,1)))\n",
    "model.add(Convolution2D(512, (3, 3), activation=\"relu\"))\n",
    "model.add(MaxPooling2D((2,2), strides=(2,2)))\n",
    "\n",
    "model.add(Flatten())\n",
    "model.add(Dense(4096, activation='relu'))\n",
    "model.add(Dropout(0.5))\n",
    "model.add(Dense(4096, activation='relu'))\n",
    "model.add(Dropout(0.5))\n",
    "model.add(Dense(11, activation='softmax'))"
   ]
  },
  {
   "cell_type": "code",
   "execution_count": 12,
   "metadata": {},
   "outputs": [],
   "source": [
    "model.compile(optimizer='sgd',loss='categorical_crossentropy',metrics=['accuracy'])"
   ]
  },
  {
   "cell_type": "code",
   "execution_count": 13,
   "metadata": {},
   "outputs": [
    {
     "name": "stdout",
     "output_type": "stream",
     "text": [
      "Train on 18964 samples, validate on 4741 samples\n",
      "Epoch 1/30\n",
      "18964/18964 [==============================] - 1282s 68ms/step - loss: 2.3689 - accuracy: 0.1138 - val_loss: 2.3523 - val_accuracy: 0.1015\n",
      "Epoch 2/30\n",
      "18964/18964 [==============================] - 1272s 67ms/step - loss: 2.2602 - accuracy: 0.1595 - val_loss: 2.0980 - val_accuracy: 0.2135\n",
      "Epoch 3/30\n",
      "18964/18964 [==============================] - 1272s 67ms/step - loss: 2.0000 - accuracy: 0.2392 - val_loss: 1.9550 - val_accuracy: 0.2438\n",
      "Epoch 4/30\n",
      "18964/18964 [==============================] - 1268s 67ms/step - loss: 1.8310 - accuracy: 0.2916 - val_loss: 1.7626 - val_accuracy: 0.3229\n",
      "Epoch 5/30\n",
      "18964/18964 [==============================] - 1270s 67ms/step - loss: 1.7329 - accuracy: 0.3219 - val_loss: 1.7092 - val_accuracy: 0.3145\n",
      "Epoch 6/30\n",
      "18964/18964 [==============================] - 1271s 67ms/step - loss: 1.6557 - accuracy: 0.3426 - val_loss: 1.6300 - val_accuracy: 0.3541\n",
      "Epoch 7/30\n",
      "18964/18964 [==============================] - 1269s 67ms/step - loss: 1.5816 - accuracy: 0.3619 - val_loss: 1.6905 - val_accuracy: 0.3309\n",
      "Epoch 8/30\n",
      "18964/18964 [==============================] - 1268s 67ms/step - loss: 1.5224 - accuracy: 0.3831 - val_loss: 1.5440 - val_accuracy: 0.3776\n",
      "Epoch 9/30\n",
      "18964/18964 [==============================] - 1270s 67ms/step - loss: 1.4564 - accuracy: 0.4052 - val_loss: 1.5637 - val_accuracy: 0.3767\n",
      "Epoch 10/30\n",
      "18964/18964 [==============================] - 1265s 67ms/step - loss: 1.4002 - accuracy: 0.4260 - val_loss: 1.5280 - val_accuracy: 0.3896\n",
      "Epoch 11/30\n",
      "18964/18964 [==============================] - 1266s 67ms/step - loss: 1.3409 - accuracy: 0.4397 - val_loss: 1.6669 - val_accuracy: 0.3780\n",
      "Epoch 12/30\n",
      "18964/18964 [==============================] - 1268s 67ms/step - loss: 1.2892 - accuracy: 0.4674 - val_loss: 1.5894 - val_accuracy: 0.3862\n",
      "Epoch 13/30\n",
      "18964/18964 [==============================] - 1306s 69ms/step - loss: 1.2313 - accuracy: 0.4867 - val_loss: 1.6806 - val_accuracy: 0.3858\n",
      "Epoch 14/30\n",
      "18964/18964 [==============================] - 1268s 67ms/step - loss: 1.1760 - accuracy: 0.5044 - val_loss: 1.6176 - val_accuracy: 0.3752\n",
      "Epoch 15/30\n",
      "18964/18964 [==============================] - 1271s 67ms/step - loss: 1.1225 - accuracy: 0.5296 - val_loss: 1.8582 - val_accuracy: 0.3643\n",
      "Epoch 16/30\n",
      "18964/18964 [==============================] - 1273s 67ms/step - loss: 1.0642 - accuracy: 0.5539 - val_loss: 1.7774 - val_accuracy: 0.3839\n",
      "Epoch 17/30\n",
      "18964/18964 [==============================] - 1270s 67ms/step - loss: 1.0080 - accuracy: 0.5800 - val_loss: 1.9063 - val_accuracy: 0.3714\n",
      "Epoch 18/30\n",
      "18964/18964 [==============================] - 1269s 67ms/step - loss: 0.9507 - accuracy: 0.6006 - val_loss: 1.9748 - val_accuracy: 0.3795\n",
      "Epoch 19/30\n",
      "18964/18964 [==============================] - 1270s 67ms/step - loss: 0.9079 - accuracy: 0.6222 - val_loss: 1.7326 - val_accuracy: 0.3887\n",
      "Epoch 20/30\n",
      "18964/18964 [==============================] - 1272s 67ms/step - loss: 0.8480 - accuracy: 0.6437 - val_loss: 1.9275 - val_accuracy: 0.3894\n",
      "Epoch 21/30\n",
      "18964/18964 [==============================] - 1270s 67ms/step - loss: 0.8088 - accuracy: 0.6701 - val_loss: 2.2533 - val_accuracy: 0.3930\n",
      "Epoch 22/30\n",
      "18964/18964 [==============================] - 1270s 67ms/step - loss: 0.7436 - accuracy: 0.6973 - val_loss: 2.3716 - val_accuracy: 0.3860\n",
      "Epoch 23/30\n",
      "18964/18964 [==============================] - 1273s 67ms/step - loss: 0.6992 - accuracy: 0.7170 - val_loss: 2.1119 - val_accuracy: 0.3582\n",
      "Epoch 24/30\n",
      "18964/18964 [==============================] - 1268s 67ms/step - loss: 0.6606 - accuracy: 0.7341 - val_loss: 2.3156 - val_accuracy: 0.3765\n",
      "Epoch 25/30\n",
      "18964/18964 [==============================] - 1268s 67ms/step - loss: 0.6124 - accuracy: 0.7585 - val_loss: 2.5468 - val_accuracy: 0.3763\n",
      "Epoch 26/30\n",
      "18964/18964 [==============================] - 1272s 67ms/step - loss: 0.5659 - accuracy: 0.7795 - val_loss: 2.5113 - val_accuracy: 0.3917\n",
      "Epoch 27/30\n",
      "18964/18964 [==============================] - 1272s 67ms/step - loss: 0.5295 - accuracy: 0.7967 - val_loss: 2.6184 - val_accuracy: 0.3754\n",
      "Epoch 28/30\n",
      "18964/18964 [==============================] - 1329s 70ms/step - loss: 0.4810 - accuracy: 0.8164 - val_loss: 2.8974 - val_accuracy: 0.3704\n",
      "Epoch 29/30\n",
      "18964/18964 [==============================] - 1269s 67ms/step - loss: 0.4460 - accuracy: 0.8310 - val_loss: 3.0356 - val_accuracy: 0.3765\n",
      "Epoch 30/30\n",
      "18964/18964 [==============================] - 1270s 67ms/step - loss: 0.4056 - accuracy: 0.8520 - val_loss: 2.7461 - val_accuracy: 0.3778\n"
     ]
    },
    {
     "data": {
      "text/plain": [
       "<keras.callbacks.callbacks.History at 0x7fc91d546ed0>"
      ]
     },
     "execution_count": 13,
     "metadata": {},
     "output_type": "execute_result"
    }
   ],
   "source": [
    "model.fit(X_train,y_train,batch_size=32,epochs=30,verbose=1,validation_data=(X_test, y_test))"
   ]
  },
  {
   "cell_type": "code",
   "execution_count": 14,
   "metadata": {},
   "outputs": [],
   "source": [
    "local_path = '/Users/blakemyers/Desktop/Jupyter/DeepLearning2021/TrainedModelSp21v2'\n",
    "model.save(local_path)"
   ]
  },
  {
   "cell_type": "code",
   "execution_count": 15,
   "metadata": {},
   "outputs": [],
   "source": [
    "y_pred=model.predict_classes(X_test)"
   ]
  },
  {
   "cell_type": "code",
   "execution_count": 16,
   "metadata": {},
   "outputs": [],
   "source": [
    "cm = confusion_matrix(y_test.argmax(axis=1), y_pred)"
   ]
  },
  {
   "cell_type": "code",
   "execution_count": 17,
   "metadata": {},
   "outputs": [
    {
     "data": {
      "text/plain": [
       "array([[283,  47,   0,   0,   3,   0,   1,   1,   0,   0,   2],\n",
       "       [ 35, 154,  59,   5,   6,   2,   1,   0,   0,   1,   0],\n",
       "       [  1,  39, 169,  93,  18,  36,   8,   9,   1,   3,   1],\n",
       "       [  0,   3,  61, 192,  91, 166,  45,  11,   2,   4,   0],\n",
       "       [  0,   2,  25, 126, 136, 191,  71,  26,   5,   5,   2],\n",
       "       [  0,   0,  25,  66,  83, 150,  78,  61,   8,   7,   2],\n",
       "       [  0,   2,  18,  41,  45, 149, 119, 105,  20,  17,   1],\n",
       "       [  1,   0,   6,  17,  23,  84, 107, 141,  73,  32,   3],\n",
       "       [  0,   1,  12,   4,   7,  27,  39,  94,  87, 100,  11],\n",
       "       [  0,   0,   1,   3,   9,  11,  25,  49,  73, 174,  61],\n",
       "       [  1,   1,   1,   0,   3,   3,   5,   7,  14, 106, 186]])"
      ]
     },
     "execution_count": 17,
     "metadata": {},
     "output_type": "execute_result"
    }
   ],
   "source": [
    "cm"
   ]
  },
  {
   "cell_type": "code",
   "execution_count": 18,
   "metadata": {},
   "outputs": [],
   "source": [
    "import matplotlib.pyplot as plt"
   ]
  },
  {
   "cell_type": "code",
   "execution_count": 19,
   "metadata": {},
   "outputs": [
    {
     "data": {
      "image/png": "[encoded data removed]",
      "text/plain": [
       "<Figure size 792x792 with 2 Axes>"
      ]
     },
     "metadata": {
      "needs_background": "light"
     },
     "output_type": "display_data"
    }
   ],
   "source": [
    "fig,ax= plt.subplots(figsize=(11,11))\n",
    "sns.heatmap(cm / (cm.astype(np.float).sum(axis=1) + 1e-9), annot=False, ax=ax)\n",
    "ax.set_xlabel('Predicted', size=20);\n",
    "ax.set_ylabel('True', size=20);\n",
    "ax.set_title('Confusion Matrix', size=20);\n",
    "ax.xaxis.set_ticklabels(['1-2','3-9','10-20','21-25', '26-27', '28-31','32-36', '37-45', '46-54', '55-65', '66-116'], size=11); \\\n",
    "ax.yaxis.set_ticklabels(['1-2','3-9','10-20','21-25', '26-27', '28-31','32-36', '37-45', '46-54', '55-65', '66-116'], size=11);"
   ]
  },
  {
   "cell_type": "code",
   "execution_count": null,
   "metadata": {},
   "outputs": [],
   "source": []
  }
 ],
 "metadata": {
  "kernelspec": {
   "display_name": "Python 3",
   "language": "python",
   "name": "python3"
  },
  "language_info": {
   "codemirror_mode": {
    "name": "ipython",
    "version": 3
   },
   "file_extension": ".py",
   "mimetype": "text/x-python",
   "name": "python",
   "nbconvert_exporter": "python",
   "pygments_lexer": "ipython3",
   "version": "3.7.10"
  }
 },
 "nbformat": 4,
 "nbformat_minor": 2
}
