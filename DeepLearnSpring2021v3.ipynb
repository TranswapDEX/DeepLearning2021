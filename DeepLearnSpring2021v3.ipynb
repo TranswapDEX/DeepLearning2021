{
 "cells": [
  {
   "cell_type": "code",
   "execution_count": 1,
   "metadata": {},
   "outputs": [
    {
     "name": "stderr",
     "output_type": "stream",
     "text": [
      "Using TensorFlow backend.\n"
     ]
    }
   ],
   "source": [
    "import pandas as pd\n",
    "import numpy as np\n",
    "from keras.models import Sequential\n",
    "from keras.layers.core import Flatten, Dense, Dropout\n",
    "from keras.layers.convolutional import Convolution2D, MaxPooling2D, ZeroPadding2D\n",
    "from keras.optimizers import SGD\n",
    "import cv2\n",
    "import keras\n",
    "from keras.utils import np_utils\n",
    "from keras.utils.np_utils import to_categorical\n",
    "from sklearn.metrics import confusion_matrix\n",
    "import seaborn as sns\n",
    "from sklearn.model_selection import train_test_split"
   ]
  },
  {
   "cell_type": "code",
   "execution_count": 2,
   "metadata": {
    "scrolled": true
   },
   "outputs": [
    {
     "data": {
      "text/html": [
       "<div>\n",
       "<style scoped>\n",
       "    .dataframe tbody tr th:only-of-type {\n",
       "        vertical-align: middle;\n",
       "    }\n",
       "\n",
       "    .dataframe tbody tr th {\n",
       "        vertical-align: top;\n",
       "    }\n",
       "\n",
       "    .dataframe thead th {\n",
       "        text-align: right;\n",
       "    }\n",
       "</style>\n",
       "<table border=\"1\" class=\"dataframe\">\n",
       "  <thead>\n",
       "    <tr style=\"text-align: right;\">\n",
       "      <th></th>\n",
       "      <th>age</th>\n",
       "      <th>ethnicity</th>\n",
       "      <th>gender</th>\n",
       "      <th>img_name</th>\n",
       "      <th>pixels</th>\n",
       "    </tr>\n",
       "  </thead>\n",
       "  <tbody>\n",
       "    <tr>\n",
       "      <th>0</th>\n",
       "      <td>1</td>\n",
       "      <td>2</td>\n",
       "      <td>0</td>\n",
       "      <td>20161219203650636.jpg.chip.jpg</td>\n",
       "      <td>129 128 128 126 127 130 133 135 139 142 145 14...</td>\n",
       "    </tr>\n",
       "    <tr>\n",
       "      <th>1</th>\n",
       "      <td>1</td>\n",
       "      <td>2</td>\n",
       "      <td>0</td>\n",
       "      <td>20161219222752047.jpg.chip.jpg</td>\n",
       "      <td>164 74 111 168 169 171 175 182 184 188 193 199...</td>\n",
       "    </tr>\n",
       "    <tr>\n",
       "      <th>2</th>\n",
       "      <td>1</td>\n",
       "      <td>2</td>\n",
       "      <td>0</td>\n",
       "      <td>20161219222832191.jpg.chip.jpg</td>\n",
       "      <td>67 70 71 70 69 67 70 79 90 103 116 132 145 155...</td>\n",
       "    </tr>\n",
       "  </tbody>\n",
       "</table>\n",
       "</div>"
      ],
      "text/plain": [
       "   age  ethnicity  gender                        img_name  \\\n",
       "0    1          2       0  20161219203650636.jpg.chip.jpg   \n",
       "1    1          2       0  20161219222752047.jpg.chip.jpg   \n",
       "2    1          2       0  20161219222832191.jpg.chip.jpg   \n",
       "\n",
       "                                              pixels  \n",
       "0  129 128 128 126 127 130 133 135 139 142 145 14...  \n",
       "1  164 74 111 168 169 171 175 182 184 188 193 199...  \n",
       "2  67 70 71 70 69 67 70 79 90 103 116 132 145 155...  "
      ]
     },
     "execution_count": 2,
     "metadata": {},
     "output_type": "execute_result"
    }
   ],
   "source": [
    "age_data = pd.read_csv('/Users/blakemyers/Desktop/age_gender.csv')\n",
    "age_data.head(3)"
   ]
  },
  {
   "cell_type": "code",
   "execution_count": 3,
   "metadata": {},
   "outputs": [],
   "source": [
    "def label_age (row):\n",
    "    if row['age'] >= 0 and row['age'] < 6:\n",
    "        return 0\n",
    "    elif row['age'] > 5 and row['age'] < 13:\n",
    "        return 1\n",
    "    elif row['age'] > 12 and row['age'] < 21:\n",
    "        return 2\n",
    "    elif row['age'] > 20 and row['age'] < 36:\n",
    "        return 3\n",
    "    elif row['age'] > 35 and row['age'] < 51:\n",
    "        return 4\n",
    "    elif row['age'] > 50 and row['age'] < 71:\n",
    "        return 5\n",
    "    else:\n",
    "        return 6"
   ]
  },
  {
   "cell_type": "code",
   "execution_count": 4,
   "metadata": {},
   "outputs": [],
   "source": [
    "age_data['AgeGroup'] = age_data.apply (lambda row: label_age(row), axis=1)"
   ]
  },
  {
   "cell_type": "code",
   "execution_count": 5,
   "metadata": {},
   "outputs": [
    {
     "data": {
      "text/html": [
       "<div>\n",
       "<style scoped>\n",
       "    .dataframe tbody tr th:only-of-type {\n",
       "        vertical-align: middle;\n",
       "    }\n",
       "\n",
       "    .dataframe tbody tr th {\n",
       "        vertical-align: top;\n",
       "    }\n",
       "\n",
       "    .dataframe thead th {\n",
       "        text-align: right;\n",
       "    }\n",
       "</style>\n",
       "<table border=\"1\" class=\"dataframe\">\n",
       "  <thead>\n",
       "    <tr style=\"text-align: right;\">\n",
       "      <th></th>\n",
       "      <th>age</th>\n",
       "      <th>ethnicity</th>\n",
       "      <th>gender</th>\n",
       "      <th>img_name</th>\n",
       "      <th>pixels</th>\n",
       "      <th>AgeGroup</th>\n",
       "    </tr>\n",
       "  </thead>\n",
       "  <tbody>\n",
       "    <tr>\n",
       "      <th>0</th>\n",
       "      <td>1</td>\n",
       "      <td>2</td>\n",
       "      <td>0</td>\n",
       "      <td>20161219203650636.jpg.chip.jpg</td>\n",
       "      <td>129 128 128 126 127 130 133 135 139 142 145 14...</td>\n",
       "      <td>0</td>\n",
       "    </tr>\n",
       "    <tr>\n",
       "      <th>1</th>\n",
       "      <td>1</td>\n",
       "      <td>2</td>\n",
       "      <td>0</td>\n",
       "      <td>20161219222752047.jpg.chip.jpg</td>\n",
       "      <td>164 74 111 168 169 171 175 182 184 188 193 199...</td>\n",
       "      <td>0</td>\n",
       "    </tr>\n",
       "    <tr>\n",
       "      <th>2</th>\n",
       "      <td>1</td>\n",
       "      <td>2</td>\n",
       "      <td>0</td>\n",
       "      <td>20161219222832191.jpg.chip.jpg</td>\n",
       "      <td>67 70 71 70 69 67 70 79 90 103 116 132 145 155...</td>\n",
       "      <td>0</td>\n",
       "    </tr>\n",
       "  </tbody>\n",
       "</table>\n",
       "</div>"
      ],
      "text/plain": [
       "   age  ethnicity  gender                        img_name  \\\n",
       "0    1          2       0  20161219203650636.jpg.chip.jpg   \n",
       "1    1          2       0  20161219222752047.jpg.chip.jpg   \n",
       "2    1          2       0  20161219222832191.jpg.chip.jpg   \n",
       "\n",
       "                                              pixels  AgeGroup  \n",
       "0  129 128 128 126 127 130 133 135 139 142 145 14...         0  \n",
       "1  164 74 111 168 169 171 175 182 184 188 193 199...         0  \n",
       "2  67 70 71 70 69 67 70 79 90 103 116 132 145 155...         0  "
      ]
     },
     "execution_count": 5,
     "metadata": {},
     "output_type": "execute_result"
    }
   ],
   "source": [
    "age_data.head(3)"
   ]
  },
  {
   "cell_type": "code",
   "execution_count": 6,
   "metadata": {},
   "outputs": [],
   "source": [
    "n = len(pd.unique(age_data['age']))"
   ]
  },
  {
   "cell_type": "code",
   "execution_count": 7,
   "metadata": {},
   "outputs": [
    {
     "data": {
      "text/plain": [
       "104"
      ]
     },
     "execution_count": 7,
     "metadata": {},
     "output_type": "execute_result"
    }
   ],
   "source": [
    "n"
   ]
  },
  {
   "cell_type": "code",
   "execution_count": 8,
   "metadata": {
    "scrolled": true
   },
   "outputs": [
    {
     "data": {
      "text/plain": [
       "116"
      ]
     },
     "execution_count": 8,
     "metadata": {},
     "output_type": "execute_result"
    }
   ],
   "source": [
    "age_data[\"age\"].max()"
   ]
  },
  {
   "cell_type": "code",
   "execution_count": 9,
   "metadata": {},
   "outputs": [],
   "source": [
    "X = []\n",
    "y = []\n",
    "for index, row in age_data.iterrows():\n",
    "    k = row['pixels'].split(\" \")\n",
    "    X.append(np.array(k))\n",
    "    y.append(row['AgeGroup'])\n",
    "        \n",
    "X_train, X_test, y_train, y_test = train_test_split(X, y, test_size=0.2, random_state=1)"
   ]
  },
  {
   "cell_type": "code",
   "execution_count": 10,
   "metadata": {},
   "outputs": [],
   "source": [
    "X_train = np.array(X_train)\n",
    "y_train = np.array(y_train)\n",
    "X_test = np.array(X_test)\n",
    "y_test = np.array(y_test)\n",
    "\n",
    "X_train = X_train.reshape(X_train.shape[0], 48, 48, 1)\n",
    "X_test = X_test.reshape(X_test.shape[0], 48, 48, 1)\n",
    "\n",
    "y_train= np_utils.to_categorical(y_train, num_classes = 7)\n",
    "y_test = np_utils.to_categorical(y_test, num_classes = 7)"
   ]
  },
  {
   "cell_type": "code",
   "execution_count": 11,
   "metadata": {},
   "outputs": [],
   "source": [
    "model = Sequential()\n",
    "model.add(ZeroPadding2D((1,1),input_shape=(48,48,1)))\n",
    "model.add(Convolution2D(64, (3, 3), activation=\"relu\"))\n",
    "model.add(ZeroPadding2D((1,1)))\n",
    "model.add(Convolution2D(64, (3, 3), activation=\"relu\"))\n",
    "model.add(MaxPooling2D((2,2), strides=(2,2)))\n",
    "\n",
    "model.add(ZeroPadding2D((1,1)))\n",
    "model.add(Convolution2D(128, (3, 3), activation=\"relu\"))\n",
    "model.add(ZeroPadding2D((1,1)))\n",
    "model.add(Convolution2D(128, (3, 3), activation=\"relu\"))\n",
    "model.add(MaxPooling2D((2,2), strides=(2,2)))\n",
    "\n",
    "model.add(ZeroPadding2D((1,1)))\n",
    "model.add(Convolution2D(256, (3, 3), activation=\"relu\"))\n",
    "model.add(ZeroPadding2D((1,1)))\n",
    "model.add(Convolution2D(256, (3, 3), activation=\"relu\"))\n",
    "model.add(ZeroPadding2D((1,1)))\n",
    "model.add(Convolution2D(256, (3, 3), activation=\"relu\"))\n",
    "model.add(MaxPooling2D((2,2), strides=(2,2)))\n",
    "\n",
    "model.add(ZeroPadding2D((1,1)))\n",
    "model.add(Convolution2D(512, (3, 3), activation=\"relu\"))\n",
    "model.add(ZeroPadding2D((1,1)))\n",
    "model.add(Convolution2D(512, (3, 3), activation=\"relu\"))\n",
    "model.add(ZeroPadding2D((1,1)))\n",
    "model.add(Convolution2D(512, (3, 3), activation=\"relu\"))\n",
    "model.add(MaxPooling2D((2,2), strides=(2,2)))\n",
    "\n",
    "\n",
    "model.add(ZeroPadding2D((1,1)))\n",
    "model.add(Convolution2D(512, (3, 3), activation=\"relu\"))\n",
    "model.add(ZeroPadding2D((1,1)))\n",
    "model.add(Convolution2D(512, (3, 3), activation=\"relu\"))\n",
    "model.add(ZeroPadding2D((1,1)))\n",
    "model.add(Convolution2D(512, (3, 3), activation=\"relu\"))\n",
    "model.add(MaxPooling2D((2,2), strides=(2,2)))\n",
    "\n",
    "model.add(Flatten())\n",
    "model.add(Dense(4096, activation='relu'))\n",
    "model.add(Dropout(0.5))\n",
    "model.add(Dense(4096, activation='relu'))\n",
    "model.add(Dropout(0.5))\n",
    "model.add(Dense(7, activation='softmax'))"
   ]
  },
  {
   "cell_type": "code",
   "execution_count": 12,
   "metadata": {},
   "outputs": [],
   "source": [
    "model.compile(optimizer='sgd',loss='categorical_crossentropy',metrics=['accuracy'])"
   ]
  },
  {
   "cell_type": "code",
   "execution_count": 13,
   "metadata": {},
   "outputs": [
    {
     "name": "stdout",
     "output_type": "stream",
     "text": [
      "Train on 18964 samples, validate on 4741 samples\n",
      "Epoch 1/30\n",
      "18964/18964 [==============================] - 1282s 68ms/step - loss: 1.6076 - accuracy: 0.4350 - val_loss: 1.5520 - val_accuracy: 0.4678\n",
      "Epoch 2/30\n",
      "18964/18964 [==============================] - 1267s 67ms/step - loss: 1.3477 - accuracy: 0.5130 - val_loss: 1.1919 - val_accuracy: 0.5604\n",
      "Epoch 3/30\n",
      "18964/18964 [==============================] - 1267s 67ms/step - loss: 1.1510 - accuracy: 0.5679 - val_loss: 1.1122 - val_accuracy: 0.5792\n",
      "Epoch 4/30\n",
      "18964/18964 [==============================] - 1265s 67ms/step - loss: 1.0390 - accuracy: 0.5991 - val_loss: 0.9724 - val_accuracy: 0.6265\n",
      "Epoch 5/30\n",
      "18964/18964 [==============================] - 1266s 67ms/step - loss: 0.9536 - accuracy: 0.6247 - val_loss: 1.0184 - val_accuracy: 0.6127\n",
      "Epoch 6/30\n",
      "18964/18964 [==============================] - 1268s 67ms/step - loss: 0.8904 - accuracy: 0.6470 - val_loss: 0.9104 - val_accuracy: 0.6444\n",
      "Epoch 7/30\n",
      "18964/18964 [==============================] - 1268s 67ms/step - loss: 0.8327 - accuracy: 0.6687 - val_loss: 0.9558 - val_accuracy: 0.6267\n",
      "Epoch 8/30\n",
      "18964/18964 [==============================] - 1266s 67ms/step - loss: 0.7841 - accuracy: 0.6876 - val_loss: 0.8891 - val_accuracy: 0.6435\n",
      "Epoch 9/30\n",
      "18964/18964 [==============================] - 1271s 67ms/step - loss: 0.7310 - accuracy: 0.7056 - val_loss: 0.9167 - val_accuracy: 0.6311\n",
      "Epoch 10/30\n",
      "18964/18964 [==============================] - 1267s 67ms/step - loss: 0.6770 - accuracy: 0.7287 - val_loss: 0.8768 - val_accuracy: 0.6621\n",
      "Epoch 11/30\n",
      "18964/18964 [==============================] - 1264s 67ms/step - loss: 0.6193 - accuracy: 0.7520 - val_loss: 0.9403 - val_accuracy: 0.6448\n",
      "Epoch 12/30\n",
      "18964/18964 [==============================] - 1267s 67ms/step - loss: 0.5797 - accuracy: 0.7637 - val_loss: 0.9401 - val_accuracy: 0.6636\n",
      "Epoch 13/30\n",
      "18964/18964 [==============================] - 1266s 67ms/step - loss: 0.5308 - accuracy: 0.7871 - val_loss: 1.0025 - val_accuracy: 0.6461\n",
      "Epoch 14/30\n",
      "18964/18964 [==============================] - 1268s 67ms/step - loss: 0.4851 - accuracy: 0.8078 - val_loss: 1.0417 - val_accuracy: 0.6326\n",
      "Epoch 15/30\n",
      "18964/18964 [==============================] - 1267s 67ms/step - loss: 0.4422 - accuracy: 0.8260 - val_loss: 1.0168 - val_accuracy: 0.6393\n",
      "Epoch 16/30\n",
      "18964/18964 [==============================] - 1266s 67ms/step - loss: 0.3969 - accuracy: 0.8449 - val_loss: 1.0858 - val_accuracy: 0.6640\n",
      "Epoch 17/30\n",
      "18964/18964 [==============================] - 1266s 67ms/step - loss: 0.3540 - accuracy: 0.8620 - val_loss: 1.0454 - val_accuracy: 0.6273\n",
      "Epoch 18/30\n",
      "18964/18964 [==============================] - 1266s 67ms/step - loss: 0.3250 - accuracy: 0.8757 - val_loss: 1.1362 - val_accuracy: 0.6615\n",
      "Epoch 19/30\n",
      "18964/18964 [==============================] - 1266s 67ms/step - loss: 0.2918 - accuracy: 0.8905 - val_loss: 1.1986 - val_accuracy: 0.6534\n",
      "Epoch 20/30\n",
      "18964/18964 [==============================] - 1270s 67ms/step - loss: 0.2654 - accuracy: 0.9035 - val_loss: 1.3864 - val_accuracy: 0.6669\n",
      "Epoch 21/30\n",
      "18964/18964 [==============================] - 1265s 67ms/step - loss: 0.2338 - accuracy: 0.9143 - val_loss: 1.5143 - val_accuracy: 0.6695\n",
      "Epoch 22/30\n",
      "18964/18964 [==============================] - 1274s 67ms/step - loss: 0.2065 - accuracy: 0.9269 - val_loss: 1.3658 - val_accuracy: 0.6587\n",
      "Epoch 23/30\n",
      "18964/18964 [==============================] - 1289s 68ms/step - loss: 0.1859 - accuracy: 0.9346 - val_loss: 1.7162 - val_accuracy: 0.6480\n",
      "Epoch 24/30\n",
      "18964/18964 [==============================] - 1270s 67ms/step - loss: 0.1726 - accuracy: 0.9410 - val_loss: 1.5398 - val_accuracy: 0.6613\n",
      "Epoch 25/30\n",
      "18964/18964 [==============================] - 1278s 67ms/step - loss: 0.1556 - accuracy: 0.9462 - val_loss: 1.5880 - val_accuracy: 0.6374\n",
      "Epoch 26/30\n",
      "18964/18964 [==============================] - 1270s 67ms/step - loss: 0.1434 - accuracy: 0.9511 - val_loss: 1.6664 - val_accuracy: 0.6501\n",
      "Epoch 27/30\n",
      "18964/18964 [==============================] - 1269s 67ms/step - loss: 0.1190 - accuracy: 0.9617 - val_loss: 1.5674 - val_accuracy: 0.6606\n",
      "Epoch 28/30\n",
      "18964/18964 [==============================] - 1270s 67ms/step - loss: 0.1183 - accuracy: 0.9601 - val_loss: 1.5830 - val_accuracy: 0.6676\n",
      "Epoch 29/30\n",
      "18964/18964 [==============================] - 1275s 67ms/step - loss: 0.1110 - accuracy: 0.9632 - val_loss: 1.4307 - val_accuracy: 0.6528\n",
      "Epoch 30/30\n",
      "18964/18964 [==============================] - 1274s 67ms/step - loss: 0.0914 - accuracy: 0.9702 - val_loss: 1.5827 - val_accuracy: 0.6604\n"
     ]
    },
    {
     "data": {
      "text/plain": [
       "<keras.callbacks.callbacks.History at 0x7f83350b79d0>"
      ]
     },
     "execution_count": 13,
     "metadata": {},
     "output_type": "execute_result"
    }
   ],
   "source": [
    "model.fit(X_train,y_train,batch_size=32,epochs=30,verbose=1,validation_data=(X_test, y_test))"
   ]
  },
  {
   "cell_type": "code",
   "execution_count": 14,
   "metadata": {},
   "outputs": [],
   "source": [
    "local_path = '/Users/blakemyers/Desktop/Jupyter/DeepLearning2021/TrainedModelSp21v2'\n",
    "model.save(local_path)"
   ]
  },
  {
   "cell_type": "code",
   "execution_count": 15,
   "metadata": {},
   "outputs": [],
   "source": [
    "y_pred=model.predict_classes(X_test)"
   ]
  },
  {
   "cell_type": "code",
   "execution_count": 16,
   "metadata": {},
   "outputs": [],
   "source": [
    "cm = confusion_matrix(y_test.argmax(axis=1), y_pred)"
   ]
  },
  {
   "cell_type": "code",
   "execution_count": 17,
   "metadata": {},
   "outputs": [
    {
     "data": {
      "text/plain": [
       "array([[ 439,   24,    4,    4,    2,    3,    0],\n",
       "       [  37,  108,   29,   16,    2,    2,    1],\n",
       "       [   2,   34,  101,  159,    5,    4,    2],\n",
       "       [   6,   10,   78, 1615,  309,   51,    3],\n",
       "       [   1,    4,    9,  255,  369,  118,    8],\n",
       "       [   1,    3,    0,   60,  181,  371,   77],\n",
       "       [   0,    0,    1,    3,   16,   86,  128]])"
      ]
     },
     "execution_count": 17,
     "metadata": {},
     "output_type": "execute_result"
    }
   ],
   "source": [
    "cm"
   ]
  },
  {
   "cell_type": "code",
   "execution_count": 18,
   "metadata": {},
   "outputs": [],
   "source": [
    "import matplotlib.pyplot as plt"
   ]
  },
  {
   "cell_type": "code",
   "execution_count": 19,
   "metadata": {},
   "outputs": [
    {
     "data": {
      "image/png": "[encoded data removed]",
      "text/plain": [
       "<Figure size 504x504 with 2 Axes>"
      ]
     },
     "metadata": {
      "needs_background": "light"
     },
     "output_type": "display_data"
    }
   ],
   "source": [
    "fig,ax= plt.subplots(figsize=(7,7))\n",
    "sns.heatmap(cm / (cm.astype(np.float).sum(axis=1) + 1e-9), annot=False, ax=ax)\n",
    "ax.set_xlabel('Predicted', size=20);\n",
    "ax.set_ylabel('True', size=20);\n",
    "ax.set_title('Confusion Matrix', size=20);\n",
    "ax.xaxis.set_ticklabels(['1-5','6-12','13-20','21-35', '36-50', '51-70','71-116'], size=9); \\\n",
    "ax.yaxis.set_ticklabels(['1-5','6-12','13-20','21-35', '36-50', '51-70','71-116'], size=9);"
   ]
  },
  {
   "cell_type": "code",
   "execution_count": null,
   "metadata": {},
   "outputs": [],
   "source": []
  }
 ],
 "metadata": {
  "kernelspec": {
   "display_name": "Python 3",
   "language": "python",
   "name": "python3"
  },
  "language_info": {
   "codemirror_mode": {
    "name": "ipython",
    "version": 3
   },
   "file_extension": ".py",
   "mimetype": "text/x-python",
   "name": "python",
   "nbconvert_exporter": "python",
   "pygments_lexer": "ipython3",
   "version": "3.7.10"
  }
 },
 "nbformat": 4,
 "nbformat_minor": 2
}
