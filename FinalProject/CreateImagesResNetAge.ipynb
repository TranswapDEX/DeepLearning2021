{
 "cells": [
  {
   "cell_type": "code",
   "execution_count": 1,
   "metadata": {},
   "outputs": [],
   "source": [
    "# To begin, I created a folder called \"FaceAgeImages\". I placed the age_gender.csv\n",
    "# file within the FaceAgeImages folder, and then I ran the following code."
   ]
  },
  {
   "cell_type": "code",
   "execution_count": 2,
   "metadata": {},
   "outputs": [],
   "source": [
    "import numpy as np\n",
    "import pandas as pd\n",
    "import os\n",
    "from PIL import Image"
   ]
  },
  {
   "cell_type": "code",
   "execution_count": 3,
   "metadata": {},
   "outputs": [],
   "source": [
    "df = pd.read_csv('/Users/blakemyers/Desktop/FaceAgeImages/age_gender.csv')"
   ]
  },
  {
   "cell_type": "code",
   "execution_count": 4,
   "metadata": {},
   "outputs": [
    {
     "data": {
      "text/html": [
       "<div>\n",
       "<style scoped>\n",
       "    .dataframe tbody tr th:only-of-type {\n",
       "        vertical-align: middle;\n",
       "    }\n",
       "\n",
       "    .dataframe tbody tr th {\n",
       "        vertical-align: top;\n",
       "    }\n",
       "\n",
       "    .dataframe thead th {\n",
       "        text-align: right;\n",
       "    }\n",
       "</style>\n",
       "<table border=\"1\" class=\"dataframe\">\n",
       "  <thead>\n",
       "    <tr style=\"text-align: right;\">\n",
       "      <th></th>\n",
       "      <th>age</th>\n",
       "      <th>ethnicity</th>\n",
       "      <th>gender</th>\n",
       "      <th>img_name</th>\n",
       "      <th>pixels</th>\n",
       "    </tr>\n",
       "  </thead>\n",
       "  <tbody>\n",
       "    <tr>\n",
       "      <th>0</th>\n",
       "      <td>1</td>\n",
       "      <td>2</td>\n",
       "      <td>0</td>\n",
       "      <td>20161219203650636.jpg.chip.jpg</td>\n",
       "      <td>129 128 128 126 127 130 133 135 139 142 145 14...</td>\n",
       "    </tr>\n",
       "    <tr>\n",
       "      <th>1</th>\n",
       "      <td>1</td>\n",
       "      <td>2</td>\n",
       "      <td>0</td>\n",
       "      <td>20161219222752047.jpg.chip.jpg</td>\n",
       "      <td>164 74 111 168 169 171 175 182 184 188 193 199...</td>\n",
       "    </tr>\n",
       "    <tr>\n",
       "      <th>2</th>\n",
       "      <td>1</td>\n",
       "      <td>2</td>\n",
       "      <td>0</td>\n",
       "      <td>20161219222832191.jpg.chip.jpg</td>\n",
       "      <td>67 70 71 70 69 67 70 79 90 103 116 132 145 155...</td>\n",
       "    </tr>\n",
       "    <tr>\n",
       "      <th>3</th>\n",
       "      <td>1</td>\n",
       "      <td>2</td>\n",
       "      <td>0</td>\n",
       "      <td>20161220144911423.jpg.chip.jpg</td>\n",
       "      <td>193 197 198 200 199 200 202 203 204 205 208 21...</td>\n",
       "    </tr>\n",
       "    <tr>\n",
       "      <th>4</th>\n",
       "      <td>1</td>\n",
       "      <td>2</td>\n",
       "      <td>0</td>\n",
       "      <td>20161220144914327.jpg.chip.jpg</td>\n",
       "      <td>202 205 209 210 209 209 210 211 212 214 218 21...</td>\n",
       "    </tr>\n",
       "  </tbody>\n",
       "</table>\n",
       "</div>"
      ],
      "text/plain": [
       "   age  ethnicity  gender                        img_name  \\\n",
       "0    1          2       0  20161219203650636.jpg.chip.jpg   \n",
       "1    1          2       0  20161219222752047.jpg.chip.jpg   \n",
       "2    1          2       0  20161219222832191.jpg.chip.jpg   \n",
       "3    1          2       0  20161220144911423.jpg.chip.jpg   \n",
       "4    1          2       0  20161220144914327.jpg.chip.jpg   \n",
       "\n",
       "                                              pixels  \n",
       "0  129 128 128 126 127 130 133 135 139 142 145 14...  \n",
       "1  164 74 111 168 169 171 175 182 184 188 193 199...  \n",
       "2  67 70 71 70 69 67 70 79 90 103 116 132 145 155...  \n",
       "3  193 197 198 200 199 200 202 203 204 205 208 21...  \n",
       "4  202 205 209 210 209 209 210 211 212 214 218 21...  "
      ]
     },
     "execution_count": 4,
     "metadata": {},
     "output_type": "execute_result"
    }
   ],
   "source": [
    "df.head()"
   ]
  },
  {
   "cell_type": "code",
   "execution_count": 5,
   "metadata": {},
   "outputs": [],
   "source": [
    "df0 = df.query('age > 0 and age < 8')\n",
    "df1 = df.query('age > 7 and age < 16')\n",
    "df2 = df.query('age > 15 and age < 26')\n",
    "df3 = df.query('age > 25 and age < 36')\n",
    "df4 = df.query('age > 35 and age < 46')\n",
    "df5 = df.query('age > 45 and age < 66')\n",
    "df6 = df.query('age > 65')"
   ]
  },
  {
   "cell_type": "code",
   "execution_count": 6,
   "metadata": {},
   "outputs": [],
   "source": [
    "os.mkdir(\"/Users/blakemyers/Desktop/FaceAgeImages/0/\")\n",
    "os.mkdir(\"/Users/blakemyers/Desktop/FaceAgeImages/1/\")\n",
    "os.mkdir(\"/Users/blakemyers/Desktop/FaceAgeImages/2/\")\n",
    "os.mkdir(\"/Users/blakemyers/Desktop/FaceAgeImages/3/\")\n",
    "os.mkdir(\"/Users/blakemyers/Desktop/FaceAgeImages/4/\")\n",
    "os.mkdir(\"/Users/blakemyers/Desktop/FaceAgeImages/5/\")\n",
    "os.mkdir(\"/Users/blakemyers/Desktop/FaceAgeImages/6/\")"
   ]
  },
  {
   "cell_type": "code",
   "execution_count": 7,
   "metadata": {},
   "outputs": [],
   "source": [
    "d=0\n",
    "for image_pixels in df0.iloc[1:,4]:\n",
    "    image_string = image_pixels.split(' ')\n",
    "    image_data = np.asarray(image_string, dtype=np.uint8).reshape(48,48)\n",
    "    img = Image.fromarray(image_data)\n",
    "    img.save(\"/Users/blakemyers/Desktop/FaceAgeImages/0/img_%d.jpg\"%d, \"JPEG\")\n",
    "    d+=1"
   ]
  },
  {
   "cell_type": "code",
   "execution_count": 8,
   "metadata": {},
   "outputs": [],
   "source": [
    "d=0\n",
    "for image_pixels in df1.iloc[1:,4]:\n",
    "    image_string = image_pixels.split(' ')\n",
    "    image_data = np.asarray(image_string, dtype=np.uint8).reshape(48,48)\n",
    "    img = Image.fromarray(image_data)\n",
    "    img.save(\"/Users/blakemyers/Desktop/FaceAgeImages/1/img_%d.jpg\"%d, \"JPEG\")\n",
    "    d+=1"
   ]
  },
  {
   "cell_type": "code",
   "execution_count": 9,
   "metadata": {},
   "outputs": [],
   "source": [
    "d=0\n",
    "for image_pixels in df2.iloc[1:,4]:\n",
    "    image_string = image_pixels.split(' ')\n",
    "    image_data = np.asarray(image_string, dtype=np.uint8).reshape(48,48)\n",
    "    img = Image.fromarray(image_data)\n",
    "    img.save(\"/Users/blakemyers/Desktop/FaceAgeImages/2/img_%d.jpg\"%d, \"JPEG\")\n",
    "    d+=1"
   ]
  },
  {
   "cell_type": "code",
   "execution_count": 10,
   "metadata": {},
   "outputs": [],
   "source": [
    "d=0\n",
    "for image_pixels in df3.iloc[1:,4]:\n",
    "    image_string = image_pixels.split(' ')\n",
    "    image_data = np.asarray(image_string, dtype=np.uint8).reshape(48,48)\n",
    "    img = Image.fromarray(image_data)\n",
    "    img.save(\"/Users/blakemyers/Desktop/FaceAgeImages/3/img_%d.jpg\"%d, \"JPEG\")\n",
    "    d+=1"
   ]
  },
  {
   "cell_type": "code",
   "execution_count": 11,
   "metadata": {},
   "outputs": [],
   "source": [
    "d=0\n",
    "for image_pixels in df4.iloc[1:,4]:\n",
    "    image_string = image_pixels.split(' ')\n",
    "    image_data = np.asarray(image_string, dtype=np.uint8).reshape(48,48)\n",
    "    img = Image.fromarray(image_data)\n",
    "    img.save(\"/Users/blakemyers/Desktop/FaceAgeImages/4/img_%d.jpg\"%d, \"JPEG\")\n",
    "    d+=1"
   ]
  },
  {
   "cell_type": "code",
   "execution_count": 12,
   "metadata": {},
   "outputs": [],
   "source": [
    "d=0\n",
    "for image_pixels in df5.iloc[1:,4]:\n",
    "    image_string = image_pixels.split(' ')\n",
    "    image_data = np.asarray(image_string, dtype=np.uint8).reshape(48,48)\n",
    "    img = Image.fromarray(image_data)\n",
    "    img.save(\"/Users/blakemyers/Desktop/FaceAgeImages/5/img_%d.jpg\"%d, \"JPEG\")\n",
    "    d+=1"
   ]
  },
  {
   "cell_type": "code",
   "execution_count": 13,
   "metadata": {},
   "outputs": [],
   "source": [
    "d=0\n",
    "for image_pixels in df6.iloc[1:,4]:\n",
    "    image_string = image_pixels.split(' ')\n",
    "    image_data = np.asarray(image_string, dtype=np.uint8).reshape(48,48)\n",
    "    img = Image.fromarray(image_data)\n",
    "    img.save(\"/Users/blakemyers/Desktop/FaceAgeImages/6/img_%d.jpg\"%d, \"JPEG\")\n",
    "    d+=1"
   ]
  }
 ],
 "metadata": {
  "kernelspec": {
   "display_name": "Python 3",
   "language": "python",
   "name": "python3"
  },
  "language_info": {
   "codemirror_mode": {
    "name": "ipython",
    "version": 3
   },
   "file_extension": ".py",
   "mimetype": "text/x-python",
   "name": "python",
   "nbconvert_exporter": "python",
   "pygments_lexer": "ipython3",
   "version": "3.7.10"
  }
 },
 "nbformat": 4,
 "nbformat_minor": 2
}
