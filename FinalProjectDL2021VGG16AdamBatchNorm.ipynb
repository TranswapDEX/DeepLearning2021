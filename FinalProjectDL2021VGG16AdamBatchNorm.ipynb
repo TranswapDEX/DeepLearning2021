{
 "cells": [
  {
   "cell_type": "code",
   "execution_count": 1,
   "metadata": {},
   "outputs": [
    {
     "name": "stderr",
     "output_type": "stream",
     "text": [
      "Using TensorFlow backend.\n"
     ]
    }
   ],
   "source": [
    "import pandas as pd\n",
    "import numpy as np\n",
    "from sklearn.metrics import classification_report\n",
    "from keras.models import Sequential\n",
    "from keras.layers.core import Flatten, Dense, Dropout\n",
    "from keras.layers.convolutional import Convolution2D, MaxPooling2D, ZeroPadding2D\n",
    "from keras.layers.normalization import BatchNormalization\n",
    "from keras.layers import Activation\n",
    "from keras.optimizers import Adam\n",
    "import cv2\n",
    "import keras\n",
    "from keras.utils import np_utils\n",
    "from keras.utils.np_utils import to_categorical\n",
    "from sklearn.metrics import confusion_matrix\n",
    "import seaborn as sns\n",
    "from sklearn.model_selection import train_test_split\n",
    "import matplotlib.pyplot as plt"
   ]
  },
  {
   "cell_type": "code",
   "execution_count": 2,
   "metadata": {
    "scrolled": true
   },
   "outputs": [
    {
     "data": {
      "text/html": [
       "<div>\n",
       "<style scoped>\n",
       "    .dataframe tbody tr th:only-of-type {\n",
       "        vertical-align: middle;\n",
       "    }\n",
       "\n",
       "    .dataframe tbody tr th {\n",
       "        vertical-align: top;\n",
       "    }\n",
       "\n",
       "    .dataframe thead th {\n",
       "        text-align: right;\n",
       "    }\n",
       "</style>\n",
       "<table border=\"1\" class=\"dataframe\">\n",
       "  <thead>\n",
       "    <tr style=\"text-align: right;\">\n",
       "      <th></th>\n",
       "      <th>age</th>\n",
       "      <th>ethnicity</th>\n",
       "      <th>gender</th>\n",
       "      <th>img_name</th>\n",
       "      <th>pixels</th>\n",
       "    </tr>\n",
       "  </thead>\n",
       "  <tbody>\n",
       "    <tr>\n",
       "      <th>0</th>\n",
       "      <td>1</td>\n",
       "      <td>2</td>\n",
       "      <td>0</td>\n",
       "      <td>20161219203650636.jpg.chip.jpg</td>\n",
       "      <td>129 128 128 126 127 130 133 135 139 142 145 14...</td>\n",
       "    </tr>\n",
       "    <tr>\n",
       "      <th>1</th>\n",
       "      <td>1</td>\n",
       "      <td>2</td>\n",
       "      <td>0</td>\n",
       "      <td>20161219222752047.jpg.chip.jpg</td>\n",
       "      <td>164 74 111 168 169 171 175 182 184 188 193 199...</td>\n",
       "    </tr>\n",
       "    <tr>\n",
       "      <th>2</th>\n",
       "      <td>1</td>\n",
       "      <td>2</td>\n",
       "      <td>0</td>\n",
       "      <td>20161219222832191.jpg.chip.jpg</td>\n",
       "      <td>67 70 71 70 69 67 70 79 90 103 116 132 145 155...</td>\n",
       "    </tr>\n",
       "  </tbody>\n",
       "</table>\n",
       "</div>"
      ],
      "text/plain": [
       "   age  ethnicity  gender                        img_name  \\\n",
       "0    1          2       0  20161219203650636.jpg.chip.jpg   \n",
       "1    1          2       0  20161219222752047.jpg.chip.jpg   \n",
       "2    1          2       0  20161219222832191.jpg.chip.jpg   \n",
       "\n",
       "                                              pixels  \n",
       "0  129 128 128 126 127 130 133 135 139 142 145 14...  \n",
       "1  164 74 111 168 169 171 175 182 184 188 193 199...  \n",
       "2  67 70 71 70 69 67 70 79 90 103 116 132 145 155...  "
      ]
     },
     "execution_count": 2,
     "metadata": {},
     "output_type": "execute_result"
    }
   ],
   "source": [
    "age_data = pd.read_csv('/Users/blakemyers/Desktop/age_gender.csv')\n",
    "age_data.head(3)"
   ]
  },
  {
   "cell_type": "code",
   "execution_count": 3,
   "metadata": {},
   "outputs": [],
   "source": [
    "def label_age (row):\n",
    "    if row['age'] > 0 and row['age'] < 8:\n",
    "        return 0\n",
    "    elif row['age'] > 7 and row['age'] < 16:\n",
    "        return 1\n",
    "    elif row['age'] > 15 and row['age'] < 26:\n",
    "        return 2\n",
    "    elif row['age'] > 25 and row['age'] < 36:\n",
    "        return 3\n",
    "    elif row['age'] > 35 and row['age'] < 46:\n",
    "        return 4\n",
    "    elif row['age'] > 45 and row['age'] < 66:\n",
    "        return 5\n",
    "    else:\n",
    "        return 6"
   ]
  },
  {
   "cell_type": "code",
   "execution_count": 4,
   "metadata": {},
   "outputs": [],
   "source": [
    "age_data['AgeGroup'] = age_data.apply (lambda row: label_age(row), axis=1)"
   ]
  },
  {
   "cell_type": "code",
   "execution_count": 5,
   "metadata": {},
   "outputs": [
    {
     "data": {
      "text/html": [
       "<div>\n",
       "<style scoped>\n",
       "    .dataframe tbody tr th:only-of-type {\n",
       "        vertical-align: middle;\n",
       "    }\n",
       "\n",
       "    .dataframe tbody tr th {\n",
       "        vertical-align: top;\n",
       "    }\n",
       "\n",
       "    .dataframe thead th {\n",
       "        text-align: right;\n",
       "    }\n",
       "</style>\n",
       "<table border=\"1\" class=\"dataframe\">\n",
       "  <thead>\n",
       "    <tr style=\"text-align: right;\">\n",
       "      <th></th>\n",
       "      <th>age</th>\n",
       "      <th>ethnicity</th>\n",
       "      <th>gender</th>\n",
       "      <th>img_name</th>\n",
       "      <th>pixels</th>\n",
       "      <th>AgeGroup</th>\n",
       "    </tr>\n",
       "  </thead>\n",
       "  <tbody>\n",
       "    <tr>\n",
       "      <th>0</th>\n",
       "      <td>1</td>\n",
       "      <td>2</td>\n",
       "      <td>0</td>\n",
       "      <td>20161219203650636.jpg.chip.jpg</td>\n",
       "      <td>129 128 128 126 127 130 133 135 139 142 145 14...</td>\n",
       "      <td>0</td>\n",
       "    </tr>\n",
       "    <tr>\n",
       "      <th>1</th>\n",
       "      <td>1</td>\n",
       "      <td>2</td>\n",
       "      <td>0</td>\n",
       "      <td>20161219222752047.jpg.chip.jpg</td>\n",
       "      <td>164 74 111 168 169 171 175 182 184 188 193 199...</td>\n",
       "      <td>0</td>\n",
       "    </tr>\n",
       "    <tr>\n",
       "      <th>2</th>\n",
       "      <td>1</td>\n",
       "      <td>2</td>\n",
       "      <td>0</td>\n",
       "      <td>20161219222832191.jpg.chip.jpg</td>\n",
       "      <td>67 70 71 70 69 67 70 79 90 103 116 132 145 155...</td>\n",
       "      <td>0</td>\n",
       "    </tr>\n",
       "  </tbody>\n",
       "</table>\n",
       "</div>"
      ],
      "text/plain": [
       "   age  ethnicity  gender                        img_name  \\\n",
       "0    1          2       0  20161219203650636.jpg.chip.jpg   \n",
       "1    1          2       0  20161219222752047.jpg.chip.jpg   \n",
       "2    1          2       0  20161219222832191.jpg.chip.jpg   \n",
       "\n",
       "                                              pixels  AgeGroup  \n",
       "0  129 128 128 126 127 130 133 135 139 142 145 14...         0  \n",
       "1  164 74 111 168 169 171 175 182 184 188 193 199...         0  \n",
       "2  67 70 71 70 69 67 70 79 90 103 116 132 145 155...         0  "
      ]
     },
     "execution_count": 5,
     "metadata": {},
     "output_type": "execute_result"
    }
   ],
   "source": [
    "age_data.head(3)"
   ]
  },
  {
   "cell_type": "code",
   "execution_count": 6,
   "metadata": {},
   "outputs": [],
   "source": [
    "X = []\n",
    "y = []\n",
    "for index, row in age_data.iterrows():\n",
    "    k = row['pixels'].split(\" \")\n",
    "    X.append(np.array(k))\n",
    "    y.append(row['AgeGroup'])\n",
    "        \n",
    "X_train, X_valid, y_train, y_valid = train_test_split(X, y, train_size=0.9, random_state=42)\n",
    "X_train, X_test, y_train, y_test = train_test_split(X_train, y_train, train_size=0.8/0.9, random_state=42)"
   ]
  },
  {
   "cell_type": "code",
   "execution_count": 7,
   "metadata": {},
   "outputs": [],
   "source": [
    "X_train = np.array(X_train)\n",
    "y_train = np.array(y_train)\n",
    "X_valid = np.array(X_valid)\n",
    "y_valid = np.array(y_valid)\n",
    "X_test = np.array(X_test)\n",
    "y_test = np.array(y_test)\n",
    "\n",
    "X_train = X_train.reshape(X_train.shape[0], 48, 48, 1)\n",
    "X_valid = X_valid.reshape(X_valid.shape[0], 48, 48, 1)\n",
    "X_test = X_test.reshape(X_test.shape[0], 48, 48, 1)\n",
    "\n",
    "y_train = np_utils.to_categorical(y_train, num_classes = 7)\n",
    "y_valid = np_utils.to_categorical(y_valid, num_classes = 7)\n",
    "y_test = np_utils.to_categorical(y_test, num_classes = 7)"
   ]
  },
  {
   "cell_type": "code",
   "execution_count": 8,
   "metadata": {},
   "outputs": [
    {
     "data": {
      "text/plain": [
       "(18963, 48, 48, 1)"
      ]
     },
     "execution_count": 8,
     "metadata": {},
     "output_type": "execute_result"
    }
   ],
   "source": [
    "X_train.shape"
   ]
  },
  {
   "cell_type": "code",
   "execution_count": 9,
   "metadata": {},
   "outputs": [
    {
     "data": {
      "text/plain": [
       "(2371, 48, 48, 1)"
      ]
     },
     "execution_count": 9,
     "metadata": {},
     "output_type": "execute_result"
    }
   ],
   "source": [
    "X_valid.shape"
   ]
  },
  {
   "cell_type": "code",
   "execution_count": 10,
   "metadata": {},
   "outputs": [
    {
     "data": {
      "text/plain": [
       "(2371, 48, 48, 1)"
      ]
     },
     "execution_count": 10,
     "metadata": {},
     "output_type": "execute_result"
    }
   ],
   "source": [
    "X_test.shape"
   ]
  },
  {
   "cell_type": "code",
   "execution_count": 11,
   "metadata": {},
   "outputs": [],
   "source": [
    "model = Sequential()\n",
    "model.add(ZeroPadding2D((1,1),input_shape=(48,48,1)))\n",
    "model.add(Convolution2D(64, (3, 3)))\n",
    "model.add(BatchNormalization())\n",
    "model.add(Activation(\"relu\"))\n",
    "model.add(ZeroPadding2D((1,1)))\n",
    "model.add(Convolution2D(64, (3, 3)))\n",
    "model.add(BatchNormalization())\n",
    "model.add(Activation(\"relu\"))\n",
    "model.add(MaxPooling2D((2,2), strides=(2,2)))\n",
    "\n",
    "model.add(ZeroPadding2D((1,1)))\n",
    "model.add(Convolution2D(128, (3, 3)))\n",
    "model.add(BatchNormalization())\n",
    "model.add(Activation(\"relu\"))\n",
    "model.add(ZeroPadding2D((1,1)))\n",
    "model.add(Convolution2D(128, (3, 3)))\n",
    "model.add(BatchNormalization())\n",
    "model.add(Activation(\"relu\"))\n",
    "model.add(MaxPooling2D((2,2), strides=(2,2)))\n",
    "\n",
    "model.add(ZeroPadding2D((1,1)))\n",
    "model.add(Convolution2D(256, (3, 3)))\n",
    "model.add(BatchNormalization())\n",
    "model.add(Activation(\"relu\"))\n",
    "model.add(ZeroPadding2D((1,1)))\n",
    "model.add(Convolution2D(256, (3, 3)))\n",
    "model.add(BatchNormalization())\n",
    "model.add(Activation(\"relu\"))\n",
    "model.add(ZeroPadding2D((1,1)))\n",
    "model.add(Convolution2D(256, (3, 3)))\n",
    "model.add(BatchNormalization())\n",
    "model.add(Activation(\"relu\"))\n",
    "model.add(MaxPooling2D((2,2), strides=(2,2)))\n",
    "\n",
    "model.add(ZeroPadding2D((1,1)))\n",
    "model.add(Convolution2D(512, (3, 3)))\n",
    "model.add(BatchNormalization())\n",
    "model.add(Activation(\"relu\"))\n",
    "model.add(ZeroPadding2D((1,1)))\n",
    "model.add(Convolution2D(512, (3, 3)))\n",
    "model.add(BatchNormalization())\n",
    "model.add(Activation(\"relu\"))\n",
    "model.add(ZeroPadding2D((1,1)))\n",
    "model.add(Convolution2D(512, (3, 3)))\n",
    "model.add(BatchNormalization())\n",
    "model.add(Activation(\"relu\"))\n",
    "model.add(MaxPooling2D((2,2), strides=(2,2)))\n",
    "\n",
    "model.add(ZeroPadding2D((1,1)))\n",
    "model.add(Convolution2D(512, (3, 3)))\n",
    "model.add(BatchNormalization())\n",
    "model.add(Activation(\"relu\"))\n",
    "model.add(ZeroPadding2D((1,1)))\n",
    "model.add(Convolution2D(512, (3, 3)))\n",
    "model.add(BatchNormalization())\n",
    "model.add(Activation(\"relu\"))\n",
    "model.add(ZeroPadding2D((1,1)))\n",
    "model.add(Convolution2D(512, (3, 3)))\n",
    "model.add(BatchNormalization())\n",
    "model.add(Activation(\"relu\"))\n",
    "model.add(MaxPooling2D((2,2), strides=(2,2)))\n",
    "\n",
    "model.add(Flatten())\n",
    "model.add(Dense(4096, activation='relu'))\n",
    "model.add(Dropout(0.5))\n",
    "model.add(Dense(4096, activation='relu'))\n",
    "model.add(Dropout(0.5))\n",
    "model.add(Dense(7, activation='softmax'))"
   ]
  },
  {
   "cell_type": "code",
   "execution_count": 12,
   "metadata": {},
   "outputs": [],
   "source": [
    "opt = Adam(lr=0.001)\n",
    "model.compile(optimizer= opt, loss='categorical_crossentropy', metrics=['accuracy'])"
   ]
  },
  {
   "cell_type": "code",
   "execution_count": 13,
   "metadata": {},
   "outputs": [
    {
     "name": "stdout",
     "output_type": "stream",
     "text": [
      "Train on 18963 samples, validate on 2371 samples\n",
      "Epoch 1/30\n",
      "18963/18963 [==============================] - 2312s 122ms/step - loss: 1.7553 - accuracy: 0.3367 - val_loss: 1.5484 - val_accuracy: 0.4045\n",
      "Epoch 2/30\n",
      "18963/18963 [==============================] - 2279s 120ms/step - loss: 1.3137 - accuracy: 0.4712 - val_loss: 2.3659 - val_accuracy: 0.2231\n",
      "Epoch 3/30\n",
      "18963/18963 [==============================] - 2281s 120ms/step - loss: 1.1457 - accuracy: 0.5191 - val_loss: 1.4400 - val_accuracy: 0.4353\n",
      "Epoch 4/30\n",
      "18963/18963 [==============================] - 2275s 120ms/step - loss: 1.0746 - accuracy: 0.5462 - val_loss: 1.1656 - val_accuracy: 0.5234\n",
      "Epoch 5/30\n",
      "18963/18963 [==============================] - 2276s 120ms/step - loss: 1.0124 - accuracy: 0.5666 - val_loss: 1.0572 - val_accuracy: 0.5597\n",
      "Epoch 6/30\n",
      "18963/18963 [==============================] - 2390s 126ms/step - loss: 0.9739 - accuracy: 0.5806 - val_loss: 1.4735 - val_accuracy: 0.4429\n",
      "Epoch 7/30\n",
      "18963/18963 [==============================] - 2547s 134ms/step - loss: 0.9246 - accuracy: 0.6033 - val_loss: 1.0115 - val_accuracy: 0.5719\n",
      "Epoch 8/30\n",
      "18963/18963 [==============================] - 2279s 120ms/step - loss: 0.8854 - accuracy: 0.6214 - val_loss: 1.4553 - val_accuracy: 0.4496\n",
      "Epoch 9/30\n",
      "18963/18963 [==============================] - 2254s 119ms/step - loss: 0.8522 - accuracy: 0.6331 - val_loss: 0.9946 - val_accuracy: 0.5930\n",
      "Epoch 10/30\n",
      "18963/18963 [==============================] - 2253s 119ms/step - loss: 0.7965 - accuracy: 0.6618 - val_loss: 1.0809 - val_accuracy: 0.5631\n",
      "Epoch 11/30\n",
      "18963/18963 [==============================] - 2247s 119ms/step - loss: 0.7614 - accuracy: 0.6735 - val_loss: 1.1398 - val_accuracy: 0.5584\n",
      "Epoch 12/30\n",
      "18963/18963 [==============================] - 2248s 119ms/step - loss: 0.7183 - accuracy: 0.6911 - val_loss: 1.1956 - val_accuracy: 0.5500\n",
      "Epoch 13/30\n",
      "18963/18963 [==============================] - 2252s 119ms/step - loss: 0.7055 - accuracy: 0.7046 - val_loss: 1.2108 - val_accuracy: 0.5458\n",
      "Epoch 14/30\n",
      "18963/18963 [==============================] - 2435s 128ms/step - loss: 0.6128 - accuracy: 0.7497 - val_loss: 1.0651 - val_accuracy: 0.5905\n",
      "Epoch 15/30\n",
      "18963/18963 [==============================] - 2253s 119ms/step - loss: 0.5497 - accuracy: 0.7786 - val_loss: 1.1559 - val_accuracy: 0.5993\n",
      "Epoch 16/30\n",
      "18963/18963 [==============================] - 2271s 120ms/step - loss: 0.5045 - accuracy: 0.8001 - val_loss: 1.1863 - val_accuracy: 0.5825\n",
      "Epoch 17/30\n",
      "18963/18963 [==============================] - 2254s 119ms/step - loss: 0.4476 - accuracy: 0.8273 - val_loss: 1.4024 - val_accuracy: 0.5668\n",
      "Epoch 18/30\n",
      "18963/18963 [==============================] - 2251s 119ms/step - loss: 0.4056 - accuracy: 0.8454 - val_loss: 2.2410 - val_accuracy: 0.4817\n",
      "Epoch 19/30\n",
      "18963/18963 [==============================] - 2250s 119ms/step - loss: 0.3474 - accuracy: 0.8710 - val_loss: 1.5251 - val_accuracy: 0.5643\n",
      "Epoch 20/30\n",
      "18963/18963 [==============================] - 2250s 119ms/step - loss: 0.3096 - accuracy: 0.8877 - val_loss: 1.9177 - val_accuracy: 0.5382\n",
      "Epoch 21/30\n",
      "18963/18963 [==============================] - 2258s 119ms/step - loss: 0.2613 - accuracy: 0.9071 - val_loss: 1.6662 - val_accuracy: 0.5677\n",
      "Epoch 22/30\n",
      "18963/18963 [==============================] - 2250s 119ms/step - loss: 0.2348 - accuracy: 0.9175 - val_loss: 1.7036 - val_accuracy: 0.5555\n",
      "Epoch 23/30\n",
      "18963/18963 [==============================] - 2253s 119ms/step - loss: 0.2403 - accuracy: 0.9163 - val_loss: 1.8011 - val_accuracy: 0.5841\n",
      "Epoch 24/30\n",
      "18963/18963 [==============================] - 2266s 119ms/step - loss: 0.2068 - accuracy: 0.9305 - val_loss: 1.7708 - val_accuracy: 0.5647\n",
      "Epoch 25/30\n",
      "18963/18963 [==============================] - 2263s 119ms/step - loss: 0.2062 - accuracy: 0.9295 - val_loss: 1.7675 - val_accuracy: 0.5609\n",
      "Epoch 26/30\n",
      "18963/18963 [==============================] - 2248s 119ms/step - loss: 0.1864 - accuracy: 0.9379 - val_loss: 1.9928 - val_accuracy: 0.5601\n",
      "Epoch 27/30\n",
      "18963/18963 [==============================] - 2250s 119ms/step - loss: 0.1655 - accuracy: 0.9452 - val_loss: 2.0249 - val_accuracy: 0.5770\n",
      "Epoch 28/30\n",
      "18963/18963 [==============================] - 2249s 119ms/step - loss: 0.1611 - accuracy: 0.9485 - val_loss: 1.8045 - val_accuracy: 0.5631\n",
      "Epoch 29/30\n",
      "18963/18963 [==============================] - 2248s 119ms/step - loss: 0.1607 - accuracy: 0.9509 - val_loss: 1.8134 - val_accuracy: 0.5934\n",
      "Epoch 30/30\n",
      "18963/18963 [==============================] - 2247s 118ms/step - loss: 0.1450 - accuracy: 0.9560 - val_loss: 1.7103 - val_accuracy: 0.6019\n"
     ]
    },
    {
     "data": {
      "text/plain": [
       "<keras.callbacks.callbacks.History at 0x7fe9b41cee90>"
      ]
     },
     "execution_count": 13,
     "metadata": {},
     "output_type": "execute_result"
    }
   ],
   "source": [
    "model.fit(X_train,y_train,batch_size=32,epochs=30,verbose=1,validation_data=(X_valid, y_valid))"
   ]
  },
  {
   "cell_type": "code",
   "execution_count": 14,
   "metadata": {},
   "outputs": [],
   "source": [
    "local_path = '/Users/blakemyers/Desktop/Jupyter/DeepLearning2021/TrainedAge2021VGG16Adam'\n",
    "model.save(local_path)"
   ]
  },
  {
   "cell_type": "code",
   "execution_count": 15,
   "metadata": {},
   "outputs": [
    {
     "name": "stdout",
     "output_type": "stream",
     "text": [
      "              precision    recall  f1-score   support\n",
      "\n",
      "         1-7       0.93      0.89      0.91       241\n",
      "        8-15       0.61      0.54      0.57       121\n",
      "       16-25       0.46      0.52      0.49       367\n",
      "       26-35       0.59      0.63      0.61       735\n",
      "       36-45       0.34      0.36      0.35       305\n",
      "       46-65       0.58      0.57      0.58       429\n",
      "      66-116       0.73      0.45      0.55       173\n",
      "\n",
      "    accuracy                           0.58      2371\n",
      "   macro avg       0.61      0.56      0.58      2371\n",
      "weighted avg       0.59      0.58      0.58      2371\n",
      "\n"
     ]
    }
   ],
   "source": [
    "Y_test = np.argmax(y_test, axis=1)\n",
    "y_pred = model.predict_classes(X_test)\n",
    "target_names = ['1-7', '8-15', '16-25', '26-35', '36-45', '46-65', '66-116']\n",
    "print(classification_report(Y_test, y_pred, target_names = target_names))"
   ]
  },
  {
   "cell_type": "code",
   "execution_count": 16,
   "metadata": {},
   "outputs": [
    {
     "name": "stdout",
     "output_type": "stream",
     "text": [
      "[[214  23   1   1   1   1   0]\n",
      " [ 15  65  28   9   0   3   1]\n",
      " [  1  14 192 152   6   2   0]\n",
      " [  0   3 166 464  84  15   3]\n",
      " [  0   1  18 107 109  67   3]\n",
      " [  0   0   6  44 112 245  22]\n",
      " [  0   0   2   3   5  86  77]]\n"
     ]
    }
   ],
   "source": [
    "cm = confusion_matrix(y_test.argmax(axis=1), y_pred)\n",
    "print(cm)"
   ]
  },
  {
   "cell_type": "code",
   "execution_count": 17,
   "metadata": {},
   "outputs": [
    {
     "data": {
      "image/png": "[encoded data removed]",
      "text/plain": [
       "<Figure size 504x504 with 2 Axes>"
      ]
     },
     "metadata": {
      "needs_background": "light"
     },
     "output_type": "display_data"
    }
   ],
   "source": [
    "fig,ax= plt.subplots(figsize=(7,7))\n",
    "sns.heatmap(cm / (cm.astype(np.float).sum(axis=1, keepdims=True)), annot=True, fmt='.1%', cmap='Blues')\n",
    "ax.set_xlabel('Predicted', size=20);\n",
    "ax.set_ylabel('True', size=20);\n",
    "ax.set_title('Confusion Matrix', size=20);\n",
    "ax.xaxis.set_ticklabels(target_names, size=10); \\\n",
    "ax.yaxis.set_ticklabels(target_names, size=10);"
   ]
  },
  {
   "cell_type": "code",
   "execution_count": null,
   "metadata": {},
   "outputs": [],
   "source": []
  }
 ],
 "metadata": {
  "kernelspec": {
   "display_name": "Python 3",
   "language": "python",
   "name": "python3"
  },
  "language_info": {
   "codemirror_mode": {
    "name": "ipython",
    "version": 3
   },
   "file_extension": ".py",
   "mimetype": "text/x-python",
   "name": "python",
   "nbconvert_exporter": "python",
   "pygments_lexer": "ipython3",
   "version": "3.7.10"
  }
 },
 "nbformat": 4,
 "nbformat_minor": 2
}
