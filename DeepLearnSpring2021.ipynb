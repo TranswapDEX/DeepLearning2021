{
 "cells": [
  {
   "cell_type": "code",
   "execution_count": 1,
   "metadata": {},
   "outputs": [
    {
     "name": "stderr",
     "output_type": "stream",
     "text": [
      "Using TensorFlow backend.\n"
     ]
    }
   ],
   "source": [
    "import pandas as pd\n",
    "import numpy as np\n",
    "from keras.models import Sequential\n",
    "from keras.layers.core import Flatten, Dense, Dropout\n",
    "from keras.layers.convolutional import Convolution2D, MaxPooling2D, ZeroPadding2D\n",
    "from keras.optimizers import SGD\n",
    "import cv2\n",
    "import keras\n",
    "from keras.utils import np_utils\n",
    "from keras.utils.np_utils import to_categorical\n",
    "from sklearn.metrics import confusion_matrix\n",
    "import seaborn as sns\n",
    "from sklearn.model_selection import train_test_split"
   ]
  },
  {
   "cell_type": "code",
   "execution_count": 2,
   "metadata": {
    "scrolled": true
   },
   "outputs": [
    {
     "data": {
      "text/html": [
       "<div>\n",
       "<style scoped>\n",
       "    .dataframe tbody tr th:only-of-type {\n",
       "        vertical-align: middle;\n",
       "    }\n",
       "\n",
       "    .dataframe tbody tr th {\n",
       "        vertical-align: top;\n",
       "    }\n",
       "\n",
       "    .dataframe thead th {\n",
       "        text-align: right;\n",
       "    }\n",
       "</style>\n",
       "<table border=\"1\" class=\"dataframe\">\n",
       "  <thead>\n",
       "    <tr style=\"text-align: right;\">\n",
       "      <th></th>\n",
       "      <th>age</th>\n",
       "      <th>ethnicity</th>\n",
       "      <th>gender</th>\n",
       "      <th>img_name</th>\n",
       "      <th>pixels</th>\n",
       "    </tr>\n",
       "  </thead>\n",
       "  <tbody>\n",
       "    <tr>\n",
       "      <th>23695</th>\n",
       "      <td>96</td>\n",
       "      <td>0</td>\n",
       "      <td>1</td>\n",
       "      <td>20170110173805290.jpg.chip.jpg</td>\n",
       "      <td>133 136 154 153 165 142 140 157 163 141 152 15...</td>\n",
       "    </tr>\n",
       "    <tr>\n",
       "      <th>23696</th>\n",
       "      <td>99</td>\n",
       "      <td>0</td>\n",
       "      <td>0</td>\n",
       "      <td>20170117195137161.jpg.chip.jpg</td>\n",
       "      <td>0 0 0 0 0 0 0 0 0 0 0 0 0 0 0 0 0 0 0 0 0 0 0 ...</td>\n",
       "    </tr>\n",
       "    <tr>\n",
       "      <th>23697</th>\n",
       "      <td>99</td>\n",
       "      <td>0</td>\n",
       "      <td>1</td>\n",
       "      <td>20170113013141679.jpg.chip.jpg</td>\n",
       "      <td>114 127 154 173 188 196 212 217 217 207 195 19...</td>\n",
       "    </tr>\n",
       "    <tr>\n",
       "      <th>23698</th>\n",
       "      <td>99</td>\n",
       "      <td>0</td>\n",
       "      <td>1</td>\n",
       "      <td>20170120133837030.jpg.chip.jpg</td>\n",
       "      <td>234 229 217 187 205 210 217 204 183 166 169 16...</td>\n",
       "    </tr>\n",
       "    <tr>\n",
       "      <th>23699</th>\n",
       "      <td>99</td>\n",
       "      <td>0</td>\n",
       "      <td>1</td>\n",
       "      <td>20170120134718759.jpg.chip.jpg</td>\n",
       "      <td>206 183 141 116 117 120 110 103 104 111 111 11...</td>\n",
       "    </tr>\n",
       "    <tr>\n",
       "      <th>23700</th>\n",
       "      <td>99</td>\n",
       "      <td>0</td>\n",
       "      <td>1</td>\n",
       "      <td>20170120221920654.jpg.chip.jpg</td>\n",
       "      <td>127 100 94 81 77 77 74 99 102 98 128 145 160 1...</td>\n",
       "    </tr>\n",
       "    <tr>\n",
       "      <th>23701</th>\n",
       "      <td>99</td>\n",
       "      <td>1</td>\n",
       "      <td>1</td>\n",
       "      <td>20170120134639935.jpg.chip.jpg</td>\n",
       "      <td>23 28 32 35 42 47 68 85 98 103 113 117 130 129...</td>\n",
       "    </tr>\n",
       "    <tr>\n",
       "      <th>23702</th>\n",
       "      <td>99</td>\n",
       "      <td>2</td>\n",
       "      <td>1</td>\n",
       "      <td>20170110182418864.jpg.chip.jpg</td>\n",
       "      <td>59 50 37 40 34 19 30 101 156 170 177 184 187 1...</td>\n",
       "    </tr>\n",
       "    <tr>\n",
       "      <th>23703</th>\n",
       "      <td>99</td>\n",
       "      <td>2</td>\n",
       "      <td>1</td>\n",
       "      <td>20170117195405372.jpg.chip.jpg</td>\n",
       "      <td>45 108 120 156 206 197 140 180 191 199 204 207...</td>\n",
       "    </tr>\n",
       "    <tr>\n",
       "      <th>23704</th>\n",
       "      <td>99</td>\n",
       "      <td>0</td>\n",
       "      <td>1</td>\n",
       "      <td>20170110182052119.jpg.chip.jpg</td>\n",
       "      <td>156 161 160 165 170 173 166 177 183 191 187 18...</td>\n",
       "    </tr>\n",
       "  </tbody>\n",
       "</table>\n",
       "</div>"
      ],
      "text/plain": [
       "       age  ethnicity  gender                        img_name  \\\n",
       "23695   96          0       1  20170110173805290.jpg.chip.jpg   \n",
       "23696   99          0       0  20170117195137161.jpg.chip.jpg   \n",
       "23697   99          0       1  20170113013141679.jpg.chip.jpg   \n",
       "23698   99          0       1  20170120133837030.jpg.chip.jpg   \n",
       "23699   99          0       1  20170120134718759.jpg.chip.jpg   \n",
       "23700   99          0       1  20170120221920654.jpg.chip.jpg   \n",
       "23701   99          1       1  20170120134639935.jpg.chip.jpg   \n",
       "23702   99          2       1  20170110182418864.jpg.chip.jpg   \n",
       "23703   99          2       1  20170117195405372.jpg.chip.jpg   \n",
       "23704   99          0       1  20170110182052119.jpg.chip.jpg   \n",
       "\n",
       "                                                  pixels  \n",
       "23695  133 136 154 153 165 142 140 157 163 141 152 15...  \n",
       "23696  0 0 0 0 0 0 0 0 0 0 0 0 0 0 0 0 0 0 0 0 0 0 0 ...  \n",
       "23697  114 127 154 173 188 196 212 217 217 207 195 19...  \n",
       "23698  234 229 217 187 205 210 217 204 183 166 169 16...  \n",
       "23699  206 183 141 116 117 120 110 103 104 111 111 11...  \n",
       "23700  127 100 94 81 77 77 74 99 102 98 128 145 160 1...  \n",
       "23701  23 28 32 35 42 47 68 85 98 103 113 117 130 129...  \n",
       "23702  59 50 37 40 34 19 30 101 156 170 177 184 187 1...  \n",
       "23703  45 108 120 156 206 197 140 180 191 199 204 207...  \n",
       "23704  156 161 160 165 170 173 166 177 183 191 187 18...  "
      ]
     },
     "execution_count": 2,
     "metadata": {},
     "output_type": "execute_result"
    }
   ],
   "source": [
    "age_data = pd.read_csv('/Users/blakemyers/Desktop/age_gender.csv')\n",
    "age_data.tail(10)"
   ]
  },
  {
   "cell_type": "code",
   "execution_count": 3,
   "metadata": {},
   "outputs": [],
   "source": [
    "def label_age (row):\n",
    "    if row['age'] >= 0 and row['age'] < 11:\n",
    "        return 0\n",
    "    elif row['age'] > 10 and row['age'] < 21:\n",
    "        return 1\n",
    "    elif row['age'] > 20 and row['age'] < 31:\n",
    "        return 2\n",
    "    elif row['age'] > 30 and row['age'] < 41:\n",
    "        return 3\n",
    "    elif row['age'] > 40 and row['age'] < 51:\n",
    "        return 4\n",
    "    elif row['age'] > 50 and row['age'] < 61:\n",
    "        return 5\n",
    "    elif row['age'] > 60 and row['age'] < 71:\n",
    "        return 6\n",
    "    elif row['age'] > 70 and row['age'] < 81:\n",
    "        return 7\n",
    "    elif row['age'] > 80 and row['age'] < 91:\n",
    "        return 8\n",
    "    else:\n",
    "        return 9"
   ]
  },
  {
   "cell_type": "code",
   "execution_count": 4,
   "metadata": {},
   "outputs": [],
   "source": [
    "age_data['AgeGroup'] = age_data.apply (lambda row: label_age(row), axis=1)"
   ]
  },
  {
   "cell_type": "code",
   "execution_count": 5,
   "metadata": {},
   "outputs": [
    {
     "data": {
      "text/html": [
       "<div>\n",
       "<style scoped>\n",
       "    .dataframe tbody tr th:only-of-type {\n",
       "        vertical-align: middle;\n",
       "    }\n",
       "\n",
       "    .dataframe tbody tr th {\n",
       "        vertical-align: top;\n",
       "    }\n",
       "\n",
       "    .dataframe thead th {\n",
       "        text-align: right;\n",
       "    }\n",
       "</style>\n",
       "<table border=\"1\" class=\"dataframe\">\n",
       "  <thead>\n",
       "    <tr style=\"text-align: right;\">\n",
       "      <th></th>\n",
       "      <th>age</th>\n",
       "      <th>ethnicity</th>\n",
       "      <th>gender</th>\n",
       "      <th>img_name</th>\n",
       "      <th>pixels</th>\n",
       "      <th>AgeGroup</th>\n",
       "    </tr>\n",
       "  </thead>\n",
       "  <tbody>\n",
       "    <tr>\n",
       "      <th>0</th>\n",
       "      <td>1</td>\n",
       "      <td>2</td>\n",
       "      <td>0</td>\n",
       "      <td>20161219203650636.jpg.chip.jpg</td>\n",
       "      <td>129 128 128 126 127 130 133 135 139 142 145 14...</td>\n",
       "      <td>0</td>\n",
       "    </tr>\n",
       "    <tr>\n",
       "      <th>1</th>\n",
       "      <td>1</td>\n",
       "      <td>2</td>\n",
       "      <td>0</td>\n",
       "      <td>20161219222752047.jpg.chip.jpg</td>\n",
       "      <td>164 74 111 168 169 171 175 182 184 188 193 199...</td>\n",
       "      <td>0</td>\n",
       "    </tr>\n",
       "    <tr>\n",
       "      <th>2</th>\n",
       "      <td>1</td>\n",
       "      <td>2</td>\n",
       "      <td>0</td>\n",
       "      <td>20161219222832191.jpg.chip.jpg</td>\n",
       "      <td>67 70 71 70 69 67 70 79 90 103 116 132 145 155...</td>\n",
       "      <td>0</td>\n",
       "    </tr>\n",
       "    <tr>\n",
       "      <th>3</th>\n",
       "      <td>1</td>\n",
       "      <td>2</td>\n",
       "      <td>0</td>\n",
       "      <td>20161220144911423.jpg.chip.jpg</td>\n",
       "      <td>193 197 198 200 199 200 202 203 204 205 208 21...</td>\n",
       "      <td>0</td>\n",
       "    </tr>\n",
       "    <tr>\n",
       "      <th>4</th>\n",
       "      <td>1</td>\n",
       "      <td>2</td>\n",
       "      <td>0</td>\n",
       "      <td>20161220144914327.jpg.chip.jpg</td>\n",
       "      <td>202 205 209 210 209 209 210 211 212 214 218 21...</td>\n",
       "      <td>0</td>\n",
       "    </tr>\n",
       "  </tbody>\n",
       "</table>\n",
       "</div>"
      ],
      "text/plain": [
       "   age  ethnicity  gender                        img_name  \\\n",
       "0    1          2       0  20161219203650636.jpg.chip.jpg   \n",
       "1    1          2       0  20161219222752047.jpg.chip.jpg   \n",
       "2    1          2       0  20161219222832191.jpg.chip.jpg   \n",
       "3    1          2       0  20161220144911423.jpg.chip.jpg   \n",
       "4    1          2       0  20161220144914327.jpg.chip.jpg   \n",
       "\n",
       "                                              pixels  AgeGroup  \n",
       "0  129 128 128 126 127 130 133 135 139 142 145 14...         0  \n",
       "1  164 74 111 168 169 171 175 182 184 188 193 199...         0  \n",
       "2  67 70 71 70 69 67 70 79 90 103 116 132 145 155...         0  \n",
       "3  193 197 198 200 199 200 202 203 204 205 208 21...         0  \n",
       "4  202 205 209 210 209 209 210 211 212 214 218 21...         0  "
      ]
     },
     "execution_count": 5,
     "metadata": {},
     "output_type": "execute_result"
    }
   ],
   "source": [
    "age_data.head()"
   ]
  },
  {
   "cell_type": "code",
   "execution_count": 6,
   "metadata": {},
   "outputs": [],
   "source": [
    "n = len(pd.unique(age_data['age']))"
   ]
  },
  {
   "cell_type": "code",
   "execution_count": 7,
   "metadata": {},
   "outputs": [
    {
     "data": {
      "text/plain": [
       "104"
      ]
     },
     "execution_count": 7,
     "metadata": {},
     "output_type": "execute_result"
    }
   ],
   "source": [
    "n"
   ]
  },
  {
   "cell_type": "code",
   "execution_count": 8,
   "metadata": {
    "scrolled": true
   },
   "outputs": [
    {
     "data": {
      "text/plain": [
       "116"
      ]
     },
     "execution_count": 8,
     "metadata": {},
     "output_type": "execute_result"
    }
   ],
   "source": [
    "age_data[\"age\"].max()"
   ]
  },
  {
   "cell_type": "code",
   "execution_count": 9,
   "metadata": {},
   "outputs": [],
   "source": [
    "X = []\n",
    "y = []\n",
    "for index, row in age_data.iterrows():\n",
    "    k = row['pixels'].split(\" \")\n",
    "    X.append(np.array(k))\n",
    "    y.append(row['AgeGroup'])\n",
    "        \n",
    "X_train, X_test, y_train, y_test = train_test_split(X, y, test_size=0.2, random_state=1)"
   ]
  },
  {
   "cell_type": "code",
   "execution_count": 10,
   "metadata": {},
   "outputs": [],
   "source": [
    "X_train = np.array(X_train)\n",
    "y_train = np.array(y_train)\n",
    "X_test = np.array(X_test)\n",
    "y_test = np.array(y_test)\n",
    "\n",
    "X_train = X_train.reshape(X_train.shape[0], 48, 48, 1)\n",
    "X_test = X_test.reshape(X_test.shape[0], 48, 48, 1)\n",
    "\n",
    "y_train= np_utils.to_categorical(y_train, num_classes=10)\n",
    "y_test = np_utils.to_categorical(y_test, num_classes=10)"
   ]
  },
  {
   "cell_type": "code",
   "execution_count": 11,
   "metadata": {},
   "outputs": [],
   "source": [
    "model = Sequential()\n",
    "model.add(ZeroPadding2D((1,1),input_shape=(48,48,1)))\n",
    "model.add(Convolution2D(64, (3, 3), activation=\"relu\"))\n",
    "model.add(ZeroPadding2D((1,1)))\n",
    "model.add(Convolution2D(64, (3, 3), activation=\"relu\"))\n",
    "model.add(MaxPooling2D((2,2), strides=(2,2)))\n",
    "\n",
    "model.add(ZeroPadding2D((1,1)))\n",
    "model.add(Convolution2D(128, (3, 3), activation=\"relu\"))\n",
    "model.add(ZeroPadding2D((1,1)))\n",
    "model.add(Convolution2D(128, (3, 3), activation=\"relu\"))\n",
    "model.add(MaxPooling2D((2,2), strides=(2,2)))\n",
    "\n",
    "model.add(ZeroPadding2D((1,1)))\n",
    "model.add(Convolution2D(256, (3, 3), activation=\"relu\"))\n",
    "model.add(ZeroPadding2D((1,1)))\n",
    "model.add(Convolution2D(256, (3, 3), activation=\"relu\"))\n",
    "model.add(ZeroPadding2D((1,1)))\n",
    "model.add(Convolution2D(256, (3, 3), activation=\"relu\"))\n",
    "model.add(MaxPooling2D((2,2), strides=(2,2)))\n",
    "\n",
    "model.add(ZeroPadding2D((1,1)))\n",
    "model.add(Convolution2D(512, (3, 3), activation=\"relu\"))\n",
    "model.add(ZeroPadding2D((1,1)))\n",
    "model.add(Convolution2D(512, (3, 3), activation=\"relu\"))\n",
    "model.add(ZeroPadding2D((1,1)))\n",
    "model.add(Convolution2D(512, (3, 3), activation=\"relu\"))\n",
    "model.add(MaxPooling2D((2,2), strides=(2,2)))\n",
    "\n",
    "\n",
    "model.add(ZeroPadding2D((1,1)))\n",
    "model.add(Convolution2D(512, (3, 3), activation=\"relu\"))\n",
    "model.add(ZeroPadding2D((1,1)))\n",
    "model.add(Convolution2D(512, (3, 3), activation=\"relu\"))\n",
    "model.add(ZeroPadding2D((1,1)))\n",
    "model.add(Convolution2D(512, (3, 3), activation=\"relu\"))\n",
    "model.add(MaxPooling2D((2,2), strides=(2,2)))\n",
    "\n",
    "model.add(Flatten())\n",
    "model.add(Dense(4096, activation='relu'))\n",
    "model.add(Dropout(0.5))\n",
    "model.add(Dense(4096, activation='relu'))\n",
    "model.add(Dropout(0.5))\n",
    "model.add(Dense(10, activation='softmax'))"
   ]
  },
  {
   "cell_type": "code",
   "execution_count": 12,
   "metadata": {},
   "outputs": [],
   "source": [
    "model.compile(optimizer='sgd',loss='categorical_crossentropy',metrics=['accuracy'])"
   ]
  },
  {
   "cell_type": "code",
   "execution_count": 13,
   "metadata": {},
   "outputs": [
    {
     "name": "stdout",
     "output_type": "stream",
     "text": [
      "Train on 18964 samples, validate on 4741 samples\n",
      "Epoch 1/30\n",
      "18964/18964 [==============================] - 1384s 73ms/step - loss: 1.9280 - accuracy: 0.3277 - val_loss: 1.8577 - val_accuracy: 0.3501\n",
      "Epoch 2/30\n",
      "18964/18964 [==============================] - 1465s 77ms/step - loss: 1.6688 - accuracy: 0.4028 - val_loss: 1.5782 - val_accuracy: 0.4533\n",
      "Epoch 3/30\n",
      "18964/18964 [==============================] - 1406s 74ms/step - loss: 1.4720 - accuracy: 0.4594 - val_loss: 1.3503 - val_accuracy: 0.4902\n",
      "Epoch 4/30\n",
      "18964/18964 [==============================] - 1503s 79ms/step - loss: 1.3575 - accuracy: 0.4844 - val_loss: 1.2847 - val_accuracy: 0.5163\n",
      "Epoch 5/30\n",
      "18964/18964 [==============================] - 1478s 78ms/step - loss: 1.2688 - accuracy: 0.5089 - val_loss: 1.3251 - val_accuracy: 0.4803\n",
      "Epoch 6/30\n",
      "18964/18964 [==============================] - 1406s 74ms/step - loss: 1.2037 - accuracy: 0.5262 - val_loss: 1.1876 - val_accuracy: 0.5322\n",
      "Epoch 7/30\n",
      "18964/18964 [==============================] - 1413s 74ms/step - loss: 1.1489 - accuracy: 0.5426 - val_loss: 1.1603 - val_accuracy: 0.5410\n",
      "Epoch 8/30\n",
      "18964/18964 [==============================] - 1402s 74ms/step - loss: 1.0927 - accuracy: 0.5574 - val_loss: 1.1725 - val_accuracy: 0.5408\n",
      "Epoch 9/30\n",
      "18964/18964 [==============================] - 1462s 77ms/step - loss: 1.0417 - accuracy: 0.5739 - val_loss: 1.2167 - val_accuracy: 0.5482\n",
      "Epoch 10/30\n",
      "18964/18964 [==============================] - 1416s 75ms/step - loss: 0.9885 - accuracy: 0.5957 - val_loss: 1.1526 - val_accuracy: 0.5511\n",
      "Epoch 11/30\n",
      "18964/18964 [==============================] - 1512s 80ms/step - loss: 0.9376 - accuracy: 0.6116 - val_loss: 1.4747 - val_accuracy: 0.4136\n",
      "Epoch 12/30\n",
      "18964/18964 [==============================] - 1359s 72ms/step - loss: 0.8890 - accuracy: 0.6303 - val_loss: 1.1393 - val_accuracy: 0.5560\n",
      "Epoch 13/30\n",
      "18964/18964 [==============================] - 1425s 75ms/step - loss: 0.8284 - accuracy: 0.6580 - val_loss: 1.1506 - val_accuracy: 0.5493\n",
      "Epoch 14/30\n",
      "18964/18964 [==============================] - 1295s 68ms/step - loss: 0.7871 - accuracy: 0.6723 - val_loss: 1.2843 - val_accuracy: 0.5269\n",
      "Epoch 15/30\n",
      "18964/18964 [==============================] - 1301s 69ms/step - loss: 0.7378 - accuracy: 0.6965 - val_loss: 1.4397 - val_accuracy: 0.5372\n",
      "Epoch 16/30\n",
      "18964/18964 [==============================] - 1286s 68ms/step - loss: 0.6890 - accuracy: 0.7159 - val_loss: 1.4513 - val_accuracy: 0.4883\n",
      "Epoch 17/30\n",
      "18964/18964 [==============================] - 1268s 67ms/step - loss: 0.6439 - accuracy: 0.7364 - val_loss: 1.4988 - val_accuracy: 0.5180\n",
      "Epoch 18/30\n",
      "18964/18964 [==============================] - 1267s 67ms/step - loss: 0.5961 - accuracy: 0.7575 - val_loss: 1.6505 - val_accuracy: 0.5395\n",
      "Epoch 19/30\n",
      "18964/18964 [==============================] - 1272s 67ms/step - loss: 0.5651 - accuracy: 0.7739 - val_loss: 1.5179 - val_accuracy: 0.5497\n",
      "Epoch 20/30\n",
      "18964/18964 [==============================] - 1268s 67ms/step - loss: 0.5196 - accuracy: 0.7906 - val_loss: 1.6082 - val_accuracy: 0.5410\n",
      "Epoch 21/30\n",
      "18964/18964 [==============================] - 1267s 67ms/step - loss: 0.4734 - accuracy: 0.8120 - val_loss: 1.6687 - val_accuracy: 0.5457\n",
      "Epoch 22/30\n",
      "18964/18964 [==============================] - 1296s 68ms/step - loss: 0.4420 - accuracy: 0.8281 - val_loss: 1.6498 - val_accuracy: 0.5391\n",
      "Epoch 23/30\n",
      "18964/18964 [==============================] - 1275s 67ms/step - loss: 0.4093 - accuracy: 0.8375 - val_loss: 1.9174 - val_accuracy: 0.5313\n",
      "Epoch 24/30\n",
      "18964/18964 [==============================] - 1271s 67ms/step - loss: 0.3837 - accuracy: 0.8541 - val_loss: 2.0604 - val_accuracy: 0.5282\n",
      "Epoch 25/30\n",
      "18964/18964 [==============================] - 1269s 67ms/step - loss: 0.3483 - accuracy: 0.8672 - val_loss: 1.7806 - val_accuracy: 0.5429\n",
      "Epoch 26/30\n",
      "18964/18964 [==============================] - 1271s 67ms/step - loss: 0.3254 - accuracy: 0.8773 - val_loss: 2.2962 - val_accuracy: 0.5328\n",
      "Epoch 27/30\n",
      "18964/18964 [==============================] - 1270s 67ms/step - loss: 0.3022 - accuracy: 0.8891 - val_loss: 1.9752 - val_accuracy: 0.5402\n",
      "Epoch 28/30\n",
      "18964/18964 [==============================] - 1272s 67ms/step - loss: 0.2905 - accuracy: 0.8934 - val_loss: 2.0038 - val_accuracy: 0.5355\n",
      "Epoch 29/30\n",
      "18964/18964 [==============================] - 1270s 67ms/step - loss: 0.2703 - accuracy: 0.9020 - val_loss: 2.1415 - val_accuracy: 0.5393\n",
      "Epoch 30/30\n",
      "18964/18964 [==============================] - 1406s 74ms/step - loss: 0.2451 - accuracy: 0.9119 - val_loss: 2.2258 - val_accuracy: 0.5554\n"
     ]
    },
    {
     "data": {
      "text/plain": [
       "<keras.callbacks.callbacks.History at 0x7fcc4d0af9d0>"
      ]
     },
     "execution_count": 13,
     "metadata": {},
     "output_type": "execute_result"
    }
   ],
   "source": [
    "model.fit(X_train,y_train,batch_size=32,epochs=30,verbose=1,validation_data=(X_test, y_test))"
   ]
  },
  {
   "cell_type": "code",
   "execution_count": 14,
   "metadata": {},
   "outputs": [],
   "source": [
    "local_path = '/Users/blakemyers/Desktop/Jupyter/DeepLearning2021/TrainedModelSp21'\n",
    "model.save(local_path)"
   ]
  },
  {
   "cell_type": "code",
   "execution_count": 15,
   "metadata": {},
   "outputs": [],
   "source": [
    "y_pred=model.predict_classes(X_test)"
   ]
  },
  {
   "cell_type": "code",
   "execution_count": 16,
   "metadata": {},
   "outputs": [],
   "source": [
    "cm = confusion_matrix(y_test.argmax(axis=1), y_pred)"
   ]
  },
  {
   "cell_type": "code",
   "execution_count": 17,
   "metadata": {},
   "outputs": [
    {
     "data": {
      "text/plain": [
       "array([[ 581,   13,   22,    3,    1,    1,    1,    0,    1,    0],\n",
       "       [  66,  102,  167,   16,    1,    2,    0,    0,    1,    0],\n",
       "       [  12,   69, 1190,  262,   25,    9,    2,    1,    0,    0],\n",
       "       [   8,    9,  372,  335,  109,   46,    2,    0,    0,    0],\n",
       "       [   2,    4,   59,  133,  113,   69,    4,    0,    1,    0],\n",
       "       [   4,    4,   35,   64,  110,  181,   46,    9,    1,    0],\n",
       "       [   2,    0,    9,   18,   24,   93,   62,   25,    6,    0],\n",
       "       [   1,    1,    4,    5,    4,   35,   37,   40,    6,    0],\n",
       "       [   1,    0,    2,    1,    1,    7,   17,   27,   29,    0],\n",
       "       [   2,    0,    0,    0,    0,    2,    3,    2,    7,    0]])"
      ]
     },
     "execution_count": 17,
     "metadata": {},
     "output_type": "execute_result"
    }
   ],
   "source": [
    "cm"
   ]
  },
  {
   "cell_type": "code",
   "execution_count": 19,
   "metadata": {},
   "outputs": [],
   "source": [
    "import matplotlib.pyplot as plt"
   ]
  },
  {
   "cell_type": "code",
   "execution_count": 20,
   "metadata": {},
   "outputs": [
    {
     "data": {
      "image/png": "[encoded data removed]",
      "text/plain": [
       "<Figure size 720x720 with 2 Axes>"
      ]
     },
     "metadata": {
      "needs_background": "light"
     },
     "output_type": "display_data"
    }
   ],
   "source": [
    "fig,ax= plt.subplots(figsize=(10,10))\n",
    "sns.heatmap(cm / (cm.astype(np.float).sum(axis=1) + 1e-9), annot=False, ax=ax)\n",
    "ax.set_xlabel('Predicted', size=20);\n",
    "ax.set_ylabel('True', size=20);\n",
    "ax.set_title('Confusion Matrix', size=20);\n",
    "ax.xaxis.set_ticklabels(['1-10','11-20','21-30','31-40', '41-50', '51-60','61-70', '71-80', '81-90', '91-116'], size=9); \\\n",
    "ax.yaxis.set_ticklabels(['1-10','11-20','21-30','31-40', '41-50', '51-60','61-70', '71-80', '81-90', '91-116'], size=9);"
   ]
  },
  {
   "cell_type": "code",
   "execution_count": null,
   "metadata": {},
   "outputs": [],
   "source": []
  }
 ],
 "metadata": {
  "kernelspec": {
   "display_name": "Python 3",
   "language": "python",
   "name": "python3"
  },
  "language_info": {
   "codemirror_mode": {
    "name": "ipython",
    "version": 3
   },
   "file_extension": ".py",
   "mimetype": "text/x-python",
   "name": "python",
   "nbconvert_exporter": "python",
   "pygments_lexer": "ipython3",
   "version": "3.7.10"
  }
 },
 "nbformat": 4,
 "nbformat_minor": 2
}
