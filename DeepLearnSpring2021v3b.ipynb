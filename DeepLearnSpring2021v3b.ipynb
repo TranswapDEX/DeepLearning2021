{
 "cells": [
  {
   "cell_type": "code",
   "execution_count": 1,
   "metadata": {},
   "outputs": [
    {
     "name": "stderr",
     "output_type": "stream",
     "text": [
      "Using TensorFlow backend.\n"
     ]
    }
   ],
   "source": [
    "import pandas as pd\n",
    "import numpy as np\n",
    "from keras.models import Sequential\n",
    "from keras.layers.core import Flatten, Dense, Dropout\n",
    "from keras.layers.convolutional import Convolution2D, MaxPooling2D, ZeroPadding2D\n",
    "from keras.optimizers import SGD\n",
    "import cv2\n",
    "import keras\n",
    "from keras.utils import np_utils\n",
    "from keras.utils.np_utils import to_categorical\n",
    "from sklearn.metrics import confusion_matrix\n",
    "import seaborn as sns\n",
    "from sklearn.model_selection import train_test_split"
   ]
  },
  {
   "cell_type": "code",
   "execution_count": 2,
   "metadata": {
    "scrolled": true
   },
   "outputs": [
    {
     "data": {
      "text/html": [
       "<div>\n",
       "<style scoped>\n",
       "    .dataframe tbody tr th:only-of-type {\n",
       "        vertical-align: middle;\n",
       "    }\n",
       "\n",
       "    .dataframe tbody tr th {\n",
       "        vertical-align: top;\n",
       "    }\n",
       "\n",
       "    .dataframe thead th {\n",
       "        text-align: right;\n",
       "    }\n",
       "</style>\n",
       "<table border=\"1\" class=\"dataframe\">\n",
       "  <thead>\n",
       "    <tr style=\"text-align: right;\">\n",
       "      <th></th>\n",
       "      <th>age</th>\n",
       "      <th>ethnicity</th>\n",
       "      <th>gender</th>\n",
       "      <th>img_name</th>\n",
       "      <th>pixels</th>\n",
       "    </tr>\n",
       "  </thead>\n",
       "  <tbody>\n",
       "    <tr>\n",
       "      <th>0</th>\n",
       "      <td>1</td>\n",
       "      <td>2</td>\n",
       "      <td>0</td>\n",
       "      <td>20161219203650636.jpg.chip.jpg</td>\n",
       "      <td>129 128 128 126 127 130 133 135 139 142 145 14...</td>\n",
       "    </tr>\n",
       "    <tr>\n",
       "      <th>1</th>\n",
       "      <td>1</td>\n",
       "      <td>2</td>\n",
       "      <td>0</td>\n",
       "      <td>20161219222752047.jpg.chip.jpg</td>\n",
       "      <td>164 74 111 168 169 171 175 182 184 188 193 199...</td>\n",
       "    </tr>\n",
       "    <tr>\n",
       "      <th>2</th>\n",
       "      <td>1</td>\n",
       "      <td>2</td>\n",
       "      <td>0</td>\n",
       "      <td>20161219222832191.jpg.chip.jpg</td>\n",
       "      <td>67 70 71 70 69 67 70 79 90 103 116 132 145 155...</td>\n",
       "    </tr>\n",
       "  </tbody>\n",
       "</table>\n",
       "</div>"
      ],
      "text/plain": [
       "   age  ethnicity  gender                        img_name  \\\n",
       "0    1          2       0  20161219203650636.jpg.chip.jpg   \n",
       "1    1          2       0  20161219222752047.jpg.chip.jpg   \n",
       "2    1          2       0  20161219222832191.jpg.chip.jpg   \n",
       "\n",
       "                                              pixels  \n",
       "0  129 128 128 126 127 130 133 135 139 142 145 14...  \n",
       "1  164 74 111 168 169 171 175 182 184 188 193 199...  \n",
       "2  67 70 71 70 69 67 70 79 90 103 116 132 145 155...  "
      ]
     },
     "execution_count": 2,
     "metadata": {},
     "output_type": "execute_result"
    }
   ],
   "source": [
    "age_data = pd.read_csv('/Users/blakemyers/Desktop/age_gender.csv')\n",
    "age_data.head(3)"
   ]
  },
  {
   "cell_type": "code",
   "execution_count": 3,
   "metadata": {},
   "outputs": [],
   "source": [
    "def label_age (row):\n",
    "    if row['age'] > 0 and row['age'] < 6:\n",
    "        return 0\n",
    "    elif row['age'] > 5 and row['age'] < 13:\n",
    "        return 1\n",
    "    elif row['age'] > 12 and row['age'] < 21:\n",
    "        return 2\n",
    "    elif row['age'] > 20 and row['age'] < 36:\n",
    "        return 3\n",
    "    elif row['age'] > 35 and row['age'] < 51:\n",
    "        return 4\n",
    "    elif row['age'] > 50 and row['age'] < 71:\n",
    "        return 5\n",
    "    else:\n",
    "        return 6"
   ]
  },
  {
   "cell_type": "code",
   "execution_count": 4,
   "metadata": {},
   "outputs": [],
   "source": [
    "age_data['AgeGroup'] = age_data.apply (lambda row: label_age(row), axis=1)"
   ]
  },
  {
   "cell_type": "code",
   "execution_count": 5,
   "metadata": {},
   "outputs": [
    {
     "data": {
      "text/html": [
       "<div>\n",
       "<style scoped>\n",
       "    .dataframe tbody tr th:only-of-type {\n",
       "        vertical-align: middle;\n",
       "    }\n",
       "\n",
       "    .dataframe tbody tr th {\n",
       "        vertical-align: top;\n",
       "    }\n",
       "\n",
       "    .dataframe thead th {\n",
       "        text-align: right;\n",
       "    }\n",
       "</style>\n",
       "<table border=\"1\" class=\"dataframe\">\n",
       "  <thead>\n",
       "    <tr style=\"text-align: right;\">\n",
       "      <th></th>\n",
       "      <th>age</th>\n",
       "      <th>ethnicity</th>\n",
       "      <th>gender</th>\n",
       "      <th>img_name</th>\n",
       "      <th>pixels</th>\n",
       "      <th>AgeGroup</th>\n",
       "    </tr>\n",
       "  </thead>\n",
       "  <tbody>\n",
       "    <tr>\n",
       "      <th>0</th>\n",
       "      <td>1</td>\n",
       "      <td>2</td>\n",
       "      <td>0</td>\n",
       "      <td>20161219203650636.jpg.chip.jpg</td>\n",
       "      <td>129 128 128 126 127 130 133 135 139 142 145 14...</td>\n",
       "      <td>0</td>\n",
       "    </tr>\n",
       "    <tr>\n",
       "      <th>1</th>\n",
       "      <td>1</td>\n",
       "      <td>2</td>\n",
       "      <td>0</td>\n",
       "      <td>20161219222752047.jpg.chip.jpg</td>\n",
       "      <td>164 74 111 168 169 171 175 182 184 188 193 199...</td>\n",
       "      <td>0</td>\n",
       "    </tr>\n",
       "    <tr>\n",
       "      <th>2</th>\n",
       "      <td>1</td>\n",
       "      <td>2</td>\n",
       "      <td>0</td>\n",
       "      <td>20161219222832191.jpg.chip.jpg</td>\n",
       "      <td>67 70 71 70 69 67 70 79 90 103 116 132 145 155...</td>\n",
       "      <td>0</td>\n",
       "    </tr>\n",
       "  </tbody>\n",
       "</table>\n",
       "</div>"
      ],
      "text/plain": [
       "   age  ethnicity  gender                        img_name  \\\n",
       "0    1          2       0  20161219203650636.jpg.chip.jpg   \n",
       "1    1          2       0  20161219222752047.jpg.chip.jpg   \n",
       "2    1          2       0  20161219222832191.jpg.chip.jpg   \n",
       "\n",
       "                                              pixels  AgeGroup  \n",
       "0  129 128 128 126 127 130 133 135 139 142 145 14...         0  \n",
       "1  164 74 111 168 169 171 175 182 184 188 193 199...         0  \n",
       "2  67 70 71 70 69 67 70 79 90 103 116 132 145 155...         0  "
      ]
     },
     "execution_count": 5,
     "metadata": {},
     "output_type": "execute_result"
    }
   ],
   "source": [
    "age_data.head(3)"
   ]
  },
  {
   "cell_type": "code",
   "execution_count": 6,
   "metadata": {},
   "outputs": [],
   "source": [
    "n = len(pd.unique(age_data['age']))"
   ]
  },
  {
   "cell_type": "code",
   "execution_count": 7,
   "metadata": {},
   "outputs": [
    {
     "data": {
      "text/plain": [
       "104"
      ]
     },
     "execution_count": 7,
     "metadata": {},
     "output_type": "execute_result"
    }
   ],
   "source": [
    "n"
   ]
  },
  {
   "cell_type": "code",
   "execution_count": 8,
   "metadata": {
    "scrolled": true
   },
   "outputs": [
    {
     "data": {
      "text/plain": [
       "116"
      ]
     },
     "execution_count": 8,
     "metadata": {},
     "output_type": "execute_result"
    }
   ],
   "source": [
    "age_data[\"age\"].max()"
   ]
  },
  {
   "cell_type": "code",
   "execution_count": 9,
   "metadata": {},
   "outputs": [],
   "source": [
    "X = []\n",
    "y = []\n",
    "for index, row in age_data.iterrows():\n",
    "    k = row['pixels'].split(\" \")\n",
    "    X.append(np.array(k))\n",
    "    y.append(row['AgeGroup'])\n",
    "        \n",
    "X_train, X_test, y_train, y_test = train_test_split(X, y, test_size=0.2, random_state=1)"
   ]
  },
  {
   "cell_type": "code",
   "execution_count": 10,
   "metadata": {},
   "outputs": [],
   "source": [
    "X_train = np.array(X_train)\n",
    "y_train = np.array(y_train)\n",
    "X_test = np.array(X_test)\n",
    "y_test = np.array(y_test)\n",
    "\n",
    "X_train = X_train.reshape(X_train.shape[0], 48, 48, 1)\n",
    "X_test = X_test.reshape(X_test.shape[0], 48, 48, 1)\n",
    "\n",
    "y_train= np_utils.to_categorical(y_train, num_classes = 7)\n",
    "y_test = np_utils.to_categorical(y_test, num_classes = 7)"
   ]
  },
  {
   "cell_type": "code",
   "execution_count": 11,
   "metadata": {},
   "outputs": [],
   "source": [
    "model = Sequential()\n",
    "model.add(ZeroPadding2D((1,1),input_shape=(48,48,1)))\n",
    "model.add(Convolution2D(64, (3, 3), activation=\"relu\"))\n",
    "model.add(ZeroPadding2D((1,1)))\n",
    "model.add(Convolution2D(64, (3, 3), activation=\"relu\"))\n",
    "model.add(ZeroPadding2D((1,1)))\n",
    "model.add(Convolution2D(64, (3, 3), activation=\"relu\"))\n",
    "model.add(MaxPooling2D((2,2), strides=(2,2)))\n",
    "\n",
    "model.add(ZeroPadding2D((1,1)))\n",
    "model.add(Convolution2D(128, (3, 3), activation=\"relu\"))\n",
    "model.add(ZeroPadding2D((1,1)))\n",
    "model.add(Convolution2D(128, (3, 3), activation=\"relu\"))\n",
    "model.add(ZeroPadding2D((1,1)))\n",
    "model.add(Convolution2D(128, (3, 3), activation=\"relu\"))\n",
    "model.add(MaxPooling2D((2,2), strides=(2,2)))\n",
    "\n",
    "model.add(ZeroPadding2D((1,1)))\n",
    "model.add(Convolution2D(256, (3, 3), activation=\"relu\"))\n",
    "model.add(ZeroPadding2D((1,1)))\n",
    "model.add(Convolution2D(256, (3, 3), activation=\"relu\"))\n",
    "model.add(ZeroPadding2D((1,1)))\n",
    "model.add(Convolution2D(256, (3, 3), activation=\"relu\"))\n",
    "model.add(MaxPooling2D((2,2), strides=(2,2)))\n",
    "\n",
    "model.add(ZeroPadding2D((1,1)))\n",
    "model.add(Convolution2D(512, (3, 3), activation=\"relu\"))\n",
    "model.add(ZeroPadding2D((1,1)))\n",
    "model.add(Convolution2D(512, (3, 3), activation=\"relu\"))\n",
    "model.add(ZeroPadding2D((1,1)))\n",
    "model.add(Convolution2D(512, (3, 3), activation=\"relu\"))\n",
    "model.add(MaxPooling2D((2,2), strides=(2,2)))\n",
    "\n",
    "model.add(ZeroPadding2D((1,1)))\n",
    "model.add(Convolution2D(512, (3, 3), activation=\"relu\"))\n",
    "model.add(ZeroPadding2D((1,1)))\n",
    "model.add(Convolution2D(512, (3, 3), activation=\"relu\"))\n",
    "model.add(ZeroPadding2D((1,1)))\n",
    "model.add(Convolution2D(512, (3, 3), activation=\"relu\"))\n",
    "model.add(MaxPooling2D((2,2), strides=(2,2)))\n",
    "\n",
    "model.add(Flatten())\n",
    "model.add(Dense(4096, activation='relu'))\n",
    "model.add(Dropout(0.5))\n",
    "model.add(Dense(4096, activation='relu'))\n",
    "model.add(Dropout(0.5))\n",
    "model.add(Dense(7, activation='softmax'))"
   ]
  },
  {
   "cell_type": "code",
   "execution_count": 12,
   "metadata": {},
   "outputs": [],
   "source": [
    "model.compile(optimizer='sgd',loss='categorical_crossentropy',metrics=['accuracy'])"
   ]
  },
  {
   "cell_type": "code",
   "execution_count": 13,
   "metadata": {},
   "outputs": [
    {
     "name": "stdout",
     "output_type": "stream",
     "text": [
      "Train on 18964 samples, validate on 4741 samples\n",
      "Epoch 1/30\n",
      "18964/18964 [==============================] - 1478s 78ms/step - loss: 1.6406 - accuracy: 0.4300 - val_loss: 1.4987 - val_accuracy: 0.4666\n",
      "Epoch 2/30\n",
      "18964/18964 [==============================] - 1443s 76ms/step - loss: 1.4008 - accuracy: 0.4953 - val_loss: 1.2212 - val_accuracy: 0.5636\n",
      "Epoch 3/30\n",
      "18964/18964 [==============================] - 1440s 76ms/step - loss: 1.1847 - accuracy: 0.5584 - val_loss: 1.0734 - val_accuracy: 0.5965\n",
      "Epoch 4/30\n",
      "18964/18964 [==============================] - 1437s 76ms/step - loss: 1.0537 - accuracy: 0.5940 - val_loss: 0.9934 - val_accuracy: 0.6106\n",
      "Epoch 5/30\n",
      "18964/18964 [==============================] - 1438s 76ms/step - loss: 0.9644 - accuracy: 0.6219 - val_loss: 0.9891 - val_accuracy: 0.6176\n",
      "Epoch 6/30\n",
      "18964/18964 [==============================] - 1438s 76ms/step - loss: 0.9007 - accuracy: 0.6439 - val_loss: 0.9419 - val_accuracy: 0.6222\n",
      "Epoch 7/30\n",
      "18964/18964 [==============================] - 1440s 76ms/step - loss: 0.8390 - accuracy: 0.6635 - val_loss: 0.8856 - val_accuracy: 0.6456\n",
      "Epoch 8/30\n",
      "18964/18964 [==============================] - 1438s 76ms/step - loss: 0.7884 - accuracy: 0.6843 - val_loss: 0.9578 - val_accuracy: 0.6254\n",
      "Epoch 9/30\n",
      "18964/18964 [==============================] - 1426s 75ms/step - loss: 0.7374 - accuracy: 0.7009 - val_loss: 0.8646 - val_accuracy: 0.6648\n",
      "Epoch 10/30\n",
      "18964/18964 [==============================] - 1425s 75ms/step - loss: 0.6849 - accuracy: 0.7250 - val_loss: 0.8771 - val_accuracy: 0.6572\n",
      "Epoch 11/30\n",
      "18964/18964 [==============================] - 1422s 75ms/step - loss: 0.6388 - accuracy: 0.7413 - val_loss: 0.9609 - val_accuracy: 0.6233\n",
      "Epoch 12/30\n",
      "18964/18964 [==============================] - 1424s 75ms/step - loss: 0.5866 - accuracy: 0.7639 - val_loss: 0.9048 - val_accuracy: 0.6617\n",
      "Epoch 13/30\n",
      "18964/18964 [==============================] - 1424s 75ms/step - loss: 0.5510 - accuracy: 0.7797 - val_loss: 0.9893 - val_accuracy: 0.6644\n",
      "Epoch 14/30\n",
      "18964/18964 [==============================] - 1424s 75ms/step - loss: 0.4901 - accuracy: 0.8059 - val_loss: 1.0140 - val_accuracy: 0.6520\n",
      "Epoch 15/30\n",
      "18964/18964 [==============================] - 1427s 75ms/step - loss: 0.4493 - accuracy: 0.8216 - val_loss: 1.1055 - val_accuracy: 0.6195\n",
      "Epoch 16/30\n",
      "18964/18964 [==============================] - 1424s 75ms/step - loss: 0.4120 - accuracy: 0.8387 - val_loss: 1.1174 - val_accuracy: 0.6539\n",
      "Epoch 17/30\n",
      "18964/18964 [==============================] - 1424s 75ms/step - loss: 0.3679 - accuracy: 0.8584 - val_loss: 1.0700 - val_accuracy: 0.6454\n",
      "Epoch 18/30\n",
      "18964/18964 [==============================] - 1427s 75ms/step - loss: 0.3408 - accuracy: 0.8694 - val_loss: 1.1506 - val_accuracy: 0.6518\n",
      "Epoch 19/30\n",
      "18964/18964 [==============================] - 1426s 75ms/step - loss: 0.3086 - accuracy: 0.8837 - val_loss: 1.1458 - val_accuracy: 0.6260\n",
      "Epoch 20/30\n",
      "18964/18964 [==============================] - 1426s 75ms/step - loss: 0.2658 - accuracy: 0.9035 - val_loss: 1.5042 - val_accuracy: 0.5904\n",
      "Epoch 21/30\n",
      "18964/18964 [==============================] - 1423s 75ms/step - loss: 0.2335 - accuracy: 0.9187 - val_loss: 1.3546 - val_accuracy: 0.6646\n",
      "Epoch 22/30\n",
      "18964/18964 [==============================] - 1462s 77ms/step - loss: 0.2172 - accuracy: 0.9224 - val_loss: 1.2914 - val_accuracy: 0.6583\n",
      "Epoch 23/30\n",
      "18964/18964 [==============================] - 1503s 79ms/step - loss: 0.2031 - accuracy: 0.9269 - val_loss: 1.4043 - val_accuracy: 0.6551\n",
      "Epoch 24/30\n",
      "18964/18964 [==============================] - 1473s 78ms/step - loss: 0.1795 - accuracy: 0.9371 - val_loss: 1.4855 - val_accuracy: 0.6587\n",
      "Epoch 25/30\n",
      "18964/18964 [==============================] - 1429s 75ms/step - loss: 0.1625 - accuracy: 0.9460 - val_loss: 1.5882 - val_accuracy: 0.6442\n",
      "Epoch 26/30\n",
      "18964/18964 [==============================] - 1428s 75ms/step - loss: 0.1578 - accuracy: 0.9461 - val_loss: 1.4856 - val_accuracy: 0.6634\n",
      "Epoch 27/30\n",
      "18964/18964 [==============================] - 1437s 76ms/step - loss: 0.1274 - accuracy: 0.9574 - val_loss: 1.8302 - val_accuracy: 0.6627\n",
      "Epoch 28/30\n",
      "18964/18964 [==============================] - 1429s 75ms/step - loss: 0.1230 - accuracy: 0.9594 - val_loss: 1.8641 - val_accuracy: 0.6596\n",
      "Epoch 29/30\n",
      "18964/18964 [==============================] - 1429s 75ms/step - loss: 0.1176 - accuracy: 0.9624 - val_loss: 1.5501 - val_accuracy: 0.6676\n",
      "Epoch 30/30\n",
      "18964/18964 [==============================] - 1475s 78ms/step - loss: 0.0992 - accuracy: 0.9681 - val_loss: 1.6747 - val_accuracy: 0.6718\n"
     ]
    },
    {
     "data": {
      "text/plain": [
       "<keras.callbacks.callbacks.History at 0x7f8a5f9c4650>"
      ]
     },
     "execution_count": 13,
     "metadata": {},
     "output_type": "execute_result"
    }
   ],
   "source": [
    "model.fit(X_train,y_train,batch_size=32,epochs=30,verbose=1,validation_data=(X_test, y_test))"
   ]
  },
  {
   "cell_type": "code",
   "execution_count": 14,
   "metadata": {},
   "outputs": [],
   "source": [
    "local_path = '/Users/blakemyers/Desktop/Jupyter/DeepLearning2021/TrainedModelSp21v3b'\n",
    "model.save(local_path)"
   ]
  },
  {
   "cell_type": "code",
   "execution_count": 15,
   "metadata": {},
   "outputs": [],
   "source": [
    "y_pred=model.predict_classes(X_test)"
   ]
  },
  {
   "cell_type": "code",
   "execution_count": 16,
   "metadata": {},
   "outputs": [],
   "source": [
    "cm = confusion_matrix(y_test.argmax(axis=1), y_pred)"
   ]
  },
  {
   "cell_type": "code",
   "execution_count": 17,
   "metadata": {},
   "outputs": [
    {
     "data": {
      "text/plain": [
       "array([[ 431,   32,    0,   10,    1,    2,    0],\n",
       "       [  25,  110,   37,   21,    1,    1,    0],\n",
       "       [   2,   27,  101,  171,    3,    3,    0],\n",
       "       [   4,    2,   66, 1751,  205,   41,    3],\n",
       "       [   2,    0,    5,  356,  260,  138,    3],\n",
       "       [   0,    1,    2,   93,  117,  406,   74],\n",
       "       [   1,    0,    0,   11,    7,   89,  126]])"
      ]
     },
     "execution_count": 17,
     "metadata": {},
     "output_type": "execute_result"
    }
   ],
   "source": [
    "cm"
   ]
  },
  {
   "cell_type": "code",
   "execution_count": 18,
   "metadata": {},
   "outputs": [],
   "source": [
    "import matplotlib.pyplot as plt"
   ]
  },
  {
   "cell_type": "code",
   "execution_count": 19,
   "metadata": {},
   "outputs": [
    {
     "data": {
      "image/png": "[encoded data removed]",
      "text/plain": [
       "<Figure size 504x504 with 2 Axes>"
      ]
     },
     "metadata": {
      "needs_background": "light"
     },
     "output_type": "display_data"
    }
   ],
   "source": [
    "fig,ax= plt.subplots(figsize=(7,7))\n",
    "sns.heatmap(cm / (cm.astype(np.float).sum(axis=1) + 1e-9), annot=False, ax=ax)\n",
    "ax.set_xlabel('Predicted', size=20);\n",
    "ax.set_ylabel('True', size=20);\n",
    "ax.set_title('Confusion Matrix', size=20);\n",
    "ax.xaxis.set_ticklabels(['1-5','6-12','13-20','21-35', '36-50', '51-70','71-116'], size=9); \\\n",
    "ax.yaxis.set_ticklabels(['1-5','6-12','13-20','21-35', '36-50', '51-70','71-116'], size=9);"
   ]
  },
  {
   "cell_type": "code",
   "execution_count": null,
   "metadata": {},
   "outputs": [],
   "source": []
  }
 ],
 "metadata": {
  "kernelspec": {
   "display_name": "Python 3",
   "language": "python",
   "name": "python3"
  },
  "language_info": {
   "codemirror_mode": {
    "name": "ipython",
    "version": 3
   },
   "file_extension": ".py",
   "mimetype": "text/x-python",
   "name": "python",
   "nbconvert_exporter": "python",
   "pygments_lexer": "ipython3",
   "version": "3.7.10"
  }
 },
 "nbformat": 4,
 "nbformat_minor": 2
}
